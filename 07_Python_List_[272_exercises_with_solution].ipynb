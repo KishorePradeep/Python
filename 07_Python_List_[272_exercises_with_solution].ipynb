{
  "nbformat": 4,
  "nbformat_minor": 0,
  "metadata": {
    "colab": {
      "name": "Python List [272 exercises with solution].ipynb",
      "provenance": [],
      "authorship_tag": "ABX9TyOXTTYxLzHQnYOEJ4qySQoW",
      "include_colab_link": true
    },
    "kernelspec": {
      "name": "python3",
      "display_name": "Python 3"
    },
    "language_info": {
      "name": "python"
    }
  },
  "cells": [
    {
      "cell_type": "markdown",
      "metadata": {
        "id": "view-in-github",
        "colab_type": "text"
      },
      "source": [
        "<a href=\"https://colab.research.google.com/github/KishorePradeep/Python/blob/master/07_Python_List_%5B272_exercises_with_solution%5D.ipynb\" target=\"_parent\"><img src=\"https://colab.research.google.com/assets/colab-badge.svg\" alt=\"Open In Colab\"/></a>"
      ]
    },
    {
      "cell_type": "code",
      "metadata": {
        "id": "8gj7xrIU1auv"
      },
      "source": [
        ""
      ],
      "execution_count": null,
      "outputs": []
    },
    {
      "cell_type": "markdown",
      "source": [
        "3. Write a Python program to get the largest number from a list. "
      ],
      "metadata": {
        "id": "AoZFZ_87orxe"
      }
    },
    {
      "cell_type": "markdown",
      "source": [
        " Write a Python program to sum all the items in a list"
      ],
      "metadata": {
        "id": "5gTR9WgI8oeD"
      }
    },
    {
      "cell_type": "code",
      "source": [
        "s=[1,2,3,4,5,6,7,8,9]\n",
        "\n",
        "print((len(s)/2)*(s[0]+len(s)))\n",
        "\n",
        "# n/2 x (a + Tn)\n",
        "\n",
        "# address the formula, input parameters & values.\n",
        "# Input parameters & values:\n",
        "# The number series 1, 2, 3, 4, 5.\n",
        "# The first term a = 1\n",
        "# The common difference d = 1\n",
        "# Total number of terms n = 5"
      ],
      "metadata": {
        "id": "agjd7KfJ8qGG",
        "outputId": "cf0e2bc9-c890-4811-a574-8a3858e7b72e",
        "colab": {
          "base_uri": "https://localhost:8080/"
        }
      },
      "execution_count": null,
      "outputs": [
        {
          "output_type": "stream",
          "name": "stdout",
          "text": [
            "45.0\n"
          ]
        }
      ]
    },
    {
      "cell_type": "markdown",
      "source": [
        "2. Write a Python program to multiply all the items in a list"
      ],
      "metadata": {
        "id": "D3jV0BFp97Lb"
      }
    },
    {
      "cell_type": "code",
      "source": [
        "s=[1,2,3,4,5,7,8,9]\n",
        "y=0\n",
        "\n",
        "for i in range(0,len(s)):\n",
        "  y=s[i]+y\n",
        "  i+=1\n",
        "\n",
        "print(y)\n",
        "\n",
        "\n",
        "\n"
      ],
      "metadata": {
        "id": "QuNMifwq9-Ej",
        "outputId": "0cb11ddf-6aa7-4572-f28f-cf0d44c864cf",
        "colab": {
          "base_uri": "https://localhost:8080/"
        }
      },
      "execution_count": null,
      "outputs": [
        {
          "output_type": "stream",
          "name": "stdout",
          "text": [
            "39\n"
          ]
        }
      ]
    },
    {
      "cell_type": "markdown",
      "source": [
        "3. Write a Python program to get the largest number from a list."
      ],
      "metadata": {
        "id": "2nsWnf-r-pZf"
      }
    },
    {
      "cell_type": "markdown",
      "source": [
        "3. Write a Python program to get the largest number from a list. "
      ],
      "metadata": {
        "id": "ZqniSzDzouNB"
      }
    },
    {
      "cell_type": "code",
      "source": [
        "s=[1,2,3,4,59,4,5,6,7 ]\n",
        "\n",
        "s.sort()\n",
        "\n",
        "print(s[-1])"
      ],
      "metadata": {
        "id": "5klRPKNpour8",
        "outputId": "4ea4446d-02ea-4f35-87f6-7fb0e29eba78",
        "colab": {
          "base_uri": "https://localhost:8080/"
        }
      },
      "execution_count": 1,
      "outputs": [
        {
          "output_type": "stream",
          "name": "stdout",
          "text": [
            "59\n"
          ]
        }
      ]
    }
  ]
}