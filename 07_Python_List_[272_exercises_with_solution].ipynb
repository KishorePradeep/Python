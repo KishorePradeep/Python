{
  "nbformat": 4,
  "nbformat_minor": 0,
  "metadata": {
    "colab": {
      "name": "Python List [272 exercises with solution].ipynb",
      "provenance": [],
      "authorship_tag": "ABX9TyNHX3PiSfE6AbYSujttRMA5",
      "include_colab_link": true
    },
    "kernelspec": {
      "name": "python3",
      "display_name": "Python 3"
    },
    "language_info": {
      "name": "python"
    }
  },
  "cells": [
    {
      "cell_type": "markdown",
      "metadata": {
        "id": "view-in-github",
        "colab_type": "text"
      },
      "source": [
        "<a href=\"https://colab.research.google.com/github/KishorePradeep/Python/blob/master/07_Python_List_%5B272_exercises_with_solution%5D.ipynb\" target=\"_parent\"><img src=\"https://colab.research.google.com/assets/colab-badge.svg\" alt=\"Open In Colab\"/></a>"
      ]
    },
    {
      "cell_type": "markdown",
      "source": [
        "9. Write a Python program to clone or copy a list"
      ],
      "metadata": {
        "id": "EZz1WycEps18"
      }
    },
    {
      "cell_type": "code",
      "source": [
        "s=[1,2,3,4,5,6,7,8,9]\n",
        "\n",
        "y=s\n",
        "\n",
        "print(y)"
      ],
      "metadata": {
        "colab": {
          "base_uri": "https://localhost:8080/"
        },
        "id": "LqaqY8atptwJ",
        "outputId": "7b9e3347-e67a-4ef4-e023-51d3123dd1e5"
      },
      "execution_count": 1,
      "outputs": [
        {
          "output_type": "stream",
          "name": "stdout",
          "text": [
            "[1, 2, 3, 4, 5, 6, 7, 8, 9]\n"
          ]
        }
      ]
    },
    {
      "cell_type": "markdown",
      "source": [
        ""
      ],
      "metadata": {
        "id": "BrNbx2oRqHgm"
      }
    },
    {
      "cell_type": "markdown",
      "source": [
        ""
      ],
      "metadata": {
        "id": "Fvu9KSD1pq-a"
      }
    },
    {
      "cell_type": "markdown",
      "source": [
        "3. Write a Python program to get the largest number from a list. "
      ],
      "metadata": {
        "id": "AoZFZ_87orxe"
      }
    },
    {
      "cell_type": "markdown",
      "source": [
        " Write a Python program to sum all the items in a list"
      ],
      "metadata": {
        "id": "5gTR9WgI8oeD"
      }
    },
    {
      "cell_type": "code",
      "source": [
        "s=[1,2,3,4,5,6,7,8,9]\n",
        "\n",
        "print((len(s)/2)*(s[0]+len(s)))\n",
        "\n",
        "# n/2 x (a + Tn)\n",
        "\n",
        "# address the formula, input parameters & values.\n",
        "# Input parameters & values:\n",
        "# The number series 1, 2, 3, 4, 5.\n",
        "# The first term a = 1\n",
        "# The common difference d = 1\n",
        "# Total number of terms n = 5"
      ],
      "metadata": {
        "id": "agjd7KfJ8qGG",
        "outputId": "cf0e2bc9-c890-4811-a574-8a3858e7b72e",
        "colab": {
          "base_uri": "https://localhost:8080/"
        }
      },
      "execution_count": null,
      "outputs": [
        {
          "output_type": "stream",
          "name": "stdout",
          "text": [
            "45.0\n"
          ]
        }
      ]
    },
    {
      "cell_type": "markdown",
      "source": [
        "2. Write a Python program to multiply all the items in a list"
      ],
      "metadata": {
        "id": "D3jV0BFp97Lb"
      }
    },
    {
      "cell_type": "code",
      "source": [
        "s=[1,2,3,4,5,7,8,9]\n",
        "y=0\n",
        "\n",
        "for i in range(0,len(s)):\n",
        "  y=s[i]+y\n",
        "  i+=1\n",
        "\n",
        "print(y)\n",
        "\n",
        "\n",
        "\n"
      ],
      "metadata": {
        "id": "QuNMifwq9-Ej",
        "outputId": "0cb11ddf-6aa7-4572-f28f-cf0d44c864cf",
        "colab": {
          "base_uri": "https://localhost:8080/"
        }
      },
      "execution_count": null,
      "outputs": [
        {
          "output_type": "stream",
          "name": "stdout",
          "text": [
            "39\n"
          ]
        }
      ]
    },
    {
      "cell_type": "markdown",
      "source": [
        "3. Write a Python program to get the largest number from a list."
      ],
      "metadata": {
        "id": "2nsWnf-r-pZf"
      }
    },
    {
      "cell_type": "markdown",
      "source": [
        "3. Write a Python program to get the largest number from a list. "
      ],
      "metadata": {
        "id": "ZqniSzDzouNB"
      }
    },
    {
      "cell_type": "code",
      "source": [
        "s=[1,2,3,4,59,4,5,6,7 ]\n",
        "\n",
        "s.sort()\n",
        "\n",
        "print(s[-1])"
      ],
      "metadata": {
        "id": "5klRPKNpour8",
        "outputId": "4ea4446d-02ea-4f35-87f6-7fb0e29eba78",
        "colab": {
          "base_uri": "https://localhost:8080/"
        }
      },
      "execution_count": null,
      "outputs": [
        {
          "output_type": "stream",
          "name": "stdout",
          "text": [
            "59\n"
          ]
        }
      ]
    },
    {
      "cell_type": "markdown",
      "source": [
        "4. Write a Python program to get the smallest number from a list\n",
        "\n"
      ],
      "metadata": {
        "id": "PnQAsCiiI14h"
      }
    },
    {
      "cell_type": "code",
      "source": [
        "s=[1,2,3,4,59,4,5,6,7 ]\n",
        "\n",
        "s.sort()\n",
        "\n",
        "print(s[0])"
      ],
      "metadata": {
        "colab": {
          "base_uri": "https://localhost:8080/"
        },
        "id": "oeY-bhSGI5zv",
        "outputId": "7868a933-0728-471e-c58b-29cc75cf4ccb"
      },
      "execution_count": null,
      "outputs": [
        {
          "output_type": "stream",
          "name": "stdout",
          "text": [
            "1\n"
          ]
        }
      ]
    },
    {
      "cell_type": "markdown",
      "source": [
        "5. Write a Python program to count the number of strings where the string length is 2 or more and the first and last character are same from a given list of strings. Go to the editor\n",
        "Sample List : ['abc', 'xyz', 'aba', '1221']\n",
        "Expected Result : 2"
      ],
      "metadata": {
        "id": "wENDnaX3JLH5"
      }
    },
    {
      "cell_type": "code",
      "source": [
        "s=['abc', 'xyz', 'aba', '1221']\n",
        "t=[]\n",
        "\n",
        "for i in s:\n",
        "  if len(i)>=2 and i[0]==i[-1]:\n",
        "    t.append(i)\n",
        "\n",
        "print(len(t) )\n",
        "print(t)\n"
      ],
      "metadata": {
        "colab": {
          "base_uri": "https://localhost:8080/"
        },
        "id": "md_OLVABJNmm",
        "outputId": "d4ea7fdd-2a10-46a6-ce8c-bb4e758e3f70"
      },
      "execution_count": null,
      "outputs": [
        {
          "output_type": "stream",
          "name": "stdout",
          "text": [
            "2\n",
            "['aba', '1221']\n"
          ]
        }
      ]
    },
    {
      "cell_type": "markdown",
      "source": [
        "6. Write a Python program to get a list, sorted in increasing order by the last element in each tuple from a given list of non-empty tuples. \n",
        "\n",
        "Sample List : [(2, 5), (1, 2), (4, 4), (2, 3), (2, 1)]\n",
        "\n",
        "Expected Result : [(2, 1), (1, 2), (2, 3), (4, 4), (2, 5)]"
      ],
      "metadata": {
        "id": "6JQ7G84ctLmf"
      }
    },
    {
      "cell_type": "code",
      "source": [
        "def last(n): \n",
        "  return n[1]\n",
        "\n",
        "def sort_list_last(tuples):\n",
        "  return sorted(tuples, key=last)\n",
        "\n",
        "print(sort_list_last([(2, 5), (1, 2), (4, 4), (2, 3), (2, 1)]))"
      ],
      "metadata": {
        "colab": {
          "base_uri": "https://localhost:8080/"
        },
        "id": "aE6CuD3gJtj3",
        "outputId": "0a9e5e49-2fba-4fa3-9635-994ace49f199"
      },
      "execution_count": null,
      "outputs": [
        {
          "output_type": "stream",
          "name": "stdout",
          "text": [
            "[(2, 1), (1, 2), (2, 3), (4, 4), (2, 5)]\n"
          ]
        }
      ]
    },
    {
      "cell_type": "markdown",
      "source": [
        "7. Write a Python program to remove duplicates from a list."
      ],
      "metadata": {
        "id": "bU6d6bdaWQvZ"
      }
    },
    {
      "cell_type": "code",
      "source": [
        "s=[1,2,3,4,5,6,6,6,7]\n",
        "\n",
        "list(set(s))"
      ],
      "metadata": {
        "colab": {
          "base_uri": "https://localhost:8080/"
        },
        "id": "sIUcdK5ntrZJ",
        "outputId": "f709599e-4985-4823-c7c1-a4a23e12a76a"
      },
      "execution_count": null,
      "outputs": [
        {
          "output_type": "execute_result",
          "data": {
            "text/plain": [
              "[1, 2, 3, 4, 5, 6, 7]"
            ]
          },
          "metadata": {},
          "execution_count": 1
        }
      ]
    },
    {
      "cell_type": "code",
      "source": [
        ""
      ],
      "metadata": {
        "id": "mznJ47P0WZca"
      },
      "execution_count": null,
      "outputs": []
    },
    {
      "cell_type": "markdown",
      "source": [
        "8. Write a Python program to check a list is empty or not."
      ],
      "metadata": {
        "id": "5B0jxL4H8BHe"
      }
    },
    {
      "cell_type": "code",
      "source": [
        "s=[]\n",
        "\n",
        "if len(s):\n",
        "  print(True)\n",
        "else:\n",
        "  print(False)"
      ],
      "metadata": {
        "colab": {
          "base_uri": "https://localhost:8080/"
        },
        "id": "-VueLeic8EZ4",
        "outputId": "73f6da99-2104-4fc2-e6bc-a24b9b44c5dd"
      },
      "execution_count": null,
      "outputs": [
        {
          "output_type": "stream",
          "name": "stdout",
          "text": [
            "False\n"
          ]
        }
      ]
    },
    {
      "cell_type": "code",
      "source": [
        "address = \"1.1.1.1\"\n",
        "addressy=list(address)\n",
        "y=[]\n",
        "\n",
        "for i in addressy:\n",
        "  if i=='.':\n",
        "    y.append('[.]')\n",
        "    print(i) \n",
        "  else:\n",
        "    print(i)\n",
        "    y.append(i)\n",
        "        \n",
        "print(\"\".join(y))"
      ],
      "metadata": {
        "id": "VKTPcrA7bxav",
        "outputId": "7ebea1fb-28e8-465b-acb5-60ebec209103",
        "colab": {
          "base_uri": "https://localhost:8080/"
        }
      },
      "execution_count": null,
      "outputs": [
        {
          "output_type": "stream",
          "name": "stdout",
          "text": [
            "1\n",
            ".\n",
            "1\n",
            ".\n",
            "1\n",
            ".\n",
            "1\n",
            "1[.]1[.]1[.]1\n"
          ]
        }
      ]
    },
    {
      "cell_type": "markdown",
      "source": [
        "10. Write a Python program to find the list of words that are longer than n from a given list of words"
      ],
      "metadata": {
        "id": "9Aion9HMqJm6"
      }
    },
    {
      "cell_type": "code",
      "source": [
        "def found(l,n):\n",
        "\n",
        "  s=[]\n",
        "\n",
        "  for i in l:\n",
        "    if len(i)>=n:\n",
        "      s.append(i)\n",
        "\n",
        "  return s\n",
        "\n",
        "\n",
        "\n",
        "print(found(['quick', 'brown', 'jumps', 'over', 'lazy','olayolay'],5))"
      ],
      "metadata": {
        "colab": {
          "base_uri": "https://localhost:8080/"
        },
        "id": "6ZzPn3lnqK9l",
        "outputId": "6bbf2c6a-2a1b-4a47-8b81-eb29e8be8de6"
      },
      "execution_count": 4,
      "outputs": [
        {
          "output_type": "stream",
          "name": "stdout",
          "text": [
            "['quick', 'brown', 'jumps', 'olayolay']\n"
          ]
        }
      ]
    },
    {
      "cell_type": "markdown",
      "source": [
        "11. Write a Python function that takes two lists and returns True if they have at least one common member."
      ],
      "metadata": {
        "id": "-P_PQflcrCUh"
      }
    },
    {
      "cell_type": "code",
      "source": [
        "def checked(l,m):\n",
        "  \n",
        "  for i in l:\n",
        "    if i in m:\n",
        "      return True\n",
        "\n",
        "  return False\n",
        "\n",
        "print(checked([1,2,3,4,5,6,6,6,7],[0,5,0]))"
      ],
      "metadata": {
        "id": "bOz840WwrDPB",
        "outputId": "295bfc81-3bf4-4eeb-bbd5-4156e2652d5f",
        "colab": {
          "base_uri": "https://localhost:8080/"
        }
      },
      "execution_count": 6,
      "outputs": [
        {
          "output_type": "stream",
          "name": "stdout",
          "text": [
            "True\n"
          ]
        }
      ]
    }
  ]
}