{
  "nbformat": 4,
  "nbformat_minor": 0,
  "metadata": {
    "kernelspec": {
      "display_name": "Python 3",
      "language": "python",
      "name": "python3"
    },
    "language_info": {
      "codemirror_mode": {
        "name": "ipython",
        "version": 3
      },
      "file_extension": ".py",
      "mimetype": "text/x-python",
      "name": "python",
      "nbconvert_exporter": "python",
      "pygments_lexer": "ipython3",
      "version": "3.7.4"
    },
    "colab": {
      "name": "Python basic (Part -I) [150 exercises with solution]-checkpoint.ipynb",
      "provenance": []
    }
  },
  "cells": [
    {
      "cell_type": "markdown",
      "metadata": {
        "id": "EPMoHf_NnLAt"
      },
      "source": [
        "1. Write a Python program to print the following string in a specific format (see the output). Go to the editor\n",
        "Sample String : \"Twinkle, twinkle, little star, How I wonder what you are! How I wonder what you are!, Like a diamond in the sky. Twinkle, twinkle, little star, How I wonder what you are\" Output :\n",
        "\n",
        "Twinkle, twinkle, little star,\n",
        "\tHow I wonder what you are! \n",
        "\t\tUp above the world so high,   \t\t\n",
        "\t\tLike a diamond in the sky. \n",
        "Twinkle, twinkle, little star, \n",
        "\tHow I wonder what you are"
      ]
    },
    {
      "cell_type": "code",
      "metadata": {
        "id": "Aq0tJpRZnLAw",
        "outputId": "bd46ac64-79e8-4740-944a-2775842295a8"
      },
      "source": [
        "print(\"Twinkle, twinkle, little star,\\n\\tHow I wonder what you are! \\n\\t\\tUp above the world so high, \\n\\t\\tLike a diamond in the sky. \\nTwinkle, twinkle, little star, \\n\\tHow I wonder what you are\")"
      ],
      "execution_count": null,
      "outputs": [
        {
          "name": "stdout",
          "output_type": "stream",
          "text": [
            "Twinkle, twinkle, little star,\n",
            "\tHow I wonder what you are! \n",
            "\t\tUp above the world so high, \n",
            "\t\tLike a diamond in the sky. \n",
            "Twinkle, twinkle, little star, \n",
            "\tHow I wonder what you are\n"
          ]
        }
      ]
    },
    {
      "cell_type": "markdown",
      "metadata": {
        "id": "OxWBPDhznLAy"
      },
      "source": [
        "2. Write a Python program to get the Python version you are using"
      ]
    },
    {
      "cell_type": "code",
      "metadata": {
        "colab": {
          "base_uri": "https://localhost:8080/"
        },
        "id": "aqbc-M3anLAy",
        "outputId": "1fc5996d-1b54-49e0-8f26-2396a76f13d2"
      },
      "source": [
        "import sys \n",
        "print (sys.version)"
      ],
      "execution_count": null,
      "outputs": [
        {
          "output_type": "stream",
          "name": "stdout",
          "text": [
            "3.7.12 (default, Sep 10 2021, 00:21:48) \n",
            "[GCC 7.5.0]\n"
          ]
        }
      ]
    },
    {
      "cell_type": "markdown",
      "metadata": {
        "id": "akgX3qilnLAz"
      },
      "source": [
        "3. Write a Python program to display the current date and time.\n",
        "Sample Output :\n",
        "Current date and time :\n",
        "2014-07-05 14:34:14"
      ]
    },
    {
      "cell_type": "code",
      "metadata": {
        "id": "cQYpPiNbnLAz",
        "outputId": "3b4de155-e2e4-4d83-a5ee-53e470e0b0c0"
      },
      "source": [
        "import datetime\n",
        "print(datetime.datetime.today())\n",
        "print (\"Current date and time : \")\n",
        "print (datetime.datetime.today().strftime(\"%Y-%m-%d %H:%M:%S\"))"
      ],
      "execution_count": null,
      "outputs": [
        {
          "name": "stdout",
          "output_type": "stream",
          "text": [
            "2021-09-26 19:43:27.614270\n",
            "Current date and time : \n",
            "2021-09-26 19:43:27\n"
          ]
        }
      ]
    },
    {
      "cell_type": "markdown",
      "metadata": {
        "id": "zYnUVgaCnLA0"
      },
      "source": [
        "5. Write a Python program which accepts the user's first and last name and print them in reverse order with a space between them."
      ]
    },
    {
      "cell_type": "code",
      "metadata": {
        "colab": {
          "base_uri": "https://localhost:8080/"
        },
        "id": "-Jn-dcQjnLA1",
        "outputId": "24daf122-d5e5-4fe8-ffee-10d5b33281a5"
      },
      "source": [
        "print(\"Kishore\")\n",
        "\n",
        "l=\"Kishore\"\n",
        "\n",
        "print(l[::-1])"
      ],
      "execution_count": null,
      "outputs": [
        {
          "output_type": "stream",
          "name": "stdout",
          "text": [
            "Kishore\n",
            "erohsiK\n"
          ]
        }
      ]
    },
    {
      "cell_type": "markdown",
      "metadata": {
        "id": "TiZuSyzSoO9L"
      },
      "source": [
        "6. Write a Python program which accepts a sequence of comma-separated numbers from user and generate a list and a tuple with those numbers.\n",
        "\n",
        "Sample data : 3, 5, 7, 23\n",
        "Output :\n",
        "List : ['3', ' 5', ' 7', ' 23']\n",
        "Tuple : ('3', ' 5', ' 7', ' 23')"
      ]
    },
    {
      "cell_type": "code",
      "metadata": {
        "id": "Ka4Vv7ZzoUrp",
        "outputId": "aa98d09d-f386-4b65-8283-ddeac4f1eb77",
        "colab": {
          "base_uri": "https://localhost:8080/"
        }
      },
      "source": [
        "values=input(\"gimme some nos with commas\")\n",
        "print(values)\n",
        "l=values.split(',')\n",
        "v=tuple(l)\n",
        "print(\"list : \",l)\n",
        "print(\"tuple: \",v)"
      ],
      "execution_count": 4,
      "outputs": [
        {
          "output_type": "stream",
          "name": "stdout",
          "text": [
            "gimme some nos with commas1,4,5,7,8,9,0\n",
            "1,4,5,7,8,9,0\n",
            "list :  ['1', '4', '5', '7', '8', '9', '0']\n",
            "tuple:  ('1', '4', '5', '7', '8', '9', '0')\n"
          ]
        }
      ]
    },
    {
      "cell_type": "markdown",
      "metadata": {
        "id": "WVC_b7x9qNXK"
      },
      "source": [
        "7. Write a Python program to accept a filename from the user and print the extension of that\n",
        "\n",
        "Sample filename : abc.java\n",
        "\n",
        "Output : java"
      ]
    },
    {
      "cell_type": "code",
      "metadata": {
        "id": "CSSaCMw0qNIw",
        "outputId": "25279934-8bb9-4835-e0aa-545dd6d80fd1",
        "colab": {
          "base_uri": "https://localhost:8080/"
        }
      },
      "source": [
        "s=input(\"gimme filename with dot\")\n",
        "t=s.split('.')\n",
        "print(\"ext is \",t[1])"
      ],
      "execution_count": 9,
      "outputs": [
        {
          "output_type": "stream",
          "name": "stdout",
          "text": [
            "gimme filename with dotdkkfdghf.txt\n",
            "ext is  txt\n"
          ]
        }
      ]
    },
    {
      "cell_type": "markdown",
      "metadata": {
        "id": "jYnkmuZvt75T"
      },
      "source": [
        "8. Write a Python program to display the first and last colors from the following list\n",
        "color_list = [\"Red\",\"Green\",\"White\" ,\"Black\"]\n"
      ]
    },
    {
      "cell_type": "code",
      "metadata": {
        "id": "GdwTMclXpsN9",
        "outputId": "a20114c6-62b6-46c1-f6aa-ed0a64645afd",
        "colab": {
          "base_uri": "https://localhost:8080/"
        }
      },
      "source": [
        "color_list = [\"Red\",\"Green\",\"White\" ,\"Black\"]\n",
        "\n",
        "print(\"first : \",color_list[0])\n",
        "print(\"last : \" , color_list[len(color_list)-1])"
      ],
      "execution_count": 10,
      "outputs": [
        {
          "output_type": "stream",
          "name": "stdout",
          "text": [
            "first :  Red\n",
            "last :  Black\n"
          ]
        }
      ]
    },
    {
      "cell_type": "code",
      "metadata": {
        "id": "4qYjL5TjuSW1"
      },
      "source": [
        ""
      ],
      "execution_count": null,
      "outputs": []
    }
  ]
}