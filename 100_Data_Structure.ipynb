{
  "nbformat": 4,
  "nbformat_minor": 0,
  "metadata": {
    "colab": {
      "name": "Data_Structure.ipynb",
      "provenance": [],
      "authorship_tag": "ABX9TyNzk4C79ouz/7zryauIvvaF",
      "include_colab_link": true
    },
    "kernelspec": {
      "name": "python3",
      "display_name": "Python 3"
    },
    "language_info": {
      "name": "python"
    }
  },
  "cells": [
    {
      "cell_type": "markdown",
      "metadata": {
        "id": "view-in-github",
        "colab_type": "text"
      },
      "source": [
        "<a href=\"https://colab.research.google.com/github/KishorePradeep/Python/blob/master/100_Data_Structure.ipynb\" target=\"_parent\"><img src=\"https://colab.research.google.com/assets/colab-badge.svg\" alt=\"Open In Colab\"/></a>"
      ]
    },
    {
      "cell_type": "code",
      "metadata": {
        "id": "UY8ljyl9GJuJ"
      },
      "source": [
        ""
      ],
      "execution_count": null,
      "outputs": []
    },
    {
      "cell_type": "markdown",
      "source": [
        "Anagram check"
      ],
      "metadata": {
        "id": "mRW2_dd-Rfbw"
      }
    },
    {
      "cell_type": "code",
      "source": [
        "def ana_chk(c,d):\n",
        "  e=list(c.replace(' ','').lower())\n",
        "  f=list(d.replace(' ','').lower())\n",
        "\n",
        "  e.sort()\n",
        "  f.sort()\n",
        "  return e == f\n",
        "\n",
        "\n",
        "\n",
        "\n",
        "a='god'\n",
        "b='dog'\n",
        "\n",
        "\n",
        "print(list(b))\n",
        "print(ana_chk(a,b))"
      ],
      "metadata": {
        "colab": {
          "base_uri": "https://localhost:8080/"
        },
        "id": "H0F2Kr-ZRhMA",
        "outputId": "e4de4df2-f416-4919-eb19-56c9b8101888"
      },
      "execution_count": 28,
      "outputs": [
        {
          "output_type": "stream",
          "name": "stdout",
          "text": [
            "['d', 'o', 'g']\n",
            "True\n"
          ]
        }
      ]
    },
    {
      "cell_type": "code",
      "source": [
        ""
      ],
      "metadata": {
        "id": "292eeULIgdnD"
      },
      "execution_count": null,
      "outputs": []
    },
    {
      "cell_type": "code",
      "source": [
        "c='gorte'\n",
        "d='dogv'\n",
        "\n",
        "e=list(c.replace(' ','').lower())\n",
        "f=list(d.replace(' ','').lower())\n",
        "\n",
        "print(e)\n",
        "print(f)\n",
        "\n",
        "if e.sort()==f.sort():\n",
        "  print('True')\n",
        "else :\n",
        "  print('False')\n",
        "\n"
      ],
      "metadata": {
        "colab": {
          "base_uri": "https://localhost:8080/"
        },
        "id": "E1NJ6F9JWrBj",
        "outputId": "ae7844cd-090d-45bd-eedb-8911fe6904a0"
      },
      "execution_count": 19,
      "outputs": [
        {
          "output_type": "stream",
          "name": "stdout",
          "text": [
            "['g', 'o', 'r', 't', 'e']\n",
            "['d', 'o', 'g', 'v']\n",
            "True\n"
          ]
        }
      ]
    },
    {
      "cell_type": "code",
      "source": [
        "e='goofy'\n",
        "f=list(e)\n",
        "c={}\n",
        "\n",
        "for i in range(0,len(f)):\n",
        "  if f[i] in c:\n",
        "    print(f[i])\n",
        "    c[i]+=1\n",
        "  else:\n",
        "    c[i]=1\n"
      ],
      "metadata": {
        "id": "iW0QhyVlgeet"
      },
      "execution_count": 36,
      "outputs": []
    },
    {
      "cell_type": "code",
      "source": [
        "e='goofy'\n",
        "c={}\n",
        "\n",
        "for i in e:\n",
        "  if i in c:\n",
        "    c[i]+=1\n",
        "  else:\n",
        "    c[i]=1\n",
        "\n",
        "print(c)"
      ],
      "metadata": {
        "colab": {
          "base_uri": "https://localhost:8080/"
        },
        "id": "E-4asG7VgxQA",
        "outputId": "f01c39ef-96c5-4a08-ded7-0221db7609d7"
      },
      "execution_count": 40,
      "outputs": [
        {
          "output_type": "stream",
          "name": "stdout",
          "text": [
            "1\n",
            "{'g': 1, 'o': 2, 'f': 1, 'y': 1}\n"
          ]
        }
      ]
    },
    {
      "cell_type": "code",
      "source": [
        ""
      ],
      "metadata": {
        "id": "1wRsb3K-i4kv"
      },
      "execution_count": null,
      "outputs": []
    },
    {
      "cell_type": "markdown",
      "source": [
        "Anagram check"
      ],
      "metadata": {
        "id": "ehKuYSZZkEnH"
      }
    },
    {
      "cell_type": "code",
      "source": [
        "def anag(e):\n",
        "  d={}\n",
        "  c=e.replace(' ','').lower()\n",
        "  for i in c:\n",
        "    if i in d:\n",
        "      d[i]+=1\n",
        "    else:\n",
        "      d[i] = 1\n",
        "  return d\n",
        "\n",
        "a='public relations'\n",
        "b='crap built on lies'\n",
        "\n",
        "if anag(a)==anag(b):\n",
        "  print('yup')\n",
        "else : \n",
        "  print('nope')"
      ],
      "metadata": {
        "colab": {
          "base_uri": "https://localhost:8080/"
        },
        "id": "dOauaFgSiY6z",
        "outputId": "c6ce2ad6-2028-4642-992d-36bc416a299e"
      },
      "execution_count": 47,
      "outputs": [
        {
          "output_type": "stream",
          "name": "stdout",
          "text": [
            "yup\n"
          ]
        }
      ]
    },
    {
      "cell_type": "markdown",
      "source": [
        ""
      ],
      "metadata": {
        "id": "PUdoM8aMkD9T"
      }
    },
    {
      "cell_type": "markdown",
      "source": [
        ""
      ],
      "metadata": {
        "id": "3rbKrrOnkQmw"
      }
    },
    {
      "cell_type": "markdown",
      "source": [
        "Array sum\n",
        "\n",
        "Input : A[] = [-5, 1, -40, 20, 6, 8, 7 ], K=15\n",
        "\n",
        "Output: true ( 7, 8 and -5, 20 are the pairs with sum 15)"
      ],
      "metadata": {
        "id": "GHSsBFpDkSdw"
      }
    },
    {
      "cell_type": "code",
      "source": [
        "a= [-5, 1, -40, 20, 6, 8, 7 ]\n",
        "k=15\n",
        "\n",
        "l=[]\n",
        "\n",
        "for i in range(0,len(a)-1):\n",
        "  for j in range(1,len(a)):\n",
        "    if a[i]+a[j]==k:\n",
        "      c=(a[i],a[j])\n",
        "      l.append(c)\n",
        "\n",
        "\n",
        "print(l)\n",
        "\n"
      ],
      "metadata": {
        "colab": {
          "base_uri": "https://localhost:8080/"
        },
        "id": "1KBalOqn_C4f",
        "outputId": "96c8f09d-efb0-4ef3-e6fd-896627f17ab2"
      },
      "execution_count": 55,
      "outputs": [
        {
          "output_type": "stream",
          "name": "stdout",
          "text": [
            "[(-5, 20), (8, 7)]\n"
          ]
        }
      ]
    },
    {
      "cell_type": "markdown",
      "source": [
        "Code for 3 pairs\n",
        "\n",
        "\n",
        "a=[12,34,56,56,75,5,25,50,100,50]\n",
        "b=100\n",
        "\n",
        "\n"
      ],
      "metadata": {
        "id": "ANffOxkKAwWJ"
      }
    },
    {
      "cell_type": "code",
      "source": [
        "a=[12,34,56,56,75,5,25,50,100,50] \n",
        "k=100\n",
        "\n",
        "m=[]\n",
        "\n",
        "for i in range(0,len(a)-1):\n",
        "  for j in range(1,len(a)):\n",
        "    for l in range(2,len(a)):\n",
        "      if a[i]+a[j]+a[l]==k:\n",
        "        c=(a[i],a[j],a[l])\n",
        "        m.append(c)\n",
        "  \n",
        "\n",
        "print(m)\n"
      ],
      "metadata": {
        "id": "i__DyszWA9dK",
        "outputId": "0bc55254-5eb1-4592-9111-470cca5978f5",
        "colab": {
          "base_uri": "https://localhost:8080/"
        }
      },
      "execution_count": 58,
      "outputs": [
        {
          "output_type": "stream",
          "name": "stdout",
          "text": [
            "[(25, 25, 50), (25, 25, 50), (25, 50, 25), (25, 50, 25), (50, 25, 25)]\n"
          ]
        }
      ]
    }
  ]
}