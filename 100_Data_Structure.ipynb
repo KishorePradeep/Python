{
  "nbformat": 4,
  "nbformat_minor": 0,
  "metadata": {
    "colab": {
      "name": "Data_Structure.ipynb",
      "provenance": [],
      "authorship_tag": "ABX9TyNjWGw3UT8Ur1NnCnil+dbF",
      "include_colab_link": true
    },
    "kernelspec": {
      "name": "python3",
      "display_name": "Python 3"
    },
    "language_info": {
      "name": "python"
    }
  },
  "cells": [
    {
      "cell_type": "markdown",
      "metadata": {
        "id": "view-in-github",
        "colab_type": "text"
      },
      "source": [
        "<a href=\"https://colab.research.google.com/github/KishorePradeep/Python/blob/master/100_Data_Structure.ipynb\" target=\"_parent\"><img src=\"https://colab.research.google.com/assets/colab-badge.svg\" alt=\"Open In Colab\"/></a>"
      ]
    },
    {
      "cell_type": "code",
      "metadata": {
        "id": "UY8ljyl9GJuJ"
      },
      "source": [
        ""
      ],
      "execution_count": null,
      "outputs": []
    },
    {
      "cell_type": "markdown",
      "source": [
        "Anagram check"
      ],
      "metadata": {
        "id": "mRW2_dd-Rfbw"
      }
    },
    {
      "cell_type": "code",
      "source": [
        "def ana_chk(c,d):\n",
        "  e=list(c.replace(' ','').lower())\n",
        "  f=list(d.replace(' ','').lower())\n",
        "\n",
        "  e.sort()\n",
        "  f.sort()\n",
        "  return e == f\n",
        "\n",
        "\n",
        "\n",
        "\n",
        "a='god'\n",
        "b='dog'\n",
        "\n",
        "\n",
        "print(list(b))\n",
        "print(ana_chk(a,b))"
      ],
      "metadata": {
        "id": "H0F2Kr-ZRhMA",
        "outputId": "e4de4df2-f416-4919-eb19-56c9b8101888",
        "colab": {
          "base_uri": "https://localhost:8080/"
        }
      },
      "execution_count": 28,
      "outputs": [
        {
          "output_type": "stream",
          "name": "stdout",
          "text": [
            "['d', 'o', 'g']\n",
            "True\n"
          ]
        }
      ]
    },
    {
      "cell_type": "code",
      "source": [
        ""
      ],
      "metadata": {
        "id": "292eeULIgdnD"
      },
      "execution_count": null,
      "outputs": []
    },
    {
      "cell_type": "code",
      "source": [
        "c='gorte'\n",
        "d='dogv'\n",
        "\n",
        "e=list(c.replace(' ','').lower())\n",
        "f=list(d.replace(' ','').lower())\n",
        "\n",
        "print(e)\n",
        "print(f)\n",
        "\n",
        "if e.sort()==f.sort():\n",
        "  print('True')\n",
        "else :\n",
        "  print('False')\n",
        "\n"
      ],
      "metadata": {
        "id": "E1NJ6F9JWrBj",
        "outputId": "ae7844cd-090d-45bd-eedb-8911fe6904a0",
        "colab": {
          "base_uri": "https://localhost:8080/"
        }
      },
      "execution_count": 19,
      "outputs": [
        {
          "output_type": "stream",
          "name": "stdout",
          "text": [
            "['g', 'o', 'r', 't', 'e']\n",
            "['d', 'o', 'g', 'v']\n",
            "True\n"
          ]
        }
      ]
    },
    {
      "cell_type": "code",
      "source": [
        "e='goofy'\n",
        "f=list(e)\n",
        "c={}\n",
        "\n",
        "for i in range(0,len(f)):\n",
        "  if f[i] in c:\n",
        "    print(f[i])\n",
        "    c[i]+=1\n",
        "  else:\n",
        "    c[i]=1\n"
      ],
      "metadata": {
        "id": "iW0QhyVlgeet"
      },
      "execution_count": 36,
      "outputs": []
    },
    {
      "cell_type": "code",
      "source": [
        "e='goofy'\n",
        "c={}\n",
        "\n",
        "for i in e:\n",
        "  if i in c:\n",
        "    c[i]+=1\n",
        "  else:\n",
        "    c[i]=1\n",
        "\n",
        "print(c)"
      ],
      "metadata": {
        "id": "E-4asG7VgxQA",
        "outputId": "f01c39ef-96c5-4a08-ded7-0221db7609d7",
        "colab": {
          "base_uri": "https://localhost:8080/"
        }
      },
      "execution_count": 40,
      "outputs": [
        {
          "output_type": "stream",
          "name": "stdout",
          "text": [
            "1\n",
            "{'g': 1, 'o': 2, 'f': 1, 'y': 1}\n"
          ]
        }
      ]
    },
    {
      "cell_type": "code",
      "source": [
        ""
      ],
      "metadata": {
        "id": "1wRsb3K-i4kv"
      },
      "execution_count": null,
      "outputs": []
    },
    {
      "cell_type": "markdown",
      "source": [
        "Anagram check"
      ],
      "metadata": {
        "id": "ehKuYSZZkEnH"
      }
    },
    {
      "cell_type": "code",
      "source": [
        "def anag(e):\n",
        "  d={}\n",
        "  c=e.replace(' ','').lower()\n",
        "  for i in c:\n",
        "    if i in d:\n",
        "      d[i]+=1\n",
        "    else:\n",
        "      d[i] = 1\n",
        "  return d\n",
        "\n",
        "a='public relations'\n",
        "b='crap built on lies'\n",
        "\n",
        "if anag(a)==anag(b):\n",
        "  print('yup')\n",
        "else : \n",
        "  print('nope')"
      ],
      "metadata": {
        "id": "dOauaFgSiY6z",
        "outputId": "c6ce2ad6-2028-4642-992d-36bc416a299e",
        "colab": {
          "base_uri": "https://localhost:8080/"
        }
      },
      "execution_count": 47,
      "outputs": [
        {
          "output_type": "stream",
          "name": "stdout",
          "text": [
            "yup\n"
          ]
        }
      ]
    },
    {
      "cell_type": "markdown",
      "source": [
        ""
      ],
      "metadata": {
        "id": "PUdoM8aMkD9T"
      }
    },
    {
      "cell_type": "code",
      "source": [
        ""
      ],
      "metadata": {
        "id": "Xlibiss7j_7u"
      },
      "execution_count": null,
      "outputs": []
    }
  ]
}