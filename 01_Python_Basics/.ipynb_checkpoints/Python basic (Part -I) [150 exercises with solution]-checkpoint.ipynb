{
  "nbformat": 4,
  "nbformat_minor": 0,
  "metadata": {
    "kernelspec": {
      "display_name": "Python 3",
      "language": "python",
      "name": "python3"
    },
    "language_info": {
      "codemirror_mode": {
        "name": "ipython",
        "version": 3
      },
      "file_extension": ".py",
      "mimetype": "text/x-python",
      "name": "python",
      "nbconvert_exporter": "python",
      "pygments_lexer": "ipython3",
      "version": "3.7.4"
    },
    "colab": {
      "name": "Python basic (Part -I) [150 exercises with solution]-checkpoint.ipynb",
      "provenance": []
    }
  },
  "cells": [
    {
      "cell_type": "markdown",
      "metadata": {
        "id": "EPMoHf_NnLAt"
      },
      "source": [
        "1. Write a Python program to print the following string in a specific format (see the output). Go to the editor\n",
        "Sample String : \"Twinkle, twinkle, little star, How I wonder what you are! How I wonder what you are!, Like a diamond in the sky. Twinkle, twinkle, little star, How I wonder what you are\" Output :\n",
        "\n",
        "Twinkle, twinkle, little star,\n",
        "\tHow I wonder what you are! \n",
        "\t\tUp above the world so high,   \t\t\n",
        "\t\tLike a diamond in the sky. \n",
        "Twinkle, twinkle, little star, \n",
        "\tHow I wonder what you are"
      ]
    },
    {
      "cell_type": "code",
      "metadata": {
        "id": "Aq0tJpRZnLAw",
        "outputId": "bd46ac64-79e8-4740-944a-2775842295a8"
      },
      "source": [
        "print(\"Twinkle, twinkle, little star,\\n\\tHow I wonder what you are! \\n\\t\\tUp above the world so high, \\n\\t\\tLike a diamond in the sky. \\nTwinkle, twinkle, little star, \\n\\tHow I wonder what you are\")"
      ],
      "execution_count": null,
      "outputs": [
        {
          "name": "stdout",
          "output_type": "stream",
          "text": [
            "Twinkle, twinkle, little star,\n",
            "\tHow I wonder what you are! \n",
            "\t\tUp above the world so high, \n",
            "\t\tLike a diamond in the sky. \n",
            "Twinkle, twinkle, little star, \n",
            "\tHow I wonder what you are\n"
          ]
        }
      ]
    },
    {
      "cell_type": "markdown",
      "metadata": {
        "id": "OxWBPDhznLAy"
      },
      "source": [
        "2. Write a Python program to get the Python version you are using"
      ]
    },
    {
      "cell_type": "code",
      "metadata": {
        "colab": {
          "base_uri": "https://localhost:8080/"
        },
        "id": "aqbc-M3anLAy",
        "outputId": "1fc5996d-1b54-49e0-8f26-2396a76f13d2"
      },
      "source": [
        "import sys \n",
        "print (sys.version)"
      ],
      "execution_count": 1,
      "outputs": [
        {
          "output_type": "stream",
          "name": "stdout",
          "text": [
            "3.7.12 (default, Sep 10 2021, 00:21:48) \n",
            "[GCC 7.5.0]\n"
          ]
        }
      ]
    },
    {
      "cell_type": "markdown",
      "metadata": {
        "id": "akgX3qilnLAz"
      },
      "source": [
        "3. Write a Python program to display the current date and time.\n",
        "Sample Output :\n",
        "Current date and time :\n",
        "2014-07-05 14:34:14"
      ]
    },
    {
      "cell_type": "code",
      "metadata": {
        "id": "cQYpPiNbnLAz",
        "outputId": "3b4de155-e2e4-4d83-a5ee-53e470e0b0c0"
      },
      "source": [
        "import datetime\n",
        "print(datetime.datetime.today())\n",
        "print (\"Current date and time : \")\n",
        "print (datetime.datetime.today().strftime(\"%Y-%m-%d %H:%M:%S\"))"
      ],
      "execution_count": null,
      "outputs": [
        {
          "name": "stdout",
          "output_type": "stream",
          "text": [
            "2021-09-26 19:43:27.614270\n",
            "Current date and time : \n",
            "2021-09-26 19:43:27\n"
          ]
        }
      ]
    },
    {
      "cell_type": "markdown",
      "metadata": {
        "id": "zYnUVgaCnLA0"
      },
      "source": [
        "5. Write a Python program which accepts the user's first and last name and print them in reverse order with a space between them."
      ]
    },
    {
      "cell_type": "code",
      "metadata": {
        "colab": {
          "base_uri": "https://localhost:8080/"
        },
        "id": "-Jn-dcQjnLA1",
        "outputId": "24daf122-d5e5-4fe8-ffee-10d5b33281a5"
      },
      "source": [
        "print(\"Kishore\")\n",
        "\n",
        "l=\"Kishore\"\n",
        "\n",
        "print(l[::-1])"
      ],
      "execution_count": 2,
      "outputs": [
        {
          "output_type": "stream",
          "name": "stdout",
          "text": [
            "Kishore\n",
            "erohsiK\n"
          ]
        }
      ]
    },
    {
      "cell_type": "markdown",
      "metadata": {
        "id": "TiZuSyzSoO9L"
      },
      "source": [
        "6. Write a Python program which accepts a sequence of comma-separated numbers from user and generate a list and a tuple with those numbers."
      ]
    },
    {
      "cell_type": "code",
      "metadata": {
        "id": "Ka4Vv7ZzoUrp"
      },
      "source": [
        ""
      ],
      "execution_count": null,
      "outputs": []
    }
  ]
}