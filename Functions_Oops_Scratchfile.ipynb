{
  "nbformat": 4,
  "nbformat_minor": 0,
  "metadata": {
    "colab": {
      "name": "Functions_Oops_Scratchfile.ipynb",
      "provenance": [],
      "collapsed_sections": [],
      "authorship_tag": "ABX9TyNN/L0FQq61M7h/B8k4tuO5",
      "include_colab_link": true
    },
    "kernelspec": {
      "name": "python3",
      "display_name": "Python 3"
    },
    "language_info": {
      "name": "python"
    }
  },
  "cells": [
    {
      "cell_type": "markdown",
      "metadata": {
        "id": "view-in-github",
        "colab_type": "text"
      },
      "source": [
        "<a href=\"https://colab.research.google.com/github/KishorePradeep/Python/blob/master/Functions_Oops_Scratchfile.ipynb\" target=\"_parent\"><img src=\"https://colab.research.google.com/assets/colab-badge.svg\" alt=\"Open In Colab\"/></a>"
      ]
    },
    {
      "cell_type": "code",
      "execution_count": 3,
      "metadata": {
        "colab": {
          "base_uri": "https://localhost:8080/"
        },
        "id": "8cmBlYgbslym",
        "outputId": "27699ab1-44e2-4d00-fbe5-c55cd178ed64"
      },
      "outputs": [
        {
          "output_type": "stream",
          "name": "stdout",
          "text": [
            "['hello', 'world']\n"
          ]
        }
      ],
      "source": [
        "s='hello world'\n",
        "\n",
        "if s[0]=='h':\n",
        "  print(s.split())\n"
      ]
    },
    {
      "cell_type": "code",
      "source": [
        "mylist=[1,2,3,4]\n",
        "\n",
        "mylist.append(5)\n",
        "\n",
        "print(mylist)"
      ],
      "metadata": {
        "colab": {
          "base_uri": "https://localhost:8080/"
        },
        "id": "OQZLM6QKt2JN",
        "outputId": "3de48334-5211-4462-c62e-bb1d21c343e4"
      },
      "execution_count": 5,
      "outputs": [
        {
          "output_type": "stream",
          "name": "stdout",
          "text": [
            "[1, 2, 3, 4, 5]\n"
          ]
        }
      ]
    },
    {
      "cell_type": "code",
      "source": [
        "def even_or_odd(s):\n",
        "  y=[]\n",
        "\n",
        "  for i in s:\n",
        "    if i%2==0:\n",
        "      y.append(i)\n",
        "  else:\n",
        "      pass\n",
        "\n",
        "  return y\n",
        "\n",
        "\n",
        "print(even_or_odd([4,3,6,2,4,2,4]))\n"
      ],
      "metadata": {
        "colab": {
          "base_uri": "https://localhost:8080/"
        },
        "id": "HinLt7b8yfDz",
        "outputId": "dc842f4b-7d00-4291-865c-366aa3283a3b"
      },
      "execution_count": 12,
      "outputs": [
        {
          "output_type": "stream",
          "name": "stdout",
          "text": [
            "[4, 6, 2, 4, 2, 4]\n"
          ]
        }
      ]
    },
    {
      "cell_type": "code",
      "source": [
        "price = [('appl',300),('MSFT',400),('XVC',300)]\n",
        "\n",
        "for item,ticker in price:\n",
        "  print(item)"
      ],
      "metadata": {
        "colab": {
          "base_uri": "https://localhost:8080/"
        },
        "id": "HAZC7TsA0-V5",
        "outputId": "19502088-4bf2-49f5-f44e-5fb6255771e9"
      },
      "execution_count": 14,
      "outputs": [
        {
          "output_type": "stream",
          "name": "stdout",
          "text": [
            "appl\n",
            "MSFT\n",
            "XVC\n"
          ]
        }
      ]
    },
    {
      "cell_type": "code",
      "source": [
        "def maxy(price):\n",
        "\n",
        "  mx_st=''\n",
        "  mx_price=0\n",
        "\n",
        "  for x,y in price:\n",
        "    if y > mx_price:\n",
        "      mx_st=x\n",
        "      mx_price=y\n",
        "    else:\n",
        "      pass\n",
        "\n",
        "  return (mx_st,mx_price)\n",
        "\n",
        "\n",
        "print(maxy([('appl',300),('MSFT',400),('XVC',300)]))"
      ],
      "metadata": {
        "colab": {
          "base_uri": "https://localhost:8080/"
        },
        "id": "aiYXOb6F--hQ",
        "outputId": "2f8c7de2-2ecd-4151-f140-d58cf0c0d2d5"
      },
      "execution_count": 20,
      "outputs": [
        {
          "output_type": "stream",
          "name": "stdout",
          "text": [
            "('MSFT', 400)\n"
          ]
        }
      ]
    },
    {
      "cell_type": "code",
      "source": [
        "ex=[1,2,4,5,9]\n",
        "\n",
        "\n",
        "from random import shuffle\n",
        "\n",
        "result = shuffle(ex)\n",
        "\n",
        "print(result)"
      ],
      "metadata": {
        "colab": {
          "base_uri": "https://localhost:8080/"
        },
        "id": "_OIcHfoqxZil",
        "outputId": "2fd86245-9847-4c26-d135-d43e2a05ee0e"
      },
      "execution_count": 4,
      "outputs": [
        {
          "output_type": "stream",
          "name": "stdout",
          "text": [
            "None\n"
          ]
        }
      ]
    },
    {
      "cell_type": "code",
      "source": [
        "def myfunc(**kwargs):\n",
        "  print(kwargs)\n",
        "  \n",
        "  # a=[]\n",
        "\n",
        "  # # for i in kwargs:\n",
        "  # #   a.append(i)\n",
        "\n",
        "\n",
        "  # return a\n",
        "\n",
        "print(myfunc({'w': 3,'x': 4,'c': 5}))"
      ],
      "metadata": {
        "colab": {
          "base_uri": "https://localhost:8080/",
          "height": 204
        },
        "id": "t89gsUPwxi5G",
        "outputId": "91ff10bf-f163-4313-a214-366f9034f4cd"
      },
      "execution_count": 22,
      "outputs": [
        {
          "output_type": "error",
          "ename": "TypeError",
          "evalue": "ignored",
          "traceback": [
            "\u001b[0;31m---------------------------------------------------------------------------\u001b[0m",
            "\u001b[0;31mTypeError\u001b[0m                                 Traceback (most recent call last)",
            "\u001b[0;32m<ipython-input-22-8408ddf646e2>\u001b[0m in \u001b[0;36m<module>\u001b[0;34m()\u001b[0m\n\u001b[1;32m     10\u001b[0m   \u001b[0;31m# return a\u001b[0m\u001b[0;34m\u001b[0m\u001b[0;34m\u001b[0m\u001b[0;34m\u001b[0m\u001b[0m\n\u001b[1;32m     11\u001b[0m \u001b[0;34m\u001b[0m\u001b[0m\n\u001b[0;32m---> 12\u001b[0;31m \u001b[0mprint\u001b[0m\u001b[0;34m(\u001b[0m\u001b[0mmyfunc\u001b[0m\u001b[0;34m(\u001b[0m\u001b[0;34m{\u001b[0m\u001b[0;34m'w'\u001b[0m\u001b[0;34m:\u001b[0m \u001b[0;36m3\u001b[0m\u001b[0;34m,\u001b[0m\u001b[0;34m'x'\u001b[0m\u001b[0;34m:\u001b[0m \u001b[0;36m4\u001b[0m\u001b[0;34m,\u001b[0m\u001b[0;34m'c'\u001b[0m\u001b[0;34m:\u001b[0m \u001b[0;36m5\u001b[0m\u001b[0;34m}\u001b[0m\u001b[0;34m)\u001b[0m\u001b[0;34m)\u001b[0m\u001b[0;34m\u001b[0m\u001b[0;34m\u001b[0m\u001b[0m\n\u001b[0m",
            "\u001b[0;31mTypeError\u001b[0m: myfunc() takes 0 positional arguments but 1 was given"
          ]
        }
      ]
    },
    {
      "cell_type": "code",
      "source": [
        "y=('w': 3,'x': 4,'c': 5)\n",
        "print(y)"
      ],
      "metadata": {
        "colab": {
          "base_uri": "https://localhost:8080/",
          "height": 133
        },
        "id": "UnJW7NYa8sc_",
        "outputId": "9ac8286f-6cdf-44ae-d11c-e29948b335fa"
      },
      "execution_count": 18,
      "outputs": [
        {
          "output_type": "error",
          "ename": "SyntaxError",
          "evalue": "ignored",
          "traceback": [
            "\u001b[0;36m  File \u001b[0;32m\"<ipython-input-18-b467a3cf7ae5>\"\u001b[0;36m, line \u001b[0;32m1\u001b[0m\n\u001b[0;31m    y=('w': 3,'x': 4,'c': 5)\u001b[0m\n\u001b[0m          ^\u001b[0m\n\u001b[0;31mSyntaxError\u001b[0m\u001b[0;31m:\u001b[0m invalid syntax\n"
          ]
        }
      ]
    },
    {
      "cell_type": "code",
      "source": [
        ""
      ],
      "metadata": {
        "id": "r8k9TWJO-9uP"
      },
      "execution_count": null,
      "outputs": []
    }
  ]
}