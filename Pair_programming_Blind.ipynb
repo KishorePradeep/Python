{
  "nbformat": 4,
  "nbformat_minor": 0,
  "metadata": {
    "colab": {
      "name": "Pair_programming.ipynb",
      "provenance": [],
      "authorship_tag": "ABX9TyMiNPlVrfUlzPpNUhM2fEne",
      "include_colab_link": true
    },
    "kernelspec": {
      "name": "python3",
      "display_name": "Python 3"
    },
    "language_info": {
      "name": "python"
    }
  },
  "cells": [
    {
      "cell_type": "markdown",
      "metadata": {
        "id": "view-in-github",
        "colab_type": "text"
      },
      "source": [
        "<a href=\"https://colab.research.google.com/github/KishorePradeep/Python/blob/master/Pair_programming_Blind.ipynb\" target=\"_parent\"><img src=\"https://colab.research.google.com/assets/colab-badge.svg\" alt=\"Open In Colab\"/></a>"
      ]
    },
    {
      "cell_type": "code",
      "execution_count": null,
      "metadata": {
        "id": "GxqvGlQkuGIl"
      },
      "outputs": [],
      "source": [
        ""
      ]
    },
    {
      "cell_type": "markdown",
      "source": [
        "25. Write a Python program to check whether a specified value is contained in a group of values. Go to the editor\n",
        "Test Data :\n",
        "3 -> [1, 5, 8, 3] : True\n",
        "-1 -> [1, 5, 8, 3] : False"
      ],
      "metadata": {
        "id": "1LmcHWZHsWaJ"
      }
    },
    {
      "cell_type": "code",
      "source": [
        ""
      ],
      "metadata": {
        "id": "nCINL9RpsXO1"
      },
      "execution_count": null,
      "outputs": []
    },
    {
      "cell_type": "markdown",
      "source": [
        "26. Write a Python program to create a histogram from a given list of integers."
      ],
      "metadata": {
        "id": "fqR-K-o2s5j9"
      }
    },
    {
      "cell_type": "code",
      "source": [
        "def print_histogram(a,b):\n",
        "\n",
        "  # for i in range(0,len(a)):\n",
        "  for i in a:\n",
        "    print(b*i)\n",
        "\n",
        "\n",
        "\n",
        "print_histogram([2,3,5,6],'@')"
      ],
      "metadata": {
        "colab": {
          "base_uri": "https://localhost:8080/"
        },
        "id": "btDHKtnys6Qb",
        "outputId": "b42e84c3-df1d-4287-8537-1a85b77eb25a"
      },
      "execution_count": 6,
      "outputs": [
        {
          "output_type": "stream",
          "name": "stdout",
          "text": [
            "@@\n",
            "@@@\n",
            "@@@@@\n",
            "@@@@@@\n"
          ]
        }
      ]
    },
    {
      "cell_type": "markdown",
      "source": [
        "27. Write a Python program to concatenate all elements in a list into a string and return it."
      ],
      "metadata": {
        "id": "2_z6EPKZvhHz"
      }
    },
    {
      "cell_type": "code",
      "source": [
        "\n",
        "\n",
        "s=['l','i','s','t']\n",
        "\n",
        "print(''.join(s))\n",
        "\n"
      ],
      "metadata": {
        "id": "8JuPPaXhvhwP",
        "outputId": "3e2a849c-e1f6-4f1a-d413-2808f8a4c0b3",
        "colab": {
          "base_uri": "https://localhost:8080/"
        }
      },
      "execution_count": 11,
      "outputs": [
        {
          "output_type": "stream",
          "name": "stdout",
          "text": [
            "list\n"
          ]
        }
      ]
    },
    {
      "cell_type": "markdown",
      "source": [
        "28. Write a Python program to print all even numbers from a given numbers list in the same order and stop the printing if any numbers that come after 237 in the sequence. Go to the editor\n",
        "Sample numbers list :\n",
        "\n",
        "numbers = [    \n",
        "    386, 462, 47, 418, 907, 344, 236, 375, 823, 566, 597, 978, 328, 615, 953, 345, \n",
        "    399, 162, 758, 219, 918, 237, 412, 566, 826, 248, 866, 950, 626, 949, 687, 217, \n",
        "    815, 67, 104, 58, 512, 24, 892, 894, 767, 553, 81, 379, 843, 831, 445, 742, 717, \n",
        "    958,743, 527\n",
        "    ]\n",
        "\n",
        "\n",
        "def even_or_dd"
      ],
      "metadata": {
        "id": "51lK3RPawYAK"
      }
    },
    {
      "cell_type": "code",
      "source": [
        "# def iseven_odd(a,b):\n",
        "\n",
        "a = [    \n",
        "    386, 462, 47, 418, 907, 344, 236, 375, 823, 566, 597, 978, 328, 615, 953, 345, \n",
        "    399, 162, 758, 219, 918, 237, 412, 566, 826, 248, 866, 950, 626, 949, 687, 217, \n",
        "    815, 67, 104, 58, 512, 24, 892, 894, 767, 553, 81, 379, 843, 831, 445, 742, 717, \n",
        "    958,743, 527\n",
        "    ] \n",
        "  \n",
        "# newList = [ expression(element) for element in oldList if condition ] \n",
        "\n",
        "ind = a.index(237) \n",
        "l=[]\n",
        "\n",
        "for i in range(0,ind):\n",
        "  if a[i]%2==0:\n",
        "    print(a[i])\n",
        "\n"
      ],
      "metadata": {
        "id": "w0aqExe6wlkl",
        "outputId": "1ad779e1-da58-42e9-f1c1-8f9a4dbd3bb3",
        "colab": {
          "base_uri": "https://localhost:8080/"
        }
      },
      "execution_count": 18,
      "outputs": [
        {
          "output_type": "stream",
          "name": "stdout",
          "text": [
            "386\n",
            "462\n",
            "418\n",
            "344\n",
            "236\n",
            "566\n",
            "978\n",
            "328\n",
            "162\n",
            "758\n",
            "918\n"
          ]
        }
      ]
    },
    {
      "cell_type": "markdown",
      "source": [
        "29. Write a Python program to print out a set containing all the colors from color_list_1 which are not present in color_list_2. Go to the editor\n",
        "\n",
        "Test Data :\n",
        "color_list_1 = set([\"White\", \"Black\", \"Red\"])\n",
        "\n",
        "color_list_2 = set([\"Red\", \"Green\"])\n",
        "\n",
        "Expected Output :\n",
        "{'Black', 'White'}"
      ],
      "metadata": {
        "id": "rEG4I_bSzlxf"
      }
    },
    {
      "cell_type": "code",
      "source": [
        "color_list_1 = set([\"White\", \"Black\", \"Red\"])\n",
        "\n",
        "color_list_2 = set([\"Red\", \"Green\"])\n",
        "\n",
        "print(color_list_1 & color_list_2)"
      ],
      "metadata": {
        "id": "KwZK8DQdzooN",
        "outputId": "799bb87d-e136-4d62-c52f-79f35652f7be",
        "colab": {
          "base_uri": "https://localhost:8080/"
        }
      },
      "execution_count": 26,
      "outputs": [
        {
          "output_type": "stream",
          "name": "stdout",
          "text": [
            "{'Red'}\n"
          ]
        }
      ]
    },
    {
      "cell_type": "markdown",
      "source": [
        "31. Write a Python program to compute the greatest common divisor (GCD) of two positive integers."
      ],
      "metadata": {
        "id": "XRN75h_w0uU1"
      }
    },
    {
      "cell_type": "code",
      "source": [
        "p=10\n",
        "q=45\n",
        "\n",
        "\n",
        "if p<q:\n",
        "  lower=p\n",
        "  higher=q\n",
        "else:\n",
        "  lower=q\n",
        "  higher=p\n",
        "\n",
        "# print(higher)\n",
        "# print(lower)\n",
        "\n",
        "l=[]\n",
        "gcd=0\n",
        "\n",
        "for i in range(1,lower+1):\n",
        "  if higher%i==0 and lower%i==0:\n",
        "    l.append(i)\n",
        "    # if gcd<i:\n",
        "    #   gcd=i\n",
        "\n",
        "print(l[-1])\n",
        "    # print(higher)\n",
        "    # print(lower)\n",
        "\n",
        "oops\n",
        "class A(cbn, func1(), func2())\n",
        "  def(self,)\n",
        "\n",
        "\n",
        "\n",
        "object : \n",
        "variables color : red\n",
        "method : \n",
        "\n",
        "\n",
        "\n",
        "\n",
        "def(a,b)\n"
      ],
      "metadata": {
        "id": "PXJ06Aou07xy",
        "outputId": "8375a864-5016-4564-a31b-1ce853f0bba6",
        "colab": {
          "base_uri": "https://localhost:8080/"
        }
      },
      "execution_count": 39,
      "outputs": [
        {
          "output_type": "stream",
          "name": "stdout",
          "text": [
            "5\n"
          ]
        }
      ]
    }
  ]
}