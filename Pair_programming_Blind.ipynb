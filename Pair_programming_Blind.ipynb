{
  "nbformat": 4,
  "nbformat_minor": 0,
  "metadata": {
    "colab": {
      "name": "Pair_programming.ipynb",
      "provenance": [],
      "authorship_tag": "ABX9TyPURdLRh1Tfw++0H0qcOzcp",
      "include_colab_link": true
    },
    "kernelspec": {
      "name": "python3",
      "display_name": "Python 3"
    },
    "language_info": {
      "name": "python"
    }
  },
  "cells": [
    {
      "cell_type": "markdown",
      "metadata": {
        "id": "view-in-github",
        "colab_type": "text"
      },
      "source": [
        "<a href=\"https://colab.research.google.com/github/KishorePradeep/Python/blob/master/Pair_programming_Blind.ipynb\" target=\"_parent\"><img src=\"https://colab.research.google.com/assets/colab-badge.svg\" alt=\"Open In Colab\"/></a>"
      ]
    },
    {
      "cell_type": "code",
      "execution_count": null,
      "metadata": {
        "id": "GxqvGlQkuGIl"
      },
      "outputs": [],
      "source": [
        ""
      ]
    },
    {
      "cell_type": "markdown",
      "source": [
        "25. Write a Python program to check whether a specified value is contained in a group of values. Go to the editor\n",
        "Test Data :\n",
        "3 -> [1, 5, 8, 3] : True\n",
        "-1 -> [1, 5, 8, 3] : False"
      ],
      "metadata": {
        "id": "1LmcHWZHsWaJ"
      }
    },
    {
      "cell_type": "code",
      "source": [
        ""
      ],
      "metadata": {
        "id": "nCINL9RpsXO1"
      },
      "execution_count": null,
      "outputs": []
    },
    {
      "cell_type": "markdown",
      "source": [
        "26. Write a Python program to create a histogram from a given list of integers."
      ],
      "metadata": {
        "id": "fqR-K-o2s5j9"
      }
    },
    {
      "cell_type": "code",
      "source": [
        "def print_histogram(a,b):\n",
        "\n",
        "  # for i in range(0,len(a)):\n",
        "  for i in a:\n",
        "    print(b*i)\n",
        "\n",
        "\n",
        "\n",
        "print_histogram([2,3,5,6],'@')"
      ],
      "metadata": {
        "id": "btDHKtnys6Qb",
        "outputId": "b42e84c3-df1d-4287-8537-1a85b77eb25a",
        "colab": {
          "base_uri": "https://localhost:8080/"
        }
      },
      "execution_count": 6,
      "outputs": [
        {
          "output_type": "stream",
          "name": "stdout",
          "text": [
            "@@\n",
            "@@@\n",
            "@@@@@\n",
            "@@@@@@\n"
          ]
        }
      ]
    }
  ]
}