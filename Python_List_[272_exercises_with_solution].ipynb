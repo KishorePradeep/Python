{
  "nbformat": 4,
  "nbformat_minor": 0,
  "metadata": {
    "colab": {
      "name": "Python List [272 exercises with solution].ipynb",
      "provenance": [],
      "authorship_tag": "ABX9TyNOIiKn6Fndh8CVc5PSG06V",
      "include_colab_link": true
    },
    "kernelspec": {
      "name": "python3",
      "display_name": "Python 3"
    },
    "language_info": {
      "name": "python"
    }
  },
  "cells": [
    {
      "cell_type": "markdown",
      "metadata": {
        "id": "view-in-github",
        "colab_type": "text"
      },
      "source": [
        "<a href=\"https://colab.research.google.com/github/KishorePradeep/Python/blob/master/Python_List_%5B272_exercises_with_solution%5D.ipynb\" target=\"_parent\"><img src=\"https://colab.research.google.com/assets/colab-badge.svg\" alt=\"Open In Colab\"/></a>"
      ]
    },
    {
      "cell_type": "code",
      "metadata": {
        "id": "89w4Okzq3gPo"
      },
      "source": [
        ""
      ],
      "execution_count": null,
      "outputs": []
    },
    {
      "cell_type": "markdown",
      "source": [
        "272. Write a Python program to generate a list of numbers in the arithmetic progression starting with the given positive integer and up to the specified limit. Go to the editor\n",
        "Sample Output:\n",
        "[1, 2, 3, 4, 5, 6, 7, 8, 9, 10, 11, 12, 13, 14, 15]\n",
        "[3, 6, 9, 12, 15, 18, 21, 24, 27, 30, 33, 36]\n",
        "[5, 10, 15, 20, 25]\n",
        "\n",
        "\n",
        "\n",
        "\n",
        "\n",
        "\n"
      ],
      "metadata": {
        "id": "ZmeB4V8v1DKZ"
      }
    },
    {
      "cell_type": "code",
      "source": [
        "\n",
        "low=5\n",
        "high=25\n",
        "ran=low\n",
        "l=[]\n",
        "\n",
        "for i in range(low,high+1,ran):\n",
        "    l.append(i)\n",
        "\n",
        "\n",
        "print(l)"
      ],
      "metadata": {
        "colab": {
          "base_uri": "https://localhost:8080/"
        },
        "id": "8INiVdTP1FT3",
        "outputId": "bef8c230-b7f0-47ee-9cf3-15100b30dc81"
      },
      "execution_count": 4,
      "outputs": [
        {
          "output_type": "stream",
          "name": "stdout",
          "text": [
            "[5, 10, 15, 20, 25]\n"
          ]
        }
      ]
    },
    {
      "cell_type": "code",
      "source": [
        "271. Write a Python program to check if there are duplicate values in a given flat list. Go to the editor\n",
        "Sample Output:\n",
        "Original list:\n",
        "[1, 2, 3, 4, 5, 6, 7]\n",
        "Check if there are duplicate values in the said given flat list:\n",
        "False\n",
        "Original list:\n",
        "[1, 2, 3, 3, 4, 5, 5, 6, 7]\n",
        "Check if there are duplicate values in the said given flat list:\n",
        "True"
      ],
      "metadata": {
        "id": "0w5PIU532Qb5"
      },
      "execution_count": null,
      "outputs": []
    },
    {
      "cell_type": "code",
      "source": [
        "l=[1, 2, 3, 4, 5, 6, 7]\n",
        "m=set(l)\n",
        "\n",
        "if len(l)==len(m):\n",
        "  print(True)\n",
        "else:\n",
        "  print(False)"
      ],
      "metadata": {
        "colab": {
          "base_uri": "https://localhost:8080/"
        },
        "id": "F_WhHmSB2eYW",
        "outputId": "6d887dd1-d30d-4cfb-cd4c-e874faa4e294"
      },
      "execution_count": 6,
      "outputs": [
        {
          "output_type": "stream",
          "name": "stdout",
          "text": [
            "True\n"
          ]
        }
      ]
    },
    {
      "cell_type": "code",
      "source": [
        "270. Write a Python program to check if the elements of the first list are contained in the second one regardless of order. Go to the editor\n",
        "Sample Output:\n",
        "True\n",
        "True\n",
        "False\n",
        "True"
      ],
      "metadata": {
        "id": "quwp3pl_2zJG"
      },
      "execution_count": null,
      "outputs": []
    },
    {
      "cell_type": "code",
      "source": [
        "l=[1,2,3,4,89]\n",
        "m=[1,2,3,4,5,6,7,8]\n",
        "\n",
        "\n",
        "for i in range(0,len(l)):\n",
        "  if l[i] not in m:\n",
        "    print(\"not found\")\n",
        "  else:\n",
        "    pass\n",
        "\n"
      ],
      "metadata": {
        "colab": {
          "base_uri": "https://localhost:8080/"
        },
        "id": "QqCm7Q_522jz",
        "outputId": "c0d29689-5422-4c9e-a3ad-08d56a7ba082"
      },
      "execution_count": 8,
      "outputs": [
        {
          "output_type": "stream",
          "name": "stdout",
          "text": [
            "not found\n"
          ]
        }
      ]
    },
    {
      "cell_type": "code",
      "source": [
        "269. Write a Python program to get the every nth element in a given list. Go to the editor\n",
        "Sample Output:\n",
        "[1, 2, 3, 4, 5, 6, 7, 8, 9, 10]\n",
        "[2, 4, 6, 8, 10]\n",
        "[5, 10]\n",
        "[6]\n",
        "Click me to see the sample solution"
      ],
      "metadata": {
        "id": "pFZd0alL3zVA"
      },
      "execution_count": null,
      "outputs": []
    },
    {
      "cell_type": "code",
      "source": [
        ""
      ],
      "metadata": {
        "id": "OwCMyiJm30Ec"
      },
      "execution_count": null,
      "outputs": []
    }
  ]
}