{
  "nbformat": 4,
  "nbformat_minor": 0,
  "metadata": {
    "colab": {
      "name": "Python Dictionary [ 80 exercises with solution].ipynb",
      "provenance": [],
      "include_colab_link": true
    },
    "kernelspec": {
      "name": "python3",
      "display_name": "Python 3"
    },
    "language_info": {
      "name": "python"
    }
  },
  "cells": [
    {
      "cell_type": "markdown",
      "metadata": {
        "id": "view-in-github",
        "colab_type": "text"
      },
      "source": [
        "<a href=\"https://colab.research.google.com/github/KishorePradeep/Python/blob/master/08_Python_Dictionary_%5B_80_exercises_with_solution%5D.ipynb\" target=\"_parent\"><img src=\"https://colab.research.google.com/assets/colab-badge.svg\" alt=\"Open In Colab\"/></a>"
      ]
    },
    {
      "cell_type": "code",
      "metadata": {
        "id": "ZPb1ooxw3lsA"
      },
      "source": [
        ""
      ],
      "execution_count": null,
      "outputs": []
    },
    {
      "cell_type": "markdown",
      "source": [
        "1. Write a Python script to sort (ascending and descending) a dictionary by value"
      ],
      "metadata": {
        "id": "rYhCwk10QPTM"
      }
    },
    {
      "cell_type": "code",
      "source": [
        "y={'carl':40,'alan':2,'bob':1,'danny':3} \n",
        "\n",
        "x=list(y.items())\n",
        "\n",
        "x.sort()\n",
        "\n",
        "dict(x)\n",
        "\n"
      ],
      "metadata": {
        "id": "0B1EUQfNQR4v",
        "outputId": "1f7fbb80-5fe0-4ea4-bc88-94005c945944",
        "colab": {
          "base_uri": "https://localhost:8080/"
        }
      },
      "execution_count": null,
      "outputs": [
        {
          "output_type": "execute_result",
          "data": {
            "text/plain": [
              "{'alan': 2, 'bob': 1, 'carl': 40, 'danny': 3}"
            ]
          },
          "metadata": {},
          "execution_count": 10
        }
      ]
    },
    {
      "cell_type": "code",
      "source": [
        "# 2. Write a Python script to add a key to a dictionary. Go to the editor\n",
        "\n",
        "a = {0: 10, 1: 20}\n",
        "# Expected Result : {0: 10, 1: 20, 2: 30}\n",
        "\n",
        "a[20]=30\n",
        "\n",
        "print(a)"
      ],
      "metadata": {
        "id": "NRn2trm2QhVJ",
        "outputId": "65639abb-b576-4c75-9d26-488994171594",
        "colab": {
          "base_uri": "https://localhost:8080/"
        }
      },
      "execution_count": 3,
      "outputs": [
        {
          "output_type": "stream",
          "name": "stdout",
          "text": [
            "{0: 10, 1: 20, 20: 30}\n"
          ]
        }
      ]
    },
    {
      "cell_type": "code",
      "source": [
        ""
      ],
      "metadata": {
        "id": "-DJLeHmBY1Ug"
      },
      "execution_count": null,
      "outputs": []
    }
  ]
}