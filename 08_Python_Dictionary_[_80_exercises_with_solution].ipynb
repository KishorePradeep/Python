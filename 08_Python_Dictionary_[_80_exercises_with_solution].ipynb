{
  "nbformat": 4,
  "nbformat_minor": 0,
  "metadata": {
    "colab": {
      "name": "Python Dictionary [ 80 exercises with solution].ipynb",
      "provenance": [],
      "authorship_tag": "ABX9TyPkSk5eEHMt1nq8863K+GGb",
      "include_colab_link": true
    },
    "kernelspec": {
      "name": "python3",
      "display_name": "Python 3"
    },
    "language_info": {
      "name": "python"
    }
  },
  "cells": [
    {
      "cell_type": "markdown",
      "metadata": {
        "id": "view-in-github",
        "colab_type": "text"
      },
      "source": [
        "<a href=\"https://colab.research.google.com/github/KishorePradeep/Python/blob/master/08_Python_Dictionary_%5B_80_exercises_with_solution%5D.ipynb\" target=\"_parent\"><img src=\"https://colab.research.google.com/assets/colab-badge.svg\" alt=\"Open In Colab\"/></a>"
      ]
    },
    {
      "cell_type": "code",
      "metadata": {
        "id": "ZPb1ooxw3lsA"
      },
      "source": [
        ""
      ],
      "execution_count": null,
      "outputs": []
    },
    {
      "cell_type": "markdown",
      "source": [
        "1. Write a Python script to sort (ascending and descending) a dictionary by value"
      ],
      "metadata": {
        "id": "rYhCwk10QPTM"
      }
    },
    {
      "cell_type": "code",
      "source": [
        "y={'carl':40,'alan':2,'bob':1,'danny':3} \n",
        "\n",
        "y.items()\n",
        "\n",
        "\n"
      ],
      "metadata": {
        "id": "0B1EUQfNQR4v",
        "outputId": "afa1691a-d912-4dc4-bf39-324f5f0170ed",
        "colab": {
          "base_uri": "https://localhost:8080/"
        }
      },
      "execution_count": 1,
      "outputs": [
        {
          "output_type": "execute_result",
          "data": {
            "text/plain": [
              "dict_items([('carl', 40), ('alan', 2), ('bob', 1), ('danny', 3)])"
            ]
          },
          "metadata": {},
          "execution_count": 1
        }
      ]
    },
    {
      "cell_type": "code",
      "source": [
        ""
      ],
      "metadata": {
        "id": "NRn2trm2QhVJ"
      },
      "execution_count": null,
      "outputs": []
    }
  ]
}