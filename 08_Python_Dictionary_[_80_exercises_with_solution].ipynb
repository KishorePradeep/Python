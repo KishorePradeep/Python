{
  "nbformat": 4,
  "nbformat_minor": 0,
  "metadata": {
    "colab": {
      "name": "Python Dictionary [ 80 exercises with solution].ipynb",
      "provenance": [],
      "authorship_tag": "ABX9TyOJhLbx3u/7npZfljhxsR54",
      "include_colab_link": true
    },
    "kernelspec": {
      "name": "python3",
      "display_name": "Python 3"
    },
    "language_info": {
      "name": "python"
    }
  },
  "cells": [
    {
      "cell_type": "markdown",
      "metadata": {
        "id": "view-in-github",
        "colab_type": "text"
      },
      "source": [
        "<a href=\"https://colab.research.google.com/github/KishorePradeep/Python/blob/master/08_Python_Dictionary_%5B_80_exercises_with_solution%5D.ipynb\" target=\"_parent\"><img src=\"https://colab.research.google.com/assets/colab-badge.svg\" alt=\"Open In Colab\"/></a>"
      ]
    },
    {
      "cell_type": "code",
      "metadata": {
        "id": "ZPb1ooxw3lsA"
      },
      "source": [
        ""
      ],
      "execution_count": null,
      "outputs": []
    },
    {
      "cell_type": "markdown",
      "source": [
        "1. Write a Python script to sort (ascending and descending) a dictionary by value"
      ],
      "metadata": {
        "id": "rYhCwk10QPTM"
      }
    },
    {
      "cell_type": "code",
      "source": [
        "a ={1:7,3:5,4:7,6:3,6:3}\n",
        "\n",
        "b=a.get(1)\n",
        "\n",
        "print(b)\n",
        "\n",
        "\n",
        "\n"
      ],
      "metadata": {
        "id": "0B1EUQfNQR4v",
        "outputId": "91e38399-9cb7-4a1f-ffdc-b77fa9cb57d0",
        "colab": {
          "base_uri": "https://localhost:8080/"
        }
      },
      "execution_count": 19,
      "outputs": [
        {
          "output_type": "stream",
          "name": "stdout",
          "text": [
            "7\n"
          ]
        }
      ]
    },
    {
      "cell_type": "code",
      "source": [
        ""
      ],
      "metadata": {
        "id": "NRn2trm2QhVJ"
      },
      "execution_count": null,
      "outputs": []
    }
  ]
}