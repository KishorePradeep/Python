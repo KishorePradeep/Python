{
  "nbformat": 4,
  "nbformat_minor": 0,
  "metadata": {
    "colab": {
      "name": "Python Dictionary [ 80 exercises with solution].ipynb",
      "provenance": [],
      "include_colab_link": true
    },
    "kernelspec": {
      "name": "python3",
      "display_name": "Python 3"
    },
    "language_info": {
      "name": "python"
    }
  },
  "cells": [
    {
      "cell_type": "markdown",
      "metadata": {
        "id": "view-in-github",
        "colab_type": "text"
      },
      "source": [
        "<a href=\"https://colab.research.google.com/github/KishorePradeep/Python/blob/master/08_Python_Dictionary_%5B_80_exercises_with_solution%5D.ipynb\" target=\"_parent\"><img src=\"https://colab.research.google.com/assets/colab-badge.svg\" alt=\"Open In Colab\"/></a>"
      ]
    },
    {
      "cell_type": "code",
      "metadata": {
        "id": "ZPb1ooxw3lsA"
      },
      "source": [
        ""
      ],
      "execution_count": null,
      "outputs": []
    },
    {
      "cell_type": "markdown",
      "source": [
        "1. Write a Python script to sort (ascending and descending) a dictionary by value"
      ],
      "metadata": {
        "id": "rYhCwk10QPTM"
      }
    },
    {
      "cell_type": "code",
      "source": [
        "y={'carl':40,'alan':2,'bob':1,'danny':3} \n",
        "\n",
        "x=list(y.items())\n",
        "\n",
        "x.sort()\n",
        "\n",
        "dict(x)\n",
        "\n"
      ],
      "metadata": {
        "id": "0B1EUQfNQR4v",
        "outputId": "1f7fbb80-5fe0-4ea4-bc88-94005c945944",
        "colab": {
          "base_uri": "https://localhost:8080/"
        }
      },
      "execution_count": null,
      "outputs": [
        {
          "output_type": "execute_result",
          "data": {
            "text/plain": [
              "{'alan': 2, 'bob': 1, 'carl': 40, 'danny': 3}"
            ]
          },
          "metadata": {},
          "execution_count": 10
        }
      ]
    },
    {
      "cell_type": "code",
      "source": [
        "# 2. Write a Python script to add a key to a dictionary. Go to the editor\n",
        "\n",
        "a = {0: 10, 1: 20}\n",
        "# Expected Result : {0: 10, 1: 20, 2: 30}\n",
        "\n",
        "a[20]=30\n",
        "\n",
        "print(a)"
      ],
      "metadata": {
        "id": "NRn2trm2QhVJ",
        "colab": {
          "base_uri": "https://localhost:8080/"
        },
        "outputId": "65639abb-b576-4c75-9d26-488994171594"
      },
      "execution_count": null,
      "outputs": [
        {
          "output_type": "stream",
          "name": "stdout",
          "text": [
            "{0: 10, 1: 20, 20: 30}\n"
          ]
        }
      ]
    },
    {
      "cell_type": "markdown",
      "source": [
        "3. Write a Python script to concatenate following dictionaries to create a new one. Go to the editor\n",
        "\n",
        "Sample Dictionary :\n",
        "dic1={1:10, 2:20}\n",
        "dic2={3:30, 4:40}\n",
        "dic3={5:50,6:60}\n",
        "Expected Result : {1: 10, 2: 20, 3: 30, 4: 40, 5: 50, 6: 60}"
      ],
      "metadata": {
        "id": "flJchxn7ZEA5"
      }
    },
    {
      "cell_type": "code",
      "source": [
        "d1={1:10, 2:20}\n",
        "d2={3:30, 4:40}\n",
        "d3={5:50 , 6:60}\n",
        "\n",
        "d={}\n",
        "\n",
        "d.update(d1)\n",
        "d.update(d2)\n",
        "d.update(d3)\n",
        "\n",
        "print(d)"
      ],
      "metadata": {
        "colab": {
          "base_uri": "https://localhost:8080/"
        },
        "id": "-DJLeHmBY1Ug",
        "outputId": "fcfec254-7eed-4a9e-a274-cfda1f08825a"
      },
      "execution_count": null,
      "outputs": [
        {
          "output_type": "stream",
          "name": "stdout",
          "text": [
            "{1: 10, 2: 20, 3: 30, 4: 40, 5: 50, 6: 60}\n"
          ]
        }
      ]
    },
    {
      "cell_type": "markdown",
      "source": [
        ""
      ],
      "metadata": {
        "id": "xpuwl6bN71dz"
      }
    },
    {
      "cell_type": "markdown",
      "source": [
        "4. Write a Python script to check whether a given key already exists in a dictionary\n",
        "\n",
        "\n",
        "s={1: 10, 2: 20, 3: 30, 4: 40, 5: 50, 6: 60}\n",
        "\n",
        "y=89\n",
        "   "
      ],
      "metadata": {
        "id": "LP396Rao72qP"
      }
    },
    {
      "cell_type": "code",
      "source": [
        "s={1: 10, 2: 20, 3: 30, 4: 40, 5: 50, 6: 60}\n",
        "\n",
        "y=89\n",
        "\n",
        "if y in s:\n",
        "  print(\"Found\")\n",
        "else:\n",
        "  print(\"not found\")"
      ],
      "metadata": {
        "id": "MAya9T9279WS",
        "outputId": "6cc9d710-eb6c-4359-a35e-595a69a743d4",
        "colab": {
          "base_uri": "https://localhost:8080/"
        }
      },
      "execution_count": 1,
      "outputs": [
        {
          "output_type": "stream",
          "name": "stdout",
          "text": [
            "not found\n"
          ]
        }
      ]
    }
  ]
}