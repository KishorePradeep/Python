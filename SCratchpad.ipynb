{
  "nbformat": 4,
  "nbformat_minor": 0,
  "metadata": {
    "colab": {
      "name": "SCratchpad.ipynb",
      "provenance": [],
      "authorship_tag": "ABX9TyPqfhnQCDuOV9Wid4UStgOo",
      "include_colab_link": true
    },
    "kernelspec": {
      "name": "python3",
      "display_name": "Python 3"
    },
    "language_info": {
      "name": "python"
    }
  },
  "cells": [
    {
      "cell_type": "markdown",
      "metadata": {
        "id": "view-in-github",
        "colab_type": "text"
      },
      "source": [
        "<a href=\"https://colab.research.google.com/github/KishorePradeep/Python/blob/master/SCratchpad.ipynb\" target=\"_parent\"><img src=\"https://colab.research.google.com/assets/colab-badge.svg\" alt=\"Open In Colab\"/></a>"
      ]
    },
    {
      "cell_type": "code",
      "execution_count": 1,
      "metadata": {
        "id": "EuqO0jBFaHzW",
        "colab": {
          "base_uri": "https://localhost:8080/",
          "height": 131
        },
        "outputId": "f1d0ce4b-3ec5-4f6c-f378-05cec00fd58d"
      },
      "outputs": [
        {
          "output_type": "error",
          "ename": "SyntaxError",
          "evalue": "ignored",
          "traceback": [
            "\u001b[0;36m  File \u001b[0;32m\"<ipython-input-1-1be0745c3389>\"\u001b[0;36m, line \u001b[0;32m1\u001b[0m\n\u001b[0;31m    1 def find_max(nums):\u001b[0m\n\u001b[0m        ^\u001b[0m\n\u001b[0;31mSyntaxError\u001b[0m\u001b[0;31m:\u001b[0m invalid syntax\n"
          ]
        }
      ],
      "source": [
        "1 def find_max(nums):\n",
        "2   max_num = float(\"-inf\") # smaller than all other numbers\n",
        "3   for num in nums:\n",
        "4     if num > max_num:\n",
        "5  # (Fill in the missing line here)\n",
        "6 return max_num"
      ]
    },
    {
      "cell_type": "code",
      "source": [
        "l=[1 ,2,34,5,]\n",
        "\n",
        "type(l)"
      ],
      "metadata": {
        "colab": {
          "base_uri": "https://localhost:8080/"
        },
        "id": "CXFTeb7haPM2",
        "outputId": "5272cbff-7d9a-4357-ca24-7cff3291ef35"
      },
      "execution_count": null,
      "outputs": [
        {
          "output_type": "execute_result",
          "data": {
            "text/plain": [
              "list"
            ]
          },
          "metadata": {},
          "execution_count": 1
        }
      ]
    },
    {
      "cell_type": "code",
      "source": [
        "class Sample():\n",
        "  pass\n",
        "\n",
        "x=Sample()\n",
        "\n",
        "print(type(x))"
      ],
      "metadata": {
        "colab": {
          "base_uri": "https://localhost:8080/"
        },
        "id": "RhvE2hr2adSw",
        "outputId": "d3919d0f-f7e6-4077-c278-7911e6a9ea8a"
      },
      "execution_count": null,
      "outputs": [
        {
          "output_type": "stream",
          "name": "stdout",
          "text": [
            "<class '__main__.Sample'>\n"
          ]
        }
      ]
    },
    {
      "cell_type": "code",
      "source": [
        "class Agent():\n",
        "  def __init__(self,name):\n",
        "    self.name=name\n",
        "\n",
        "\n",
        "x=Agent('Bond')"
      ],
      "metadata": {
        "id": "1TqOad2naobO"
      },
      "execution_count": null,
      "outputs": []
    },
    {
      "cell_type": "code",
      "source": [
        "x.name"
      ],
      "metadata": {
        "id": "F308vYvZbvFN",
        "outputId": "8fc24810-e613-451a-b8a7-db3ab2c5fade",
        "colab": {
          "base_uri": "https://localhost:8080/",
          "height": 35
        }
      },
      "execution_count": null,
      "outputs": [
        {
          "output_type": "execute_result",
          "data": {
            "application/vnd.google.colaboratory.intrinsic+json": {
              "type": "string"
            },
            "text/plain": [
              "'Bond'"
            ]
          },
          "metadata": {},
          "execution_count": 10
        }
      ]
    },
    {
      "cell_type": "markdown",
      "source": [
        "araary pair\n",
        "\n",
        "l=[1,2,3,4,5]\n",
        "c=4\n",
        "\n",
        "\n"
      ],
      "metadata": {
        "id": "ltwqP1apzrlv"
      }
    },
    {
      "cell_type": "code",
      "source": [
        "l=[1,2,3,4,5,2]\n",
        "c=4\n",
        "seen=set()\n",
        "output=set()\n",
        "\n",
        "for i in l:\n",
        "\n",
        "  tgt= c-i\n",
        "\n",
        "  if tgt not in seen:\n",
        "    seen.add(i)\n",
        "  else:\n",
        "    output.add((min(tgt,i),max(tgt,i)))\n",
        "\n",
        "\n",
        "print(output)\n",
        "print(seen)\n"
      ],
      "metadata": {
        "colab": {
          "base_uri": "https://localhost:8080/"
        },
        "id": "ZMpBEPOX1bgx",
        "outputId": "adaed44a-6290-4708-86ae-11862f0b316b"
      },
      "execution_count": 6,
      "outputs": [
        {
          "output_type": "stream",
          "name": "stdout",
          "text": [
            "{(1, 3), (2, 2)}\n",
            "{1, 2, 4, 5}\n"
          ]
        }
      ]
    },
    {
      "cell_type": "code",
      "source": [
        "def finder(a,b) : \n",
        "  a.sort()\n",
        "  b.sort()\n",
        "\n",
        "  for i in range(0,len(a)):\n",
        "    for j in range(0,len(b)):\n",
        "      if a[i]!=b[i]:\n",
        "        return a[i] \n",
        "\n",
        "arr1 = [9,8,7,6,5,4,3,2,1]\n",
        "arr2 = [9,8,7,5,4,3,2,1]\n",
        "\n",
        "finder(arr1,arr2)"
      ],
      "metadata": {
        "colab": {
          "base_uri": "https://localhost:8080/"
        },
        "id": "I_TUPAIIQBP5",
        "outputId": "588868b0-070e-4874-a566-9774ca255e59"
      },
      "execution_count": 10,
      "outputs": [
        {
          "output_type": "execute_result",
          "data": {
            "text/plain": [
              "6"
            ]
          },
          "metadata": {},
          "execution_count": 10
        }
      ]
    },
    {
      "cell_type": "code",
      "source": [
        "arr1 = [9,8,7,6,5,4,3,2,1,3,4,5]\n",
        "arr2 = [9,8,7,5,4,3,2,1]\n",
        "\n",
        "d={}\n",
        "\n",
        "for i in arr2:\n",
        "  if i in d:\n",
        "    d[i] +=1\n",
        "  else:\n",
        "    d[i]=1\n",
        "\n",
        "print(d)\n",
        "\n",
        "for j in arr1:\n",
        "  if j not in d:\n",
        "    print(j)\n",
        "  else:\n",
        "    pass\n",
        "\n"
      ],
      "metadata": {
        "colab": {
          "base_uri": "https://localhost:8080/"
        },
        "id": "Ei-OqTGWQjYz",
        "outputId": "2472a0d3-7122-41ec-9483-87c10df6b7a3"
      },
      "execution_count": 27,
      "outputs": [
        {
          "output_type": "stream",
          "name": "stdout",
          "text": [
            "{9: 1, 8: 1, 7: 1, 5: 1, 4: 1, 3: 1, 2: 1, 1: 1}\n",
            "6\n"
          ]
        }
      ]
    },
    {
      "cell_type": "markdown",
      "source": [
        "Continuos Sum "
      ],
      "metadata": {
        "id": "vzVisRq9kzcw"
      }
    },
    {
      "cell_type": "code",
      "source": [
        "l=[1,2,-1,3,4,-1]\n",
        "m=[]\n",
        "cnt=0\n",
        "for i in range(0,len(l)):\n",
        "      cnt+=l[i]\n",
        "      m.append(cnt)\n",
        "\n",
        "\n",
        "print(m)\n",
        "m.sort()\n",
        "print(m[-1])\n"
      ],
      "metadata": {
        "colab": {
          "base_uri": "https://localhost:8080/"
        },
        "id": "ziThkFsmk3P2",
        "outputId": "5db6d234-dd6d-439c-be77-5f37e767b3f6"
      },
      "execution_count": 37,
      "outputs": [
        {
          "output_type": "stream",
          "name": "stdout",
          "text": [
            "[1, 3, 2, 5, 9, 8]\n",
            "9\n"
          ]
        }
      ]
    },
    {
      "cell_type": "code",
      "source": [
        "l=[1,2,-1,3,4,-1]\n",
        "m=[]\n",
        "cnt=l[i]\n",
        "mx=l[i]\n",
        "\n",
        "for i in range(0,len(l)):\n",
        "      cnt+=l[i]\n",
        "      mx=max(cnt,mx)\n",
        "\n",
        "\n",
        "print(mx)\n"
      ],
      "metadata": {
        "colab": {
          "base_uri": "https://localhost:8080/"
        },
        "id": "cGoN_f2Xleut",
        "outputId": "5d0e8fd6-03af-4de6-a8c4-a1594e096135"
      },
      "execution_count": 39,
      "outputs": [
        {
          "output_type": "stream",
          "name": "stdout",
          "text": [
            "8\n"
          ]
        }
      ]
    },
    {
      "cell_type": "markdown",
      "source": [
        "Given a string of words, reverse all the words. For example:\n",
        "\n",
        "Given:\n",
        "\n",
        "'This is the best'\n",
        "\n",
        "Return:\n",
        "\n",
        "'best the is This'"
      ],
      "metadata": {
        "id": "WimVukNYsiAU"
      }
    },
    {
      "cell_type": "code",
      "source": [
        "def splity(a):\n",
        "  b=a.split()\n",
        "  c=[]\n",
        "  for i in range(len(b),0):\n",
        "    c.append(b[i])\n",
        " \n",
        "  return b\n",
        "\n",
        "print(splity('This is the best'))"
      ],
      "metadata": {
        "colab": {
          "base_uri": "https://localhost:8080/"
        },
        "id": "9WKyyd56skWV",
        "outputId": "f0ac75d1-589e-497f-dc25-123ed196ed6f"
      },
      "execution_count": 47,
      "outputs": [
        {
          "output_type": "stream",
          "name": "stdout",
          "text": [
            "['This', 'is', 'the', 'best']\n"
          ]
        }
      ]
    },
    {
      "cell_type": "code",
      "source": [
        "a=' This is the best'\n",
        "b=a.split()\n",
        "c=[]\n",
        "s=' '\n",
        "i=0\n",
        "while i < len(b):\n",
        "  if b[i]!=s:\n",
        "    c.append(b[i])\n",
        "    c.append(s)\n",
        "    \n",
        "  i+=1\n",
        "\n",
        "print(\" \".join(c) )\n",
        "\n",
        "  \n",
        "\n",
        " "
      ],
      "metadata": {
        "colab": {
          "base_uri": "https://localhost:8080/"
        },
        "id": "FBuWbEdZs-wn",
        "outputId": "dc825f30-f625-4110-fa6c-3ee800292ada"
      },
      "execution_count": 73,
      "outputs": [
        {
          "output_type": "stream",
          "name": "stdout",
          "text": [
            "This   is   the   best  \n"
          ]
        }
      ]
    },
    {
      "cell_type": "markdown",
      "source": [
        ""
      ],
      "metadata": {
        "id": "tcnvs1L5yvU4"
      }
    },
    {
      "cell_type": "markdown",
      "source": [
        "Text : String complresssiton\n",
        "\n"
      ],
      "metadata": {
        "id": "P5UWyn39yvW4"
      }
    },
    {
      "cell_type": "code",
      "source": [
        "x='AAAABBBBCCCCbabababbbaCDDEEEE'\n",
        "y=list(x)\n",
        "print(y)\n",
        "\n",
        "d={}\n",
        "\n",
        "for i in x:\n",
        "  if i in d:\n",
        "    d[i] +=1\n",
        "  else:\n",
        "    d[i]=1\n",
        "    \n",
        "\n",
        "print(d)\n"
      ],
      "metadata": {
        "colab": {
          "base_uri": "https://localhost:8080/"
        },
        "id": "Q1bTw5_bt0sm",
        "outputId": "cdd6b09d-7e8b-47ee-9bd5-0864fb551a95"
      },
      "execution_count": 88,
      "outputs": [
        {
          "output_type": "stream",
          "name": "stdout",
          "text": [
            "['A', 'A', 'A', 'A', 'B', 'B', 'B', 'B', 'C', 'C', 'C', 'C', 'b', 'a', 'b', 'a', 'b', 'a', 'b', 'b', 'b', 'a', 'C', 'D', 'D', 'E', 'E', 'E', 'E']\n",
            "{'A': 4, 'B': 4, 'C': 5, 'b': 6, 'a': 4, 'D': 2, 'E': 4}\n"
          ]
        }
      ]
    },
    {
      "cell_type": "markdown",
      "source": [
        "positive on e side nesgagive once side\n",
        "\n",
        "[10,-1,20,4,5,-9,-6]"
      ],
      "metadata": {
        "id": "rCPuNXn1IDt3"
      }
    },
    {
      "cell_type": "code",
      "source": [
        "l=[10,-1,20,4,5,-9,-6]\n",
        "m=[]\n",
        "n=[]\n",
        "\n",
        "for i in range(0,len(l)):\n",
        "  if l[i]>0:\n",
        "    m.append(l[i])\n",
        "  else:\n",
        "    n.append(l[i])\n",
        "\n",
        "print(l)\n",
        "print(n+m)\n",
        "            "
      ],
      "metadata": {
        "colab": {
          "base_uri": "https://localhost:8080/"
        },
        "id": "s64g2XBO1ULf",
        "outputId": "774e2996-14a7-4c50-b7b4-9585379d2ad9"
      },
      "execution_count": 90,
      "outputs": [
        {
          "output_type": "stream",
          "name": "stdout",
          "text": [
            "[10, -1, 20, 4, 5, -9, -6]\n",
            "[-1, -9, -6, 10, 20, 4, 5]\n"
          ]
        }
      ]
    },
    {
      "cell_type": "code",
      "source": [
        "l=[1,2,5]\n",
        "m=[3,4,6]\n",
        "n=[]\n",
        "\n",
        "for i in range(0,len(l)):\n",
        "  for j in range(0,len(m)):\n",
        "    if l[i]>m[j]\n",
        "       "
      ],
      "metadata": {
        "id": "mUqUU3NHJBlx"
      },
      "execution_count": null,
      "outputs": []
    },
    {
      "cell_type": "code",
      "source": [
        "# Merge list1 and list2 and return resulted list\n",
        "def merge_lists(lst1, lst2):\n",
        "    index_arr1 = 0\n",
        "    index_arr2 = 0\n",
        "    index_result = 0\n",
        "    result = []\n",
        "\n",
        "    for i in range(len(lst1)+len(lst2)):\n",
        "        result.append(i)\n",
        "    \n",
        "    print(result)\n",
        "    # Traverse Both lists and insert smaller value from arr1 or arr2\n",
        "    # into result list and then increment that lists index.\n",
        "    # If a list is completely traversed, while other one is left then just\n",
        "    # copy all the remaining elements into result list\n",
        "    while (index_arr1 < len(lst1)) and (index_arr2 < len(lst2)):\n",
        "        if (lst1[index_arr1] < lst2[index_arr2]):\n",
        "            result[index_result] = lst1[index_arr1]\n",
        "            index_result += 1\n",
        "            index_arr1 += 1\n",
        "        else:\n",
        "            result[index_result] = lst2[index_arr2]\n",
        "            index_result += 1\n",
        "            index_arr2 += 1\n",
        "    while (index_arr1 < len(lst1)):\n",
        "        result[index_result] = lst1[index_arr1]\n",
        "        index_result += 1\n",
        "        index_arr1 += 1\n",
        "    while (index_arr2 < len(lst2)):\n",
        "        result[index_result] = lst2[index_arr2]\n",
        "        index_result += 1\n",
        "        index_arr2 += 1\n",
        "    return result\n",
        "\n",
        "\n",
        "print(merge_lists([4, 5, 6], [-2, -1, 0, 7]))"
      ],
      "metadata": {
        "colab": {
          "base_uri": "https://localhost:8080/"
        },
        "id": "eu2go4ksJ89z",
        "outputId": "6699df9f-3189-41f8-af63-4ba553750886"
      },
      "execution_count": 92,
      "outputs": [
        {
          "output_type": "stream",
          "name": "stdout",
          "text": [
            "[0, 1, 2, 3, 4, 5, 6]\n",
            "[-2, -1, 0, 4, 5, 6, 7]\n"
          ]
        }
      ]
    },
    {
      "cell_type": "code",
      "source": [
        "arr1 = [9,8,7,6,5,4,3,2,1,3,4,5]\n",
        "arr2 = [9,8,7,5,4,3,2,1]\n",
        "\n",
        "d={}\n",
        "\n",
        "for i in arr2:\n",
        "  if i in d:\n",
        "    d[i] +=1\n",
        "  else:\n",
        "    d[i]=1\n",
        "\n",
        "print(d)\n",
        "\n",
        "for j in arr1:\n",
        "  if j not in d:\n",
        "    print(j)\n",
        "  else:\n",
        "    pass\n",
        "\n"
      ],
      "metadata": {
        "colab": {
          "base_uri": "https://localhost:8080/"
        },
        "outputId": "2472a0d3-7122-41ec-9483-87c10df6b7a3",
        "id": "DxwwOIqm3AOl"
      },
      "execution_count": null,
      "outputs": [
        {
          "output_type": "stream",
          "name": "stdout",
          "text": [
            "{9: 1, 8: 1, 7: 1, 5: 1, 4: 1, 3: 1, 2: 1, 1: 1}\n",
            "6\n"
          ]
        }
      ]
    },
    {
      "cell_type": "code",
      "source": [
        "c='aabcde'\n",
        "d=list(c)\n",
        "\n",
        "print(d)\n",
        "\n",
        "for i in (1,len(d)-1):\n",
        "  if d[i-1]==d[i]:\n",
        "    print('True')\n",
        "    break\n",
        "  else: \n",
        "    print('False')"
      ],
      "metadata": {
        "colab": {
          "base_uri": "https://localhost:8080/"
        },
        "id": "zRZ97iG1NNnR",
        "outputId": "e5e33a81-9d19-4f37-fb2b-96df42665c5a"
      },
      "execution_count": 98,
      "outputs": [
        {
          "output_type": "stream",
          "name": "stdout",
          "text": [
            "['a', 'a', 'b', 'c', 'd', 'e']\n",
            "True\n"
          ]
        }
      ]
    },
    {
      "cell_type": "code",
      "source": [
        "\n",
        "\n",
        "s=[\"flower\",\"flow\",\"flight\"]\n",
        "s[0][1:4]"
      ],
      "metadata": {
        "colab": {
          "base_uri": "https://localhost:8080/",
          "height": 35
        },
        "id": "K74QwYtCC3MW",
        "outputId": "c6ce6f2a-be7f-4761-ca5d-79eb155cdacd"
      },
      "execution_count": 7,
      "outputs": [
        {
          "output_type": "execute_result",
          "data": {
            "application/vnd.google.colaboratory.intrinsic+json": {
              "type": "string"
            },
            "text/plain": [
              "'low'"
            ]
          },
          "metadata": {},
          "execution_count": 7
        }
      ]
    },
    {
      "cell_type": "markdown",
      "source": [
        "Input: strs = [\"flower\",\"flow\",\"flight\"]\n",
        "\n",
        "Output: \"fl\""
      ],
      "metadata": {
        "id": "0xondix0lnar"
      }
    },
    {
      "cell_type": "code",
      "source": [
        "s=[\"flower\",\"flow\",\"flight\"]\n",
        "p=list(s[0])\n",
        "\n",
        "\n",
        "print(p)\n",
        "\n",
        "for i in range(0,len(p)):\n",
        "  for j in range(1,len(s)):\n",
        "    if s[i][0:j]\n"
      ],
      "metadata": {
        "colab": {
          "base_uri": "https://localhost:8080/"
        },
        "id": "dksPNnZcNS-I",
        "outputId": "cd0bf3ff-b73b-4d56-ea90-7cc2cea25ec9"
      },
      "execution_count": 2,
      "outputs": [
        {
          "output_type": "stream",
          "name": "stdout",
          "text": [
            "['f', 'l', 'o', 'w', 'e', 'r']\n"
          ]
        }
      ]
    },
    {
      "cell_type": "code",
      "source": [
        "lst[i]: lst[i + 1] for i in range(0, len(lst), 2)"
      ],
      "metadata": {
        "id": "FgOMpl-Alu1v"
      },
      "execution_count": null,
      "outputs": []
    },
    {
      "cell_type": "code",
      "source": [
        "nums = [4,1,2,1,2]\n",
        "d={}\n",
        "\n",
        "\n",
        "\n",
        "\n"
      ],
      "metadata": {
        "colab": {
          "base_uri": "https://localhost:8080/"
        },
        "id": "0GvU3pIS5GT8",
        "outputId": "0e23488f-b973-44e6-aef1-094c0b32cdfd"
      },
      "execution_count": 31,
      "outputs": [
        {
          "output_type": "stream",
          "name": "stdout",
          "text": [
            "{4: 1, 1: 2, 2: 2}\n",
            "4\n"
          ]
        }
      ]
    },
    {
      "cell_type": "code",
      "source": [
        "d={4: 1, 1: 3, 2: 2}\n",
        "print(d.keys(1))\n"
      ],
      "metadata": {
        "colab": {
          "base_uri": "https://localhost:8080/",
          "height": 184
        },
        "id": "YyfTCdkF5dul",
        "outputId": "4f3069cb-1ad1-4855-a565-cbe4f346115a"
      },
      "execution_count": 26,
      "outputs": [
        {
          "output_type": "error",
          "ename": "TypeError",
          "evalue": "ignored",
          "traceback": [
            "\u001b[0;31m---------------------------------------------------------------------------\u001b[0m",
            "\u001b[0;31mTypeError\u001b[0m                                 Traceback (most recent call last)",
            "\u001b[0;32m<ipython-input-26-51eb9ef78e5d>\u001b[0m in \u001b[0;36m<module>\u001b[0;34m()\u001b[0m\n\u001b[1;32m      1\u001b[0m \u001b[0md\u001b[0m\u001b[0;34m=\u001b[0m\u001b[0;34m{\u001b[0m\u001b[0;36m4\u001b[0m\u001b[0;34m:\u001b[0m \u001b[0;36m1\u001b[0m\u001b[0;34m,\u001b[0m \u001b[0;36m1\u001b[0m\u001b[0;34m:\u001b[0m \u001b[0;36m3\u001b[0m\u001b[0;34m,\u001b[0m \u001b[0;36m2\u001b[0m\u001b[0;34m:\u001b[0m \u001b[0;36m2\u001b[0m\u001b[0;34m}\u001b[0m\u001b[0;34m\u001b[0m\u001b[0;34m\u001b[0m\u001b[0m\n\u001b[0;32m----> 2\u001b[0;31m \u001b[0mprint\u001b[0m\u001b[0;34m(\u001b[0m\u001b[0md\u001b[0m\u001b[0;34m.\u001b[0m\u001b[0mkeys\u001b[0m\u001b[0;34m(\u001b[0m\u001b[0;36m1\u001b[0m\u001b[0;34m)\u001b[0m\u001b[0;34m)\u001b[0m\u001b[0;34m\u001b[0m\u001b[0;34m\u001b[0m\u001b[0m\n\u001b[0m",
            "\u001b[0;31mTypeError\u001b[0m: keys() takes no arguments (1 given)"
          ]
        }
      ]
    },
    {
      "cell_type": "code",
      "source": [
        ""
      ],
      "metadata": {
        "id": "Yq6-0a2523_H"
      },
      "execution_count": null,
      "outputs": []
    },
    {
      "cell_type": "markdown",
      "source": [
        "Balance Check\n",
        "\n",
        "s='{{{{[]}}}}'\n",
        "\n",
        "\n"
      ],
      "metadata": {
        "id": "62N_KzOi7c21"
      }
    },
    {
      "cell_type": "code",
      "source": [
        "s='{{{{[{{}}]}}}}]'\n",
        "\n",
        "p=list(s)\n",
        "\n",
        "open=('[','{','(')\n",
        "\n",
        "match=(('[',']'),('{','}'),('(',')'))\n",
        "\n",
        "lst=p[0]\n",
        "\n",
        "x=[]\n",
        "\n",
        "if len(p)%2!=0:\n",
        "  print('no use')\n",
        "  exit\n",
        "\n",
        "\n",
        "for i in s:\n",
        "  if i in open:\n",
        "    x.append(i)\n",
        "\n",
        "  else : \n",
        "    if len(x)==0:\n",
        "      print('nope')\n",
        "      break\n",
        "\n",
        "    lst=x.pop()\n",
        "\n",
        "    if (lst,i) not in match:\n",
        "      print('False')\n",
        "      print((i,lst))\n",
        "\n",
        "\n"
      ],
      "metadata": {
        "colab": {
          "base_uri": "https://localhost:8080/"
        },
        "id": "EG2gy-567g9o",
        "outputId": "b7ee12ac-2b83-40bb-89e9-9af31f0f6338"
      },
      "execution_count": 27,
      "outputs": [
        {
          "output_type": "stream",
          "name": "stdout",
          "text": [
            "no use\n",
            "nope\n"
          ]
        }
      ]
    },
    {
      "cell_type": "code",
      "source": [
        "def fact(n):\n",
        "\n",
        "  if n==0:\n",
        "    return 1\n",
        "    print('base case')\n",
        "  else:\n",
        "    print(n)\n",
        "    print('recur')\n",
        "    return n*fact(n-1)\n",
        "\n",
        "fact(5)"
      ],
      "metadata": {
        "id": "K4q-OcDncLak",
        "outputId": "60e07c82-b64e-4a2e-f6ee-3a57abed129e",
        "colab": {
          "base_uri": "https://localhost:8080/"
        }
      },
      "execution_count": 12,
      "outputs": [
        {
          "output_type": "stream",
          "name": "stdout",
          "text": [
            "5\n",
            "recur\n",
            "4\n",
            "recur\n",
            "3\n",
            "recur\n",
            "2\n",
            "recur\n",
            "1\n",
            "recur\n"
          ]
        },
        {
          "output_type": "execute_result",
          "data": {
            "text/plain": [
              "120"
            ]
          },
          "metadata": {},
          "execution_count": 12
        }
      ]
    },
    {
      "cell_type": "code",
      "source": [
        "def cum(a):\n",
        "\n",
        "  if a==0:\n",
        "    return 0\n",
        "  else: \n",
        "    return a%10+cum(int(a/10))\n",
        "\n",
        "\n",
        "\n",
        "\n",
        "print(cum(4321))"
      ],
      "metadata": {
        "id": "H8-9_5OPcZCW",
        "outputId": "7de160cf-7554-443a-c665-3c135e1e6482",
        "colab": {
          "base_uri": "https://localhost:8080/"
        }
      },
      "execution_count": 19,
      "outputs": [
        {
          "output_type": "stream",
          "name": "stdout",
          "text": [
            "10\n"
          ]
        }
      ]
    },
    {
      "cell_type": "code",
      "source": [
        "int(4502/10)"
      ],
      "metadata": {
        "id": "O69nvIAXfeTH",
        "outputId": "28091b5d-d508-44c5-950f-30ba595c78df",
        "colab": {
          "base_uri": "https://localhost:8080/"
        }
      },
      "execution_count": 17,
      "outputs": [
        {
          "output_type": "execute_result",
          "data": {
            "text/plain": [
              "450"
            ]
          },
          "metadata": {},
          "execution_count": 17
        }
      ]
    },
    {
      "cell_type": "code",
      "source": [
        "nums = [3,2,3]\n",
        "d={}\n",
        "\n",
        "for i in nums:\n",
        "  if i in d:\n",
        "    d[i]+=1\n",
        "  else:\n",
        "    d[i]=1\n",
        "\n",
        "\n",
        "\n",
        "for i in d:\n",
        "  if d[i]>len(nums)/2:\n",
        "    print(i)\n"
      ],
      "metadata": {
        "id": "klrg4K2xgj21",
        "outputId": "eaa59374-48f1-4ff8-b893-1177dca29c10",
        "colab": {
          "base_uri": "https://localhost:8080/"
        }
      },
      "execution_count": 9,
      "outputs": [
        {
          "output_type": "stream",
          "name": "stdout",
          "text": [
            "{3: 2, 2: 1}\n",
            "2\n",
            "3\n"
          ]
        }
      ]
    },
    {
      "cell_type": "markdown",
      "source": [
        "Recursion"
      ],
      "metadata": {
        "id": "qEvCnY6UCe2d"
      }
    },
    {
      "cell_type": "code",
      "source": [
        ""
      ],
      "metadata": {
        "id": "Vnq6_dIiCiNP"
      },
      "execution_count": null,
      "outputs": []
    },
    {
      "cell_type": "markdown",
      "source": [
        "s='Hello World'\n",
        "\n",
        "o = dlrow olleh' "
      ],
      "metadata": {
        "id": "kcl6SXxcTv-_"
      }
    },
    {
      "cell_type": "code",
      "source": [
        "def rev(d):\n",
        "\n",
        "  print('above',d)\n",
        "  if len(d)==1:\n",
        "    print('here',d)\n",
        "    return d\n",
        "\n",
        "\n",
        "  return  rev(d[1:])+d[0]\n",
        "\n",
        "print(rev('abcdef'))\n",
        "\n"
      ],
      "metadata": {
        "id": "i23oP7GJT0wQ",
        "outputId": "a0ea8db3-6082-4285-deae-26b2b426702f",
        "colab": {
          "base_uri": "https://localhost:8080/"
        }
      },
      "execution_count": 16,
      "outputs": [
        {
          "output_type": "stream",
          "name": "stdout",
          "text": [
            "above abcdef\n",
            "above bcdef\n",
            "above cdef\n",
            "above def\n",
            "above ef\n",
            "above f\n",
            "here f\n",
            "fedcba\n"
          ]
        }
      ]
    },
    {
      "cell_type": "code",
      "source": [
        ""
      ],
      "metadata": {
        "id": "2x6GSQBrVW-v"
      },
      "execution_count": null,
      "outputs": []
    }
  ]
}