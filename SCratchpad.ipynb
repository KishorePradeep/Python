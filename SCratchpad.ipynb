{
  "nbformat": 4,
  "nbformat_minor": 0,
  "metadata": {
    "colab": {
      "name": "SCratchpad.ipynb",
      "provenance": [],
      "include_colab_link": true
    },
    "kernelspec": {
      "name": "python3",
      "display_name": "Python 3"
    },
    "language_info": {
      "name": "python"
    }
  },
  "cells": [
    {
      "cell_type": "markdown",
      "metadata": {
        "id": "view-in-github",
        "colab_type": "text"
      },
      "source": [
        "<a href=\"https://colab.research.google.com/github/KishorePradeep/Python/blob/master/SCratchpad.ipynb\" target=\"_parent\"><img src=\"https://colab.research.google.com/assets/colab-badge.svg\" alt=\"Open In Colab\"/></a>"
      ]
    },
    {
      "cell_type": "code",
      "execution_count": null,
      "metadata": {
        "id": "EuqO0jBFaHzW",
        "colab": {
          "base_uri": "https://localhost:8080/",
          "height": 131
        },
        "outputId": "f1d0ce4b-3ec5-4f6c-f378-05cec00fd58d"
      },
      "outputs": [
        {
          "output_type": "error",
          "ename": "SyntaxError",
          "evalue": "ignored",
          "traceback": [
            "\u001b[0;36m  File \u001b[0;32m\"<ipython-input-1-1be0745c3389>\"\u001b[0;36m, line \u001b[0;32m1\u001b[0m\n\u001b[0;31m    1 def find_max(nums):\u001b[0m\n\u001b[0m        ^\u001b[0m\n\u001b[0;31mSyntaxError\u001b[0m\u001b[0;31m:\u001b[0m invalid syntax\n"
          ]
        }
      ],
      "source": [
        "1 def find_max(nums):\n",
        "2   max_num = float(\"-inf\") # smaller than all other numbers\n",
        "3   for num in nums:\n",
        "4     if num > max_num:\n",
        "5  # (Fill in the missing line here)\n",
        "6 return max_num"
      ]
    },
    {
      "cell_type": "code",
      "source": [
        "def validPalindrome( s):\n",
        "        \n",
        "        \n",
        "  return list(reversed(s))==list(s)\n",
        "\n",
        "print(validPalindrome(\"aba\"))"
      ],
      "metadata": {
        "id": "CQdK2AA5O1Vt",
        "outputId": "19b987ce-2548-4c6b-f322-5a5bc772d5ef",
        "colab": {
          "base_uri": "https://localhost:8080/"
        }
      },
      "execution_count": null,
      "outputs": [
        {
          "output_type": "stream",
          "name": "stdout",
          "text": [
            "True\n"
          ]
        }
      ]
    },
    {
      "cell_type": "code",
      "source": [
        "pip install requests"
      ],
      "metadata": {
        "id": "7y-gx-QA5Cf5",
        "outputId": "a8ea3da2-0f3c-4317-9fba-5e800b585916",
        "colab": {
          "base_uri": "https://localhost:8080/"
        }
      },
      "execution_count": null,
      "outputs": [
        {
          "output_type": "stream",
          "name": "stdout",
          "text": [
            "Requirement already satisfied: requests in /usr/local/lib/python3.7/dist-packages (2.23.0)\n",
            "Requirement already satisfied: idna<3,>=2.5 in /usr/local/lib/python3.7/dist-packages (from requests) (2.10)\n",
            "Requirement already satisfied: urllib3!=1.25.0,!=1.25.1,<1.26,>=1.21.1 in /usr/local/lib/python3.7/dist-packages (from requests) (1.24.3)\n",
            "Requirement already satisfied: chardet<4,>=3.0.2 in /usr/local/lib/python3.7/dist-packages (from requests) (3.0.4)\n",
            "Requirement already satisfied: certifi>=2017.4.17 in /usr/local/lib/python3.7/dist-packages (from requests) (2021.10.8)\n"
          ]
        }
      ]
    },
    {
      "cell_type": "code",
      "source": [
        "query = {'lat':'45', 'lon':'180'}\n",
        "response = requests.get('http://api.open-notify.org/iss-pass.json', params=query)\n",
        "print(response.json())\n"
      ],
      "metadata": {
        "id": "iAcJ5ZDN5LHi",
        "outputId": "5aee3431-9372-49e5-ad58-5a78a4ca2259",
        "colab": {
          "base_uri": "https://localhost:8080/"
        }
      },
      "execution_count": null,
      "outputs": [
        {
          "output_type": "stream",
          "name": "stdout",
          "text": [
            "{'message': 'success', 'request': {'altitude': 100, 'datetime': 1643578243, 'latitude': 45.0, 'longitude': 180.0, 'passes': 5}, 'response': [{'duration': 557, 'risetime': 1643590108}, {'duration': 650, 'risetime': 1643595842}, {'duration': 627, 'risetime': 1643601678}, {'duration': 625, 'risetime': 1643607522}, {'duration': 651, 'risetime': 1643613336}]}\n"
          ]
        }
      ]
    },
    {
      "cell_type": "code",
      "source": [
        "l=[1 ,2,34,5,]\n",
        "\n",
        "type(l)"
      ],
      "metadata": {
        "colab": {
          "base_uri": "https://localhost:8080/"
        },
        "id": "CXFTeb7haPM2",
        "outputId": "5272cbff-7d9a-4357-ca24-7cff3291ef35"
      },
      "execution_count": null,
      "outputs": [
        {
          "output_type": "execute_result",
          "data": {
            "text/plain": [
              "list"
            ]
          },
          "metadata": {},
          "execution_count": 1
        }
      ]
    },
    {
      "cell_type": "code",
      "source": [
        "class Sample():\n",
        "  pass\n",
        "\n",
        "x=Sample()\n",
        "\n",
        "print(type(x))"
      ],
      "metadata": {
        "colab": {
          "base_uri": "https://localhost:8080/"
        },
        "id": "RhvE2hr2adSw",
        "outputId": "d3919d0f-f7e6-4077-c278-7911e6a9ea8a"
      },
      "execution_count": null,
      "outputs": [
        {
          "output_type": "stream",
          "name": "stdout",
          "text": [
            "<class '__main__.Sample'>\n"
          ]
        }
      ]
    },
    {
      "cell_type": "code",
      "source": [
        "class Agent():\n",
        "  def __init__(self,name):\n",
        "    self.name=name\n",
        "\n",
        "\n",
        "x=Agent('Bond')"
      ],
      "metadata": {
        "id": "1TqOad2naobO"
      },
      "execution_count": null,
      "outputs": []
    },
    {
      "cell_type": "code",
      "source": [
        "x.name"
      ],
      "metadata": {
        "id": "F308vYvZbvFN",
        "outputId": "8fc24810-e613-451a-b8a7-db3ab2c5fade",
        "colab": {
          "base_uri": "https://localhost:8080/",
          "height": 35
        }
      },
      "execution_count": null,
      "outputs": [
        {
          "output_type": "execute_result",
          "data": {
            "application/vnd.google.colaboratory.intrinsic+json": {
              "type": "string"
            },
            "text/plain": [
              "'Bond'"
            ]
          },
          "metadata": {},
          "execution_count": 10
        }
      ]
    },
    {
      "cell_type": "markdown",
      "source": [
        "araary pair\n",
        "\n",
        "l=[1,2,3,4,5]\n",
        "c=4\n",
        "\n",
        "\n"
      ],
      "metadata": {
        "id": "ltwqP1apzrlv"
      }
    },
    {
      "cell_type": "code",
      "source": [
        "l=[1,2,3,4,5,2]\n",
        "c=4\n",
        "seen=set()\n",
        "output=set()\n",
        "\n",
        "for i in l:\n",
        "\n",
        "  tgt= c-i\n",
        "\n",
        "  if tgt not in seen:\n",
        "    seen.add(i)\n",
        "  else:\n",
        "    output.add((min(tgt,i),max(tgt,i)))\n",
        "\n",
        "\n",
        "print(output)\n",
        "print(seen)\n"
      ],
      "metadata": {
        "colab": {
          "base_uri": "https://localhost:8080/"
        },
        "id": "ZMpBEPOX1bgx",
        "outputId": "adaed44a-6290-4708-86ae-11862f0b316b"
      },
      "execution_count": null,
      "outputs": [
        {
          "output_type": "stream",
          "name": "stdout",
          "text": [
            "{(1, 3), (2, 2)}\n",
            "{1, 2, 4, 5}\n"
          ]
        }
      ]
    },
    {
      "cell_type": "code",
      "source": [
        "def finder(a,b) : \n",
        "  a.sort()\n",
        "  b.sort()\n",
        "\n",
        "  for i in range(0,len(a)):\n",
        "    for j in range(0,len(b)):\n",
        "      if a[i]!=b[i]:\n",
        "        return a[i] \n",
        "\n",
        "arr1 = [9,8,7,6,5,4,3,2,1]\n",
        "arr2 = [9,8,7,5,4,3,2,1]\n",
        "\n",
        "finder(arr1,arr2)"
      ],
      "metadata": {
        "colab": {
          "base_uri": "https://localhost:8080/"
        },
        "id": "I_TUPAIIQBP5",
        "outputId": "588868b0-070e-4874-a566-9774ca255e59"
      },
      "execution_count": null,
      "outputs": [
        {
          "output_type": "execute_result",
          "data": {
            "text/plain": [
              "6"
            ]
          },
          "metadata": {},
          "execution_count": 10
        }
      ]
    },
    {
      "cell_type": "code",
      "source": [
        "arr1 = [9,8,7,6,5,4,3,2,1,3,4,5]\n",
        "arr2 = [9,8,7,5,4,3,2,1]\n",
        "\n",
        "d={}\n",
        "\n",
        "for i in arr2:\n",
        "  if i in d:\n",
        "    d[i] +=1\n",
        "  else:\n",
        "    d[i]=1\n",
        "\n",
        "print(d)\n",
        "\n",
        "for j in arr1:\n",
        "  if j not in d:\n",
        "    print(j)\n",
        "  else:\n",
        "    pass\n",
        "\n"
      ],
      "metadata": {
        "colab": {
          "base_uri": "https://localhost:8080/"
        },
        "id": "Ei-OqTGWQjYz",
        "outputId": "2472a0d3-7122-41ec-9483-87c10df6b7a3"
      },
      "execution_count": null,
      "outputs": [
        {
          "output_type": "stream",
          "name": "stdout",
          "text": [
            "{9: 1, 8: 1, 7: 1, 5: 1, 4: 1, 3: 1, 2: 1, 1: 1}\n",
            "6\n"
          ]
        }
      ]
    },
    {
      "cell_type": "markdown",
      "source": [
        "Continuos Sum "
      ],
      "metadata": {
        "id": "vzVisRq9kzcw"
      }
    },
    {
      "cell_type": "code",
      "source": [
        "l=[1,2,-1,3,4,-1]\n",
        "m=[]\n",
        "cnt=0\n",
        "for i in range(0,len(l)):\n",
        "      cnt+=l[i]\n",
        "      m.append(cnt)\n",
        "\n",
        "\n",
        "print(m)\n",
        "m.sort()\n",
        "print(m[-1])\n"
      ],
      "metadata": {
        "colab": {
          "base_uri": "https://localhost:8080/"
        },
        "id": "ziThkFsmk3P2",
        "outputId": "5db6d234-dd6d-439c-be77-5f37e767b3f6"
      },
      "execution_count": null,
      "outputs": [
        {
          "output_type": "stream",
          "name": "stdout",
          "text": [
            "[1, 3, 2, 5, 9, 8]\n",
            "9\n"
          ]
        }
      ]
    },
    {
      "cell_type": "code",
      "source": [
        "l=[1,2,-1,3,4,-1]\n",
        "m=[]\n",
        "cnt=l[i]\n",
        "mx=l[i]\n",
        "\n",
        "for i in range(0,len(l)):\n",
        "      cnt+=l[i]\n",
        "      mx=max(cnt,mx)\n",
        "\n",
        "\n",
        "print(mx)\n"
      ],
      "metadata": {
        "colab": {
          "base_uri": "https://localhost:8080/"
        },
        "id": "cGoN_f2Xleut",
        "outputId": "5d0e8fd6-03af-4de6-a8c4-a1594e096135"
      },
      "execution_count": null,
      "outputs": [
        {
          "output_type": "stream",
          "name": "stdout",
          "text": [
            "8\n"
          ]
        }
      ]
    },
    {
      "cell_type": "markdown",
      "source": [
        "Given a string of words, reverse all the words. For example:\n",
        "\n",
        "Given:\n",
        "\n",
        "'This is the best'\n",
        "\n",
        "Return:\n",
        "\n",
        "'best the is This'"
      ],
      "metadata": {
        "id": "WimVukNYsiAU"
      }
    },
    {
      "cell_type": "code",
      "source": [
        "def splity(a):\n",
        "  b=a.split()\n",
        "  c=[]\n",
        "  for i in range(len(b),0):\n",
        "    c.append(b[i])\n",
        " \n",
        "  return b\n",
        "\n",
        "print(splity('This is the best'))"
      ],
      "metadata": {
        "colab": {
          "base_uri": "https://localhost:8080/"
        },
        "id": "9WKyyd56skWV",
        "outputId": "f0ac75d1-589e-497f-dc25-123ed196ed6f"
      },
      "execution_count": null,
      "outputs": [
        {
          "output_type": "stream",
          "name": "stdout",
          "text": [
            "['This', 'is', 'the', 'best']\n"
          ]
        }
      ]
    },
    {
      "cell_type": "code",
      "source": [
        "a=' This is the best'\n",
        "b=a.split()\n",
        "c=[]\n",
        "s=' '\n",
        "i=0\n",
        "while i < len(b):\n",
        "  if b[i]!=s:\n",
        "    c.append(b[i])\n",
        "    c.append(s)\n",
        "    \n",
        "  i+=1\n",
        "\n",
        "print(\" \".join(c) )\n",
        "\n",
        "  \n",
        "\n",
        " "
      ],
      "metadata": {
        "colab": {
          "base_uri": "https://localhost:8080/"
        },
        "id": "FBuWbEdZs-wn",
        "outputId": "dc825f30-f625-4110-fa6c-3ee800292ada"
      },
      "execution_count": null,
      "outputs": [
        {
          "output_type": "stream",
          "name": "stdout",
          "text": [
            "This   is   the   best  \n"
          ]
        }
      ]
    },
    {
      "cell_type": "markdown",
      "source": [
        ""
      ],
      "metadata": {
        "id": "tcnvs1L5yvU4"
      }
    },
    {
      "cell_type": "markdown",
      "source": [
        "Text : String complresssiton\n",
        "\n"
      ],
      "metadata": {
        "id": "P5UWyn39yvW4"
      }
    },
    {
      "cell_type": "code",
      "source": [
        "x='AAAABBBBCCCCbabababbbaCDDEEEE'\n",
        "y=list(x)\n",
        "print(y)\n",
        "\n",
        "d={}\n",
        "\n",
        "for i in x:\n",
        "  if i in d:\n",
        "    d[i] +=1\n",
        "  else:\n",
        "    d[i]=1\n",
        "    \n",
        "\n",
        "print(d)\n"
      ],
      "metadata": {
        "colab": {
          "base_uri": "https://localhost:8080/"
        },
        "id": "Q1bTw5_bt0sm",
        "outputId": "cdd6b09d-7e8b-47ee-9bd5-0864fb551a95"
      },
      "execution_count": null,
      "outputs": [
        {
          "output_type": "stream",
          "name": "stdout",
          "text": [
            "['A', 'A', 'A', 'A', 'B', 'B', 'B', 'B', 'C', 'C', 'C', 'C', 'b', 'a', 'b', 'a', 'b', 'a', 'b', 'b', 'b', 'a', 'C', 'D', 'D', 'E', 'E', 'E', 'E']\n",
            "{'A': 4, 'B': 4, 'C': 5, 'b': 6, 'a': 4, 'D': 2, 'E': 4}\n"
          ]
        }
      ]
    },
    {
      "cell_type": "markdown",
      "source": [
        "positive on e side nesgagive once side\n",
        "\n",
        "[10,-1,20,4,5,-9,-6]"
      ],
      "metadata": {
        "id": "rCPuNXn1IDt3"
      }
    },
    {
      "cell_type": "code",
      "source": [
        "l=[10,-1,20,4,5,-9,-6]\n",
        "m=[]\n",
        "n=[]\n",
        "\n",
        "for i in range(0,len(l)):\n",
        "  if l[i]>0:\n",
        "    m.append(l[i])\n",
        "  else:\n",
        "    n.append(l[i])\n",
        "\n",
        "print(l)\n",
        "print(n+m)\n",
        "            "
      ],
      "metadata": {
        "colab": {
          "base_uri": "https://localhost:8080/"
        },
        "id": "s64g2XBO1ULf",
        "outputId": "774e2996-14a7-4c50-b7b4-9585379d2ad9"
      },
      "execution_count": null,
      "outputs": [
        {
          "output_type": "stream",
          "name": "stdout",
          "text": [
            "[10, -1, 20, 4, 5, -9, -6]\n",
            "[-1, -9, -6, 10, 20, 4, 5]\n"
          ]
        }
      ]
    },
    {
      "cell_type": "code",
      "source": [
        "l=[1,2,5]\n",
        "m=[3,4,6]\n",
        "n=[]\n",
        "\n",
        "for i in range(0,len(l)):\n",
        "  for j in range(0,len(m)):\n",
        "    if l[i]>m[j]\n",
        "       "
      ],
      "metadata": {
        "id": "mUqUU3NHJBlx"
      },
      "execution_count": null,
      "outputs": []
    },
    {
      "cell_type": "code",
      "source": [
        "# Merge list1 and list2 and return resulted list\n",
        "def merge_lists(lst1, lst2):\n",
        "    index_arr1 = 0\n",
        "    index_arr2 = 0\n",
        "    index_result = 0\n",
        "    result = []\n",
        "\n",
        "    for i in range(len(lst1)+len(lst2)):\n",
        "        result.append(i)\n",
        "    \n",
        "    print(result)\n",
        "    # Traverse Both lists and insert smaller value from arr1 or arr2\n",
        "    # into result list and then increment that lists index.\n",
        "    # If a list is completely traversed, while other one is left then just\n",
        "    # copy all the remaining elements into result list\n",
        "    while (index_arr1 < len(lst1)) and (index_arr2 < len(lst2)):\n",
        "        if (lst1[index_arr1] < lst2[index_arr2]):\n",
        "            result[index_result] = lst1[index_arr1]\n",
        "            index_result += 1\n",
        "            index_arr1 += 1\n",
        "        else:\n",
        "            result[index_result] = lst2[index_arr2]\n",
        "            index_result += 1\n",
        "            index_arr2 += 1\n",
        "    while (index_arr1 < len(lst1)):\n",
        "        result[index_result] = lst1[index_arr1]\n",
        "        index_result += 1\n",
        "        index_arr1 += 1\n",
        "    while (index_arr2 < len(lst2)):\n",
        "        result[index_result] = lst2[index_arr2]\n",
        "        index_result += 1\n",
        "        index_arr2 += 1\n",
        "    return result\n",
        "\n",
        "\n",
        "print(merge_lists([4, 5, 6], [-2, -1, 0, 7]))"
      ],
      "metadata": {
        "colab": {
          "base_uri": "https://localhost:8080/"
        },
        "id": "eu2go4ksJ89z",
        "outputId": "6699df9f-3189-41f8-af63-4ba553750886"
      },
      "execution_count": null,
      "outputs": [
        {
          "output_type": "stream",
          "name": "stdout",
          "text": [
            "[0, 1, 2, 3, 4, 5, 6]\n",
            "[-2, -1, 0, 4, 5, 6, 7]\n"
          ]
        }
      ]
    },
    {
      "cell_type": "code",
      "source": [
        "arr1 = [9,8,7,6,5,4,3,2,1,3,4,5]\n",
        "arr2 = [9,8,7,5,4,3,2,1]\n",
        "\n",
        "d={}\n",
        "\n",
        "for i in arr2:\n",
        "  if i in d:\n",
        "    d[i] +=1\n",
        "  else:\n",
        "    d[i]=1\n",
        "\n",
        "print(d)\n",
        "\n",
        "for j in arr1:\n",
        "  if j not in d:\n",
        "    print(j)\n",
        "  else:\n",
        "    pass\n",
        "\n"
      ],
      "metadata": {
        "colab": {
          "base_uri": "https://localhost:8080/"
        },
        "outputId": "2472a0d3-7122-41ec-9483-87c10df6b7a3",
        "id": "DxwwOIqm3AOl"
      },
      "execution_count": null,
      "outputs": [
        {
          "output_type": "stream",
          "name": "stdout",
          "text": [
            "{9: 1, 8: 1, 7: 1, 5: 1, 4: 1, 3: 1, 2: 1, 1: 1}\n",
            "6\n"
          ]
        }
      ]
    },
    {
      "cell_type": "code",
      "source": [
        "c='aabcde'\n",
        "d=list(c)\n",
        "\n",
        "print(d)\n",
        "\n",
        "for i in (1,len(d)-1):\n",
        "  if d[i-1]==d[i]:\n",
        "    print('True')\n",
        "    break\n",
        "  else: \n",
        "    print('False')"
      ],
      "metadata": {
        "colab": {
          "base_uri": "https://localhost:8080/"
        },
        "id": "zRZ97iG1NNnR",
        "outputId": "e5e33a81-9d19-4f37-fb2b-96df42665c5a"
      },
      "execution_count": null,
      "outputs": [
        {
          "output_type": "stream",
          "name": "stdout",
          "text": [
            "['a', 'a', 'b', 'c', 'd', 'e']\n",
            "True\n"
          ]
        }
      ]
    },
    {
      "cell_type": "code",
      "source": [
        "\n",
        "\n",
        "s=[\"flower\",\"flow\",\"flight\"]\n",
        "s[0][1:4]"
      ],
      "metadata": {
        "colab": {
          "base_uri": "https://localhost:8080/",
          "height": 35
        },
        "id": "K74QwYtCC3MW",
        "outputId": "c6ce6f2a-be7f-4761-ca5d-79eb155cdacd"
      },
      "execution_count": null,
      "outputs": [
        {
          "output_type": "execute_result",
          "data": {
            "application/vnd.google.colaboratory.intrinsic+json": {
              "type": "string"
            },
            "text/plain": [
              "'low'"
            ]
          },
          "metadata": {},
          "execution_count": 7
        }
      ]
    },
    {
      "cell_type": "markdown",
      "source": [
        "Input: strs = [\"flower\",\"flow\",\"flight\"]\n",
        "\n",
        "Output: \"fl\""
      ],
      "metadata": {
        "id": "0xondix0lnar"
      }
    },
    {
      "cell_type": "code",
      "source": [
        "s=[\"flower\",\"flow\",\"flight\"]\n",
        "p=list(s[0])\n",
        "\n",
        "\n",
        "print(p)\n",
        "\n",
        "for i in range(0,len(p)):\n",
        "  for j in range(1,len(s)):\n",
        "    if s[i][0:j]\n"
      ],
      "metadata": {
        "colab": {
          "base_uri": "https://localhost:8080/"
        },
        "id": "dksPNnZcNS-I",
        "outputId": "cd0bf3ff-b73b-4d56-ea90-7cc2cea25ec9"
      },
      "execution_count": null,
      "outputs": [
        {
          "output_type": "stream",
          "name": "stdout",
          "text": [
            "['f', 'l', 'o', 'w', 'e', 'r']\n"
          ]
        }
      ]
    },
    {
      "cell_type": "code",
      "source": [
        "lst[i]: lst[i + 1] for i in range(0, len(lst), 2)"
      ],
      "metadata": {
        "id": "FgOMpl-Alu1v"
      },
      "execution_count": null,
      "outputs": []
    },
    {
      "cell_type": "code",
      "source": [
        "nums = [4,1,2,1,2]\n",
        "d={}\n",
        "\n",
        "\n",
        "\n",
        "\n"
      ],
      "metadata": {
        "colab": {
          "base_uri": "https://localhost:8080/"
        },
        "id": "0GvU3pIS5GT8",
        "outputId": "0e23488f-b973-44e6-aef1-094c0b32cdfd"
      },
      "execution_count": null,
      "outputs": [
        {
          "output_type": "stream",
          "name": "stdout",
          "text": [
            "{4: 1, 1: 2, 2: 2}\n",
            "4\n"
          ]
        }
      ]
    },
    {
      "cell_type": "code",
      "source": [
        "d={4: 1, 1: 3, 2: 2}\n",
        "print(d.keys(1))\n"
      ],
      "metadata": {
        "colab": {
          "base_uri": "https://localhost:8080/",
          "height": 184
        },
        "id": "YyfTCdkF5dul",
        "outputId": "4f3069cb-1ad1-4855-a565-cbe4f346115a"
      },
      "execution_count": null,
      "outputs": [
        {
          "output_type": "error",
          "ename": "TypeError",
          "evalue": "ignored",
          "traceback": [
            "\u001b[0;31m---------------------------------------------------------------------------\u001b[0m",
            "\u001b[0;31mTypeError\u001b[0m                                 Traceback (most recent call last)",
            "\u001b[0;32m<ipython-input-26-51eb9ef78e5d>\u001b[0m in \u001b[0;36m<module>\u001b[0;34m()\u001b[0m\n\u001b[1;32m      1\u001b[0m \u001b[0md\u001b[0m\u001b[0;34m=\u001b[0m\u001b[0;34m{\u001b[0m\u001b[0;36m4\u001b[0m\u001b[0;34m:\u001b[0m \u001b[0;36m1\u001b[0m\u001b[0;34m,\u001b[0m \u001b[0;36m1\u001b[0m\u001b[0;34m:\u001b[0m \u001b[0;36m3\u001b[0m\u001b[0;34m,\u001b[0m \u001b[0;36m2\u001b[0m\u001b[0;34m:\u001b[0m \u001b[0;36m2\u001b[0m\u001b[0;34m}\u001b[0m\u001b[0;34m\u001b[0m\u001b[0;34m\u001b[0m\u001b[0m\n\u001b[0;32m----> 2\u001b[0;31m \u001b[0mprint\u001b[0m\u001b[0;34m(\u001b[0m\u001b[0md\u001b[0m\u001b[0;34m.\u001b[0m\u001b[0mkeys\u001b[0m\u001b[0;34m(\u001b[0m\u001b[0;36m1\u001b[0m\u001b[0;34m)\u001b[0m\u001b[0;34m)\u001b[0m\u001b[0;34m\u001b[0m\u001b[0;34m\u001b[0m\u001b[0m\n\u001b[0m",
            "\u001b[0;31mTypeError\u001b[0m: keys() takes no arguments (1 given)"
          ]
        }
      ]
    },
    {
      "cell_type": "code",
      "source": [
        ""
      ],
      "metadata": {
        "id": "Yq6-0a2523_H"
      },
      "execution_count": null,
      "outputs": []
    },
    {
      "cell_type": "markdown",
      "source": [
        "Balance Check\n",
        "\n",
        "s='{{{{[]}}}}'\n",
        "\n",
        "\n"
      ],
      "metadata": {
        "id": "62N_KzOi7c21"
      }
    },
    {
      "cell_type": "code",
      "source": [
        "s='{{{{[{{}}]}}}}]'\n",
        "\n",
        "p=list(s)\n",
        "\n",
        "open=('[','{','(')\n",
        "\n",
        "match=(('[',']'),('{','}'),('(',')'))\n",
        "\n",
        "lst=p[0]\n",
        "\n",
        "x=[]\n",
        "\n",
        "if len(p)%2!=0:\n",
        "  print('no use')\n",
        "  exit\n",
        "\n",
        "\n",
        "for i in s:\n",
        "  if i in open:\n",
        "    x.append(i)\n",
        "\n",
        "  else : \n",
        "    if len(x)==0:\n",
        "      print('nope')\n",
        "      break\n",
        "\n",
        "    lst=x.pop()\n",
        "\n",
        "    if (lst,i) not in match:\n",
        "      print('False')\n",
        "      print((i,lst))\n",
        "\n",
        "\n"
      ],
      "metadata": {
        "colab": {
          "base_uri": "https://localhost:8080/"
        },
        "id": "EG2gy-567g9o",
        "outputId": "b7ee12ac-2b83-40bb-89e9-9af31f0f6338"
      },
      "execution_count": null,
      "outputs": [
        {
          "output_type": "stream",
          "name": "stdout",
          "text": [
            "no use\n",
            "nope\n"
          ]
        }
      ]
    },
    {
      "cell_type": "code",
      "source": [
        "def fact(n):\n",
        "\n",
        "  if n==0:\n",
        "    return 1\n",
        "    print('base case')\n",
        "  else:\n",
        "    print(n)\n",
        "    print('recur')\n",
        "    return n*fact(n-1)\n",
        "\n",
        "fact(5)"
      ],
      "metadata": {
        "colab": {
          "base_uri": "https://localhost:8080/"
        },
        "id": "K4q-OcDncLak",
        "outputId": "60e07c82-b64e-4a2e-f6ee-3a57abed129e"
      },
      "execution_count": null,
      "outputs": [
        {
          "output_type": "stream",
          "name": "stdout",
          "text": [
            "5\n",
            "recur\n",
            "4\n",
            "recur\n",
            "3\n",
            "recur\n",
            "2\n",
            "recur\n",
            "1\n",
            "recur\n"
          ]
        },
        {
          "output_type": "execute_result",
          "data": {
            "text/plain": [
              "120"
            ]
          },
          "metadata": {},
          "execution_count": 12
        }
      ]
    },
    {
      "cell_type": "code",
      "source": [
        "def cum(a):\n",
        "\n",
        "  if a==0:\n",
        "    return 0\n",
        "  else: \n",
        "    return a%10+cum(int(a/10))\n",
        "\n",
        "\n",
        "\n",
        "\n",
        "print(cum(4321))"
      ],
      "metadata": {
        "colab": {
          "base_uri": "https://localhost:8080/"
        },
        "id": "H8-9_5OPcZCW",
        "outputId": "7de160cf-7554-443a-c665-3c135e1e6482"
      },
      "execution_count": null,
      "outputs": [
        {
          "output_type": "stream",
          "name": "stdout",
          "text": [
            "10\n"
          ]
        }
      ]
    },
    {
      "cell_type": "code",
      "source": [
        "int(4502/10)"
      ],
      "metadata": {
        "colab": {
          "base_uri": "https://localhost:8080/"
        },
        "id": "O69nvIAXfeTH",
        "outputId": "28091b5d-d508-44c5-950f-30ba595c78df"
      },
      "execution_count": null,
      "outputs": [
        {
          "output_type": "execute_result",
          "data": {
            "text/plain": [
              "450"
            ]
          },
          "metadata": {},
          "execution_count": 17
        }
      ]
    },
    {
      "cell_type": "code",
      "source": [
        "nums = [3,2,3]\n",
        "d={}\n",
        "\n",
        "for i in nums:\n",
        "  if i in d:\n",
        "    d[i]+=1\n",
        "  else:\n",
        "    d[i]=1\n",
        "\n",
        "\n",
        "\n",
        "for i in d:\n",
        "  if d[i]>len(nums)/2:\n",
        "    print(i)\n"
      ],
      "metadata": {
        "colab": {
          "base_uri": "https://localhost:8080/"
        },
        "id": "klrg4K2xgj21",
        "outputId": "eaa59374-48f1-4ff8-b893-1177dca29c10"
      },
      "execution_count": null,
      "outputs": [
        {
          "output_type": "stream",
          "name": "stdout",
          "text": [
            "{3: 2, 2: 1}\n",
            "2\n",
            "3\n"
          ]
        }
      ]
    },
    {
      "cell_type": "markdown",
      "source": [
        "Recursion"
      ],
      "metadata": {
        "id": "qEvCnY6UCe2d"
      }
    },
    {
      "cell_type": "code",
      "source": [
        ""
      ],
      "metadata": {
        "id": "Vnq6_dIiCiNP"
      },
      "execution_count": null,
      "outputs": []
    },
    {
      "cell_type": "markdown",
      "source": [
        "s='Hello World'\n",
        "\n",
        "o = dlrow olleh' "
      ],
      "metadata": {
        "id": "kcl6SXxcTv-_"
      }
    },
    {
      "cell_type": "code",
      "source": [
        "def rev(d):\n",
        "\n",
        "  print('above',d)\n",
        "  if len(d)==1:\n",
        "    print('here',d)\n",
        "    return d\n",
        "\n",
        "\n",
        "  return  rev(d[1:])+d[0]\n",
        "\n",
        "print(rev('abcdef'))\n",
        "\n"
      ],
      "metadata": {
        "colab": {
          "base_uri": "https://localhost:8080/"
        },
        "id": "i23oP7GJT0wQ",
        "outputId": "a0ea8db3-6082-4285-deae-26b2b426702f"
      },
      "execution_count": null,
      "outputs": [
        {
          "output_type": "stream",
          "name": "stdout",
          "text": [
            "above abcdef\n",
            "above bcdef\n",
            "above cdef\n",
            "above def\n",
            "above ef\n",
            "above f\n",
            "here f\n",
            "fedcba\n"
          ]
        }
      ]
    },
    {
      "cell_type": "markdown",
      "source": [
        "Fibonacci Series\n",
        "\n",
        "n = 10 "
      ],
      "metadata": {
        "id": "02cFDiiZRvGe"
      }
    },
    {
      "cell_type": "code",
      "source": [
        "n=10\n",
        "\n",
        "for i in range(n)"
      ],
      "metadata": {
        "id": "2x6GSQBrVW-v"
      },
      "execution_count": null,
      "outputs": []
    },
    {
      "cell_type": "code",
      "source": [
        "x=256\n",
        "\n",
        "       \n",
        "u=list(str(x))\n",
        "y=[]\n",
        "v=len(u)\n",
        "\n",
        "print(u )\n",
        "\n",
        "for i in (len(u)-1,0,-1):\n",
        "  y.append(u[i])\n",
        "\n",
        "str1 = ''.join(y)\n",
        "            \n",
        "print(str1)"
      ],
      "metadata": {
        "colab": {
          "base_uri": "https://localhost:8080/"
        },
        "id": "6GTf8RrsqG1V",
        "outputId": "b8cecd80-95dd-4ae9-cf8e-9a2291b22655"
      },
      "execution_count": null,
      "outputs": [
        {
          "output_type": "stream",
          "name": "stdout",
          "text": [
            "['2', '5', '6']\n",
            "626\n"
          ]
        }
      ]
    },
    {
      "cell_type": "code",
      "source": [
        "words = [\"hello\",\"leetcode\"]\n",
        "order = \"hlabcdefgijkmnopqrstuvwxyz\"\n",
        "\n",
        "d={}\n",
        "\n",
        "for x,y in enumerate(order):\n",
        "  d[y]=x\n",
        "            \n",
        "print(d)\n",
        "\n",
        "for j in range(len(words)-1):\n",
        "  for k in range(min(len(words[j]),len(words[j+1]))):\n",
        "    # print(words[j][k])\n",
        "    # print(words[j+1][k])\n",
        "    print(d[words[j][k]])\n",
        "    if d[words[j][k]]<d[words[j+1][k]]:\n",
        "      print(True)\n",
        "\n",
        "\n",
        "# print(len(words))"
      ],
      "metadata": {
        "colab": {
          "base_uri": "https://localhost:8080/"
        },
        "id": "JoJxC94_D1DZ",
        "outputId": "d65a9cf7-2c01-44d3-e385-4bad2ee8d326"
      },
      "execution_count": null,
      "outputs": [
        {
          "output_type": "stream",
          "name": "stdout",
          "text": [
            "{'h': 0, 'l': 1, 'a': 2, 'b': 3, 'c': 4, 'd': 5, 'e': 6, 'f': 7, 'g': 8, 'i': 9, 'j': 10, 'k': 11, 'm': 12, 'n': 13, 'o': 14, 'p': 15, 'q': 16, 'r': 17, 's': 18, 't': 19, 'u': 20, 'v': 21, 'w': 22, 'x': 23, 'y': 24, 'z': 25}\n",
            "0\n",
            "not works\n",
            "6\n",
            "1\n",
            "not works\n",
            "1\n",
            "not works\n",
            "14\n"
          ]
        }
      ]
    },
    {
      "cell_type": "code",
      "source": [
        "# nums = [-2,1,-3,4,-1,2,1,-5,4]\n",
        "nums = [-2,1,4]\n",
        "sub=[]\n",
        "\n",
        "for i in range(0,len(nums)):\n",
        "  for j in range(i+1,len(nums)):\n",
        "    print(nums[j])\n",
        "\n",
        "\n",
        "\n"
      ],
      "metadata": {
        "colab": {
          "base_uri": "https://localhost:8080/"
        },
        "id": "T58Z8lP7MAWg",
        "outputId": "901b3d13-1a7c-46a1-bb9a-c71724eaec6e"
      },
      "execution_count": null,
      "outputs": [
        {
          "output_type": "stream",
          "name": "stdout",
          "text": [
            "1\n",
            "4\n",
            "4\n"
          ]
        }
      ]
    },
    {
      "cell_type": "markdown",
      "source": [
        "53. Maximum Subarray\n",
        "[-2,1,-3,4,-1,2,1,-5,4]"
      ],
      "metadata": {
        "id": "0sb-2lK0wbtD"
      }
    },
    {
      "cell_type": "code",
      "source": [
        "c=[-2, 1, -3, 4, -1, 2, 1, -5, 4]\n",
        "\n",
        "\n",
        "max_sub=0\n",
        "sum=0\n",
        "\n",
        "for i in range(0,len(c)):\n",
        "  d=[]\n",
        "  for j in range(i,len(c)):\n",
        "    d.append(c[j])\n",
        "    sum=0\n",
        "    for n in range(0,len(d)):\n",
        "      sum+=d[n]\n",
        "    max_sub=max(max_sub,sum)\n",
        "\n",
        "\n",
        "print(max_sub)\n",
        "\n",
        "\n",
        "\n"
      ],
      "metadata": {
        "id": "WZ1f5dV-wd3c",
        "outputId": "f4cdbf9f-7d97-420f-fc88-a839cb65db22",
        "colab": {
          "base_uri": "https://localhost:8080/"
        }
      },
      "execution_count": null,
      "outputs": [
        {
          "output_type": "stream",
          "name": "stdout",
          "text": [
            "6\n"
          ]
        }
      ]
    },
    {
      "cell_type": "code",
      "source": [
        ""
      ],
      "metadata": {
        "id": "J0Szw7h3ygel"
      },
      "execution_count": null,
      "outputs": []
    },
    {
      "cell_type": "code",
      "source": [
        "print(\"Hello World\")"
      ],
      "metadata": {
        "id": "2FIWsE5cP9-4",
        "outputId": "0af098d0-cf0d-4bb6-df5f-a2501cd87517",
        "colab": {
          "base_uri": "https://localhost:8080/"
        }
      },
      "execution_count": null,
      "outputs": [
        {
          "output_type": "stream",
          "name": "stdout",
          "text": [
            "Hello World\n"
          ]
        }
      ]
    },
    {
      "cell_type": "code",
      "source": [
        "s=[2323,3,4,5,6,6,7,8,8,9,9,9]\n",
        "p=9\n",
        "\n",
        "\n",
        "\n",
        "for i in s:\n",
        "  if i==p:\n",
        "    print(\"found\")\n",
        "\n",
        "i=0\n",
        "\n",
        "print(len(s))\n",
        "\n",
        "while i <  len(s) :\n",
        "  print(i)\n",
        "  if i==p:\n",
        "    print('found')\n",
        "    print(i)\n",
        "  i=i+1\n"
      ],
      "metadata": {
        "id": "ROsK3PGmRUZd",
        "outputId": "31680b7e-66ab-4373-8a41-7b4c20c42202",
        "colab": {
          "base_uri": "https://localhost:8080/"
        }
      },
      "execution_count": null,
      "outputs": [
        {
          "output_type": "stream",
          "name": "stdout",
          "text": [
            "found\n",
            "found\n",
            "found\n",
            "12\n",
            "0\n",
            "1\n",
            "2\n",
            "3\n",
            "4\n",
            "5\n",
            "6\n",
            "7\n",
            "8\n",
            "9\n",
            "found\n",
            "9\n",
            "10\n",
            "11\n"
          ]
        }
      ]
    },
    {
      "cell_type": "code",
      "source": [
        "s=[2323,3,4,5,6,6,7,8,8,9,9,9]\n",
        "p=9\n",
        "\n"
      ],
      "metadata": {
        "id": "z8n51jtpTuuT"
      },
      "execution_count": null,
      "outputs": []
    },
    {
      "cell_type": "code",
      "source": [
        "s[1,2,3,4,5,6,7,8,9,10,11,12,13,14,15,16]\n",
        "\n",
        "first = 0 \n",
        "last = len(s)-1\n",
        "\n",
        "\n",
        "\n",
        "while i < len(s):\n",
        " \n",
        "  if s[i]\n",
        "\n",
        "\n",
        "\n",
        "\n"
      ],
      "metadata": {
        "id": "wYFaXsNnRe9J"
      },
      "execution_count": null,
      "outputs": []
    },
    {
      "cell_type": "code",
      "source": [
        "print(\"Hello World\")"
      ],
      "metadata": {
        "id": "fMEcTlGmze_I",
        "outputId": "e1990db1-acf0-46ab-c609-6e007cc12a2f",
        "colab": {
          "base_uri": "https://localhost:8080/"
        }
      },
      "execution_count": null,
      "outputs": [
        {
          "output_type": "stream",
          "name": "stdout",
          "text": [
            "Hello World\n"
          ]
        }
      ]
    },
    {
      "cell_type": "code",
      "source": [
        "# Reverse a integer\n",
        "# -132 = -231\n",
        "\n",
        "\n",
        "\n",
        "\n",
        "def rev(var):\n",
        "\n",
        "  num=abs(var)\n",
        "  rev=0\n",
        "  last=0\n",
        "\n",
        "  while num > 0:\n",
        "    last=num%10\n",
        "    rev=rev*10+last\n",
        "    num=num//10\n",
        "\n",
        "\n",
        "\n",
        "\n",
        "  if var<0:\n",
        "    return -1*rev\n",
        "  else: \n",
        "    return rev\n",
        "\n",
        "\n",
        "\n",
        "\n",
        "print(rev(-132))"
      ],
      "metadata": {
        "id": "TwIWHivAzhrg",
        "outputId": "c73ea81c-5fe4-4ec6-d940-c09df705e109",
        "colab": {
          "base_uri": "https://localhost:8080/"
        }
      },
      "execution_count": null,
      "outputs": [
        {
          "output_type": "stream",
          "name": "stdout",
          "text": [
            "-231\n"
          ]
        }
      ]
    },
    {
      "cell_type": "code",
      "source": [
        "a=[2,3,4,5]\n",
        "\n",
        "sum(a)/len(a)"
      ],
      "metadata": {
        "id": "6wDOUP98Bsk4",
        "outputId": "21cc6883-1c83-470c-f29c-6bbbf79e9e13",
        "colab": {
          "base_uri": "https://localhost:8080/"
        }
      },
      "execution_count": null,
      "outputs": [
        {
          "output_type": "execute_result",
          "data": {
            "text/plain": [
              "14"
            ]
          },
          "metadata": {},
          "execution_count": 13
        }
      ]
    },
    {
      "cell_type": "code",
      "source": [
        "num=132\n",
        "rev=0\n",
        "last=0\n",
        "\n",
        "while num > 0:\n",
        "  last=num%10\n",
        "  rev=rev*10+last\n",
        "  num=num//10\n",
        "\n",
        "print(rev)"
      ],
      "metadata": {
        "id": "OTCxUhNI1gyQ",
        "outputId": "c04b418a-14d1-4eae-bf30-25aeceba69f2",
        "colab": {
          "base_uri": "https://localhost:8080/"
        }
      },
      "execution_count": null,
      "outputs": [
        {
          "output_type": "stream",
          "name": "stdout",
          "text": [
            "231\n"
          ]
        }
      ]
    },
    {
      "cell_type": "code",
      "source": [
        "\n",
        "\n",
        "\n",
        "def cnty(senty):\n",
        "\n",
        "  senty=senty.replace(\".\",'')\n",
        "  senty=senty.replace(\",\",'')\n",
        "\n",
        "  sent=senty.split()\n",
        "\n",
        "  y=[ len(x) for x in sent  ]\n",
        "\n",
        "  return sum(y)/len(y)\n",
        "\n",
        "\n",
        "  \n",
        "\n",
        "print(cnty(\"Hi all, my name is Tom...I am originally from Australia.\"))"
      ],
      "metadata": {
        "id": "Vha-eplvB1qi",
        "outputId": "b14ade82-efb2-4635-c6b5-1a1fe8ce720c",
        "colab": {
          "base_uri": "https://localhost:8080/"
        }
      },
      "execution_count": null,
      "outputs": [
        {
          "output_type": "stream",
          "name": "stdout",
          "text": [
            "4.2\n"
          ]
        }
      ]
    },
    {
      "cell_type": "code",
      "source": [
        "x=[1,2,3,4,5,6]\n",
        "\n",
        "\n",
        "y= [i for i in x if i%2==0]\n",
        "\n",
        "\n",
        "print(y)"
      ],
      "metadata": {
        "id": "3EgQVhXbcTYF",
        "outputId": "567a9525-fe3f-43be-dc56-a845a7e1d3ac",
        "colab": {
          "base_uri": "https://localhost:8080/"
        }
      },
      "execution_count": null,
      "outputs": [
        {
          "output_type": "stream",
          "name": "stdout",
          "text": [
            "[2, 4, 6]\n"
          ]
        }
      ]
    },
    {
      "cell_type": "code",
      "source": [
        "# Add two strings with nums \n",
        "\n",
        "\n",
        "a='250'\n",
        "b='750'\n",
        "\n",
        "\n",
        "def addy(a,b):\n",
        "  return str(eval(a)+eval(b))\n",
        "\n",
        "\n",
        "\n",
        "print(addy(a,b))"
      ],
      "metadata": {
        "id": "Sb6Vipo1H8uX",
        "outputId": "0a08fcf9-801c-4a0f-be6a-1cb89a9f67c6",
        "colab": {
          "base_uri": "https://localhost:8080/"
        }
      },
      "execution_count": null,
      "outputs": [
        {
          "output_type": "stream",
          "name": "stdout",
          "text": [
            "1000\n"
          ]
        }
      ]
    },
    {
      "cell_type": "code",
      "source": [
        "s=' Hello World'\n",
        "\n",
        "s.lower()\n"
      ],
      "metadata": {
        "id": "YYm-K05QJpTv",
        "outputId": "45c3acd5-2cb9-45e9-e498-bca3bca9d6c1",
        "colab": {
          "base_uri": "https://localhost:8080/",
          "height": 35
        }
      },
      "execution_count": null,
      "outputs": [
        {
          "output_type": "execute_result",
          "data": {
            "application/vnd.google.colaboratory.intrinsic+json": {
              "type": "string"
            },
            "text/plain": [
              "' hello world'"
            ]
          },
          "metadata": {},
          "execution_count": 3
        }
      ]
    },
    {
      "cell_type": "code",
      "source": [
        "def cty(a):\n",
        "\n",
        "  freq={}\n",
        "  arr=list(a)\n",
        "\n",
        "  for i in a:\n",
        "    if i not in freq:\n",
        "      freq[i]=1\n",
        "    else :\n",
        "      freq[i]+=1\n",
        " \n",
        "  for j in freq:\n",
        "    if freq[j]==1:\n",
        "      return j\n",
        "\n",
        "\n",
        "\n",
        "\n",
        "print(cty('kkkkkkkishorepradeepanbazhagan'))"
      ],
      "metadata": {
        "id": "0CdLvT6YL3PE",
        "outputId": "a7cbbdba-33a4-4a3b-b6d8-b964d75ef325",
        "colab": {
          "base_uri": "https://localhost:8080/"
        }
      },
      "execution_count": null,
      "outputs": [
        {
          "output_type": "stream",
          "name": "stdout",
          "text": [
            "i\n"
          ]
        }
      ]
    },
    {
      "cell_type": "code",
      "source": [
        "def pal_check(a,b):\n",
        "\n",
        "  rev_arr=[]\n",
        "\n",
        "  for i in range(len(a)-1,0):\n",
        "    rev_arr.append(a[i])\n",
        "\n",
        "  rev=''.join(rev_arr)\n",
        "  print(a)\n",
        "  print(b)\n",
        "  print(rev)\n",
        "\n",
        "  return a==b[::-1]\n",
        "\n",
        "\n",
        "\n",
        "print(pal_check('dog','god'))"
      ],
      "metadata": {
        "id": "QdsSt-1ynxL8",
        "outputId": "398c6d60-12a5-4637-a7d1-afb763b75ba4",
        "colab": {
          "base_uri": "https://localhost:8080/"
        }
      },
      "execution_count": null,
      "outputs": [
        {
          "output_type": "stream",
          "name": "stdout",
          "text": [
            "dog\n",
            "god\n",
            "\n",
            "True\n"
          ]
        }
      ]
    },
    {
      "cell_type": "code",
      "source": [
        "sorted('god')"
      ],
      "metadata": {
        "id": "BKEd6sSvIQBC",
        "outputId": "12b963e3-aae9-4adc-cf06-fafab4f34549",
        "colab": {
          "base_uri": "https://localhost:8080/"
        }
      },
      "execution_count": null,
      "outputs": [
        {
          "output_type": "execute_result",
          "data": {
            "text/plain": [
              "['d', 'g', 'o']"
            ]
          },
          "metadata": {},
          "execution_count": 1
        }
      ]
    },
    {
      "cell_type": "code",
      "source": [
        "sorted('dog')"
      ],
      "metadata": {
        "id": "R9ZNeRZuITsy",
        "outputId": "2b0740b5-1a97-4e6f-8f87-8b7b6a326e08",
        "colab": {
          "base_uri": "https://localhost:8080/"
        }
      },
      "execution_count": null,
      "outputs": [
        {
          "output_type": "execute_result",
          "data": {
            "text/plain": [
              "['d', 'g', 'o']"
            ]
          },
          "metadata": {},
          "execution_count": 3
        }
      ]
    },
    {
      "cell_type": "code",
      "source": [
        " list(reversed('god'))"
      ],
      "metadata": {
        "id": "9mVVbiVfo68h",
        "outputId": "fcf7422d-3557-49ab-dec7-5532280141d0",
        "colab": {
          "base_uri": "https://localhost:8080/"
        }
      },
      "execution_count": null,
      "outputs": [
        {
          "output_type": "execute_result",
          "data": {
            "text/plain": [
              "['d', 'o', 'g']"
            ]
          },
          "metadata": {},
          "execution_count": 19
        }
      ]
    },
    {
      "cell_type": "code",
      "source": [
        "A = [6, 5, 4, 4] \n",
        "C = [1,1,1,3,3,4,3,2,4,2]\n",
        "B = [1,1,2,3,7]\n",
        "\n",
        "\n",
        "z=all([ B[y]<=B[y+1]  for y in range(0,len(B)-2) ])\n",
        "\n",
        "print(z)"
      ],
      "metadata": {
        "id": "k-M9lGNCNa2q",
        "outputId": "9e821104-9e5a-46ad-cbff-8d016512697b",
        "colab": {
          "base_uri": "https://localhost:8080/"
        }
      },
      "execution_count": null,
      "outputs": [
        {
          "output_type": "stream",
          "name": "stdout",
          "text": [
            "True\n"
          ]
        }
      ]
    },
    {
      "cell_type": "code",
      "source": [
        "def sumy(*args):\n",
        "\n",
        "  s=0\n",
        "  for i in args:\n",
        "    s=i+s\n",
        "\n",
        "  return s\n",
        "\n",
        "print(sumy(1,2,3,54645,787,4,5))"
      ],
      "metadata": {
        "id": "6Ka98g67qMbF",
        "outputId": "f493475f-1a74-41b2-806f-5c0253715abe",
        "colab": {
          "base_uri": "https://localhost:8080/"
        }
      },
      "execution_count": null,
      "outputs": [
        {
          "output_type": "stream",
          "name": "stdout",
          "text": [
            "55447\n"
          ]
        }
      ]
    },
    {
      "cell_type": "code",
      "source": [
        "s='kidhore'\n",
        "\n",
        "print(list(s))"
      ],
      "metadata": {
        "id": "iM6UmTjJqY__",
        "outputId": "d9c90d20-bcf1-4575-9e4e-9ef59791849b",
        "colab": {
          "base_uri": "https://localhost:8080/"
        }
      },
      "execution_count": 1,
      "outputs": [
        {
          "output_type": "stream",
          "name": "stdout",
          "text": [
            "['k', 'i', 'd', 'h', 'o', 'r', 'e']\n"
          ]
        }
      ]
    },
    {
      "cell_type": "code",
      "source": [
        ""
      ],
      "metadata": {
        "id": "4KxW7YZ8m5Vy"
      },
      "execution_count": null,
      "outputs": []
    }
  ]
}