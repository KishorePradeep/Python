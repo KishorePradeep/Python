{
  "nbformat": 4,
  "nbformat_minor": 0,
  "metadata": {
    "colab": {
      "name": "SCratchpad.ipynb",
      "provenance": [],
      "authorship_tag": "ABX9TyPHrtZwGrNmev5XSeQUtA+L",
      "include_colab_link": true
    },
    "kernelspec": {
      "name": "python3",
      "display_name": "Python 3"
    },
    "language_info": {
      "name": "python"
    }
  },
  "cells": [
    {
      "cell_type": "markdown",
      "metadata": {
        "id": "view-in-github",
        "colab_type": "text"
      },
      "source": [
        "<a href=\"https://colab.research.google.com/github/KishorePradeep/Python/blob/master/SCratchpad.ipynb\" target=\"_parent\"><img src=\"https://colab.research.google.com/assets/colab-badge.svg\" alt=\"Open In Colab\"/></a>"
      ]
    },
    {
      "cell_type": "code",
      "execution_count": null,
      "metadata": {
        "id": "EuqO0jBFaHzW"
      },
      "outputs": [],
      "source": [
        ""
      ]
    },
    {
      "cell_type": "code",
      "source": [
        "l=[1 ,2,34,5,]\n",
        "\n",
        "type(l)"
      ],
      "metadata": {
        "colab": {
          "base_uri": "https://localhost:8080/"
        },
        "id": "CXFTeb7haPM2",
        "outputId": "5272cbff-7d9a-4357-ca24-7cff3291ef35"
      },
      "execution_count": 1,
      "outputs": [
        {
          "output_type": "execute_result",
          "data": {
            "text/plain": [
              "list"
            ]
          },
          "metadata": {},
          "execution_count": 1
        }
      ]
    },
    {
      "cell_type": "code",
      "source": [
        "class Sample():\n",
        "  pass\n",
        "\n",
        "x=Sample()\n",
        "\n",
        "print(type(x))"
      ],
      "metadata": {
        "colab": {
          "base_uri": "https://localhost:8080/"
        },
        "id": "RhvE2hr2adSw",
        "outputId": "d3919d0f-f7e6-4077-c278-7911e6a9ea8a"
      },
      "execution_count": 5,
      "outputs": [
        {
          "output_type": "stream",
          "name": "stdout",
          "text": [
            "<class '__main__.Sample'>\n"
          ]
        }
      ]
    },
    {
      "cell_type": "code",
      "source": [
        "class Agent():\n",
        "  def __init__(self,name):\n",
        "    self.name=name\n",
        "\n",
        "\n",
        "x=Agent('Bond')"
      ],
      "metadata": {
        "id": "1TqOad2naobO"
      },
      "execution_count": 9,
      "outputs": []
    },
    {
      "cell_type": "code",
      "source": [
        "x.name"
      ],
      "metadata": {
        "id": "F308vYvZbvFN",
        "outputId": "8fc24810-e613-451a-b8a7-db3ab2c5fade",
        "colab": {
          "base_uri": "https://localhost:8080/",
          "height": 35
        }
      },
      "execution_count": 10,
      "outputs": [
        {
          "output_type": "execute_result",
          "data": {
            "application/vnd.google.colaboratory.intrinsic+json": {
              "type": "string"
            },
            "text/plain": [
              "'Bond'"
            ]
          },
          "metadata": {},
          "execution_count": 10
        }
      ]
    }
  ]
}