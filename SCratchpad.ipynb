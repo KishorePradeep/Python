{
  "nbformat": 4,
  "nbformat_minor": 0,
  "metadata": {
    "colab": {
      "name": "SCratchpad.ipynb",
      "provenance": [],
      "authorship_tag": "ABX9TyNDzzeePZTN4+GrXMs9GEHK",
      "include_colab_link": true
    },
    "kernelspec": {
      "name": "python3",
      "display_name": "Python 3"
    },
    "language_info": {
      "name": "python"
    }
  },
  "cells": [
    {
      "cell_type": "markdown",
      "metadata": {
        "id": "view-in-github",
        "colab_type": "text"
      },
      "source": [
        "<a href=\"https://colab.research.google.com/github/KishorePradeep/Python/blob/master/SCratchpad.ipynb\" target=\"_parent\"><img src=\"https://colab.research.google.com/assets/colab-badge.svg\" alt=\"Open In Colab\"/></a>"
      ]
    },
    {
      "cell_type": "code",
      "execution_count": 1,
      "metadata": {
        "id": "EuqO0jBFaHzW",
        "outputId": "f1d0ce4b-3ec5-4f6c-f378-05cec00fd58d",
        "colab": {
          "base_uri": "https://localhost:8080/",
          "height": 131
        }
      },
      "outputs": [
        {
          "output_type": "error",
          "ename": "SyntaxError",
          "evalue": "ignored",
          "traceback": [
            "\u001b[0;36m  File \u001b[0;32m\"<ipython-input-1-1be0745c3389>\"\u001b[0;36m, line \u001b[0;32m1\u001b[0m\n\u001b[0;31m    1 def find_max(nums):\u001b[0m\n\u001b[0m        ^\u001b[0m\n\u001b[0;31mSyntaxError\u001b[0m\u001b[0;31m:\u001b[0m invalid syntax\n"
          ]
        }
      ],
      "source": [
        "1 def find_max(nums):\n",
        "2   max_num = float(\"-inf\") # smaller than all other numbers\n",
        "3   for num in nums:\n",
        "4     if num > max_num:\n",
        "5  # (Fill in the missing line here)\n",
        "6 return max_num"
      ]
    },
    {
      "cell_type": "code",
      "source": [
        "l=[1 ,2,34,5,]\n",
        "\n",
        "type(l)"
      ],
      "metadata": {
        "colab": {
          "base_uri": "https://localhost:8080/"
        },
        "id": "CXFTeb7haPM2",
        "outputId": "5272cbff-7d9a-4357-ca24-7cff3291ef35"
      },
      "execution_count": null,
      "outputs": [
        {
          "output_type": "execute_result",
          "data": {
            "text/plain": [
              "list"
            ]
          },
          "metadata": {},
          "execution_count": 1
        }
      ]
    },
    {
      "cell_type": "code",
      "source": [
        "class Sample():\n",
        "  pass\n",
        "\n",
        "x=Sample()\n",
        "\n",
        "print(type(x))"
      ],
      "metadata": {
        "colab": {
          "base_uri": "https://localhost:8080/"
        },
        "id": "RhvE2hr2adSw",
        "outputId": "d3919d0f-f7e6-4077-c278-7911e6a9ea8a"
      },
      "execution_count": null,
      "outputs": [
        {
          "output_type": "stream",
          "name": "stdout",
          "text": [
            "<class '__main__.Sample'>\n"
          ]
        }
      ]
    },
    {
      "cell_type": "code",
      "source": [
        "class Agent():\n",
        "  def __init__(self,name):\n",
        "    self.name=name\n",
        "\n",
        "\n",
        "x=Agent('Bond')"
      ],
      "metadata": {
        "id": "1TqOad2naobO"
      },
      "execution_count": null,
      "outputs": []
    },
    {
      "cell_type": "code",
      "source": [
        "x.name"
      ],
      "metadata": {
        "id": "F308vYvZbvFN",
        "outputId": "8fc24810-e613-451a-b8a7-db3ab2c5fade",
        "colab": {
          "base_uri": "https://localhost:8080/",
          "height": 35
        }
      },
      "execution_count": null,
      "outputs": [
        {
          "output_type": "execute_result",
          "data": {
            "application/vnd.google.colaboratory.intrinsic+json": {
              "type": "string"
            },
            "text/plain": [
              "'Bond'"
            ]
          },
          "metadata": {},
          "execution_count": 10
        }
      ]
    },
    {
      "cell_type": "markdown",
      "source": [
        "araary pair\n",
        "\n",
        "l=[1,2,3,4,5]\n",
        "c=4\n",
        "\n",
        "\n"
      ],
      "metadata": {
        "id": "ltwqP1apzrlv"
      }
    },
    {
      "cell_type": "code",
      "source": [
        "l=[1,2,3,4,5,2]\n",
        "c=4\n",
        "seen=set()\n",
        "output=set()\n",
        "\n",
        "for i in l:\n",
        "\n",
        "  tgt= c-i\n",
        "\n",
        "  if tgt not in seen:\n",
        "    seen.add(i)\n",
        "  else:\n",
        "    output.add((min(tgt,i),max(tgt,i)))\n",
        "\n",
        "\n",
        "print(output)\n",
        "print(seen)\n"
      ],
      "metadata": {
        "id": "ZMpBEPOX1bgx",
        "outputId": "adaed44a-6290-4708-86ae-11862f0b316b",
        "colab": {
          "base_uri": "https://localhost:8080/"
        }
      },
      "execution_count": 6,
      "outputs": [
        {
          "output_type": "stream",
          "name": "stdout",
          "text": [
            "{(1, 3), (2, 2)}\n",
            "{1, 2, 4, 5}\n"
          ]
        }
      ]
    },
    {
      "cell_type": "code",
      "source": [
        "def finder(a,b) : \n",
        "  a.sort()\n",
        "  b.sort()\n",
        "\n",
        "  for i in range(0,len(a)):\n",
        "    for j in range(0,len(b)):\n",
        "      if a[i]!=b[i]:\n",
        "        return a[i] \n",
        "\n",
        "arr1 = [9,8,7,6,5,4,3,2,1]\n",
        "arr2 = [9,8,7,5,4,3,2,1]\n",
        "\n",
        "finder(arr1,arr2)"
      ],
      "metadata": {
        "id": "I_TUPAIIQBP5",
        "outputId": "588868b0-070e-4874-a566-9774ca255e59",
        "colab": {
          "base_uri": "https://localhost:8080/"
        }
      },
      "execution_count": 10,
      "outputs": [
        {
          "output_type": "execute_result",
          "data": {
            "text/plain": [
              "6"
            ]
          },
          "metadata": {},
          "execution_count": 10
        }
      ]
    },
    {
      "cell_type": "code",
      "source": [
        "arr1 = [9,8,7,6,5,4,3,2,1,3,4,5]\n",
        "arr2 = [9,8,7,5,4,3,2,1]\n",
        "\n",
        "d={}\n",
        "\n",
        "for i in arr2:\n",
        "  if i in d:\n",
        "    d[i] +=1\n",
        "  else:\n",
        "    d[i]=1\n",
        "\n",
        "print(d)\n",
        "\n",
        "for j in arr1:\n",
        "  if j not in d:\n",
        "    print(j)\n",
        "  else:\n",
        "    pass\n",
        "\n"
      ],
      "metadata": {
        "id": "Ei-OqTGWQjYz",
        "outputId": "2472a0d3-7122-41ec-9483-87c10df6b7a3",
        "colab": {
          "base_uri": "https://localhost:8080/"
        }
      },
      "execution_count": 27,
      "outputs": [
        {
          "output_type": "stream",
          "name": "stdout",
          "text": [
            "{9: 1, 8: 1, 7: 1, 5: 1, 4: 1, 3: 1, 2: 1, 1: 1}\n",
            "6\n"
          ]
        }
      ]
    },
    {
      "cell_type": "markdown",
      "source": [
        "Continuos Sum "
      ],
      "metadata": {
        "id": "vzVisRq9kzcw"
      }
    },
    {
      "cell_type": "code",
      "source": [
        "l=[1,2,-1,3,4,-1]\n",
        "m=[]\n",
        "cnt=0\n",
        "for i in range(0,len(l)):\n",
        "      cnt+=l[i]\n",
        "      m.append(cnt)\n",
        "\n",
        "\n",
        "print(m)\n",
        "m.sort()\n",
        "print(m[-1])\n"
      ],
      "metadata": {
        "id": "ziThkFsmk3P2",
        "outputId": "5db6d234-dd6d-439c-be77-5f37e767b3f6",
        "colab": {
          "base_uri": "https://localhost:8080/"
        }
      },
      "execution_count": 37,
      "outputs": [
        {
          "output_type": "stream",
          "name": "stdout",
          "text": [
            "[1, 3, 2, 5, 9, 8]\n",
            "9\n"
          ]
        }
      ]
    },
    {
      "cell_type": "code",
      "source": [
        "l=[1,2,-1,3,4,-1]\n",
        "m=[]\n",
        "cnt=0\n",
        "mx=0\n",
        "\n",
        "for i in range(0,len(l)):\n",
        "      cnt+=l[i]\n",
        "      mx=max(cnt,mx)\n",
        "\n",
        "\n",
        "print(mx)\n"
      ],
      "metadata": {
        "id": "cGoN_f2Xleut",
        "outputId": "b2301592-42bd-4a2c-dac2-ba8ff9f5154e",
        "colab": {
          "base_uri": "https://localhost:8080/"
        }
      },
      "execution_count": 38,
      "outputs": [
        {
          "output_type": "stream",
          "name": "stdout",
          "text": [
            "9\n"
          ]
        }
      ]
    }
  ]
}