{
  "nbformat": 4,
  "nbformat_minor": 0,
  "metadata": {
    "colab": {
      "name": "Python String [101 exercises with solution].ipynb",
      "provenance": [],
      "include_colab_link": true
    },
    "kernelspec": {
      "name": "python3",
      "display_name": "Python 3"
    },
    "language_info": {
      "name": "python"
    }
  },
  "cells": [
    {
      "cell_type": "markdown",
      "metadata": {
        "id": "view-in-github",
        "colab_type": "text"
      },
      "source": [
        "<a href=\"https://colab.research.google.com/github/KishorePradeep/Python/blob/master/05_Python_String_%5B101_exercises_with_solution%5D.ipynb\" target=\"_parent\"><img src=\"https://colab.research.google.com/assets/colab-badge.svg\" alt=\"Open In Colab\"/></a>"
      ]
    },
    {
      "cell_type": "code",
      "metadata": {
        "id": "NIMy97oh1NKs",
        "outputId": "66688699-14dc-4057-b74a-1179c1f25a8f",
        "colab": {
          "base_uri": "https://localhost:8080/"
        }
      },
      "source": [
        "# Write a Python program to calculate the length of a string\n",
        "\n",
        "\n",
        "s='Kihsore'\n",
        "\n",
        "len(s)\n",
        "\n",
        "print(\"hello world\")"
      ],
      "execution_count": null,
      "outputs": [
        {
          "output_type": "stream",
          "name": "stdout",
          "text": [
            "hello world\n"
          ]
        }
      ]
    },
    {
      "cell_type": "code",
      "source": [
        "# 2. Write a Python program to count the number of characters (character frequency) in a string\n",
        "\n",
        "s='hello'\n",
        "\n",
        "d={}\n",
        "\n",
        "\n",
        "for i in s:\n",
        "  if i not in d:\n",
        "    d[i]=1\n",
        "  else:\n",
        "    d[i]+=1\n",
        "\n",
        "print(d)\n"
      ],
      "metadata": {
        "id": "ze0GMXpJmobK",
        "colab": {
          "base_uri": "https://localhost:8080/"
        },
        "outputId": "f4a3f679-5e7f-4a71-ea71-cc7584422dc2"
      },
      "execution_count": null,
      "outputs": [
        {
          "output_type": "stream",
          "name": "stdout",
          "text": [
            "{'h': 1, 'e': 1, 'l': 2, 'o': 1}\n"
          ]
        }
      ]
    },
    {
      "cell_type": "code",
      "source": [
        "# 3. Write a Python program to get a string made of the first 2 and the last 2 chars from a given a string. \n",
        "# If the string length is less than 2, return instead of the empty string. Go to the editor\n",
        "# Sample String : 'w3resource'\n",
        "# Expected Result : 'w3ce'\n",
        "# Sample String : 'w3'\n",
        "# Expected Result : 'w3w3'\n",
        "# Sample String : ' w'\n",
        "# Expected Result : Empty String\n",
        "# Click me to see the sample solution\n",
        "\n",
        "def string_len(s):\n",
        "  x=''\n",
        "\n",
        "  if len(s)<2:\n",
        "    x=''\n",
        "  else:\n",
        "    x=s[0:2]+s[-2:]\n",
        "\n",
        "    return x\n",
        "\n",
        "\n",
        "\n",
        "print(string_len('isocy'))\n"
      ],
      "metadata": {
        "id": "m25HRMTqJ8WP",
        "outputId": "6ced6a2a-decd-41fa-c265-27415827e59c",
        "colab": {
          "base_uri": "https://localhost:8080/"
        }
      },
      "execution_count": 3,
      "outputs": [
        {
          "output_type": "stream",
          "name": "stdout",
          "text": [
            "iscy\n"
          ]
        }
      ]
    },
    {
      "cell_type": "markdown",
      "source": [
        ""
      ],
      "metadata": {
        "id": "d2uVvxqLlD2A"
      }
    }
  ]
}