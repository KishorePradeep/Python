{
  "nbformat": 4,
  "nbformat_minor": 0,
  "metadata": {
    "colab": {
      "name": "Python String [101 exercises with solution].ipynb",
      "provenance": [],
      "include_colab_link": true
    },
    "kernelspec": {
      "name": "python3",
      "display_name": "Python 3"
    },
    "language_info": {
      "name": "python"
    }
  },
  "cells": [
    {
      "cell_type": "markdown",
      "metadata": {
        "id": "view-in-github",
        "colab_type": "text"
      },
      "source": [
        "<a href=\"https://colab.research.google.com/github/KishorePradeep/Python/blob/master/05_Python_String_%5B101_exercises_with_solution%5D.ipynb\" target=\"_parent\"><img src=\"https://colab.research.google.com/assets/colab-badge.svg\" alt=\"Open In Colab\"/></a>"
      ]
    },
    {
      "cell_type": "code",
      "metadata": {
        "id": "NIMy97oh1NKs",
        "outputId": "66688699-14dc-4057-b74a-1179c1f25a8f",
        "colab": {
          "base_uri": "https://localhost:8080/"
        }
      },
      "source": [
        "# Write a Python program to calculate the length of a string\n",
        "\n",
        "\n",
        "s='Kihsore'\n",
        "\n",
        "len(s)\n",
        "\n",
        "print(\"hello world\")"
      ],
      "execution_count": 1,
      "outputs": [
        {
          "output_type": "stream",
          "name": "stdout",
          "text": [
            "hello world\n"
          ]
        }
      ]
    },
    {
      "cell_type": "code",
      "source": [
        "# 2. Write a Python program to count the number of characters (character frequency) in a string\n",
        "\n",
        "s='hello'\n",
        "\n",
        "d={}\n",
        "\n",
        "\n",
        "for i in s:\n",
        "  if i not in d:\n",
        "    d[i]=1\n",
        "  else:\n",
        "    d[i]+=1\n",
        "\n",
        "print(d)\n"
      ],
      "metadata": {
        "id": "ze0GMXpJmobK",
        "colab": {
          "base_uri": "https://localhost:8080/"
        },
        "outputId": "f4a3f679-5e7f-4a71-ea71-cc7584422dc2"
      },
      "execution_count": 3,
      "outputs": [
        {
          "output_type": "stream",
          "name": "stdout",
          "text": [
            "{'h': 1, 'e': 1, 'l': 2, 'o': 1}\n"
          ]
        }
      ]
    },
    {
      "cell_type": "markdown",
      "source": [
        ""
      ],
      "metadata": {
        "id": "d2uVvxqLlD2A"
      }
    }
  ]
}