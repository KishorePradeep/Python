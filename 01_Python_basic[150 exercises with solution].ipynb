{
  "nbformat": 4,
  "nbformat_minor": 0,
  "metadata": {
    "kernelspec": {
      "display_name": "Python 3",
      "language": "python",
      "name": "python3"
    },
    "language_info": {
      "codemirror_mode": {
        "name": "ipython",
        "version": 3
      },
      "file_extension": ".py",
      "mimetype": "text/x-python",
      "name": "python",
      "nbconvert_exporter": "python",
      "pygments_lexer": "ipython3",
      "version": "3.7.4"
    },
    "colab": {
      "name": "Python basic (Part -I) [150 exercises with solution]-checkpoint.ipynb",
      "provenance": [],
      "include_colab_link": true
    }
  },
  "cells": [
    {
      "cell_type": "markdown",
      "metadata": {
        "id": "view-in-github",
        "colab_type": "text"
      },
      "source": [
        "<a href=\"https://colab.research.google.com/github/KishorePradeep/Python/blob/master/01_Python_basic%5B150%20exercises%20with%20solution%5D.ipynb\" target=\"_parent\"><img src=\"https://colab.research.google.com/assets/colab-badge.svg\" alt=\"Open In Colab\"/></a>"
      ]
    },
    {
      "cell_type": "markdown",
      "metadata": {
        "id": "EPMoHf_NnLAt"
      },
      "source": [
        "1. Write a Python program to print the following string in a specific format (see the output). Go to the editor\n",
        "Sample String : \"Twinkle, twinkle, little star, How I wonder what you are! How I wonder what you are!, Like a diamond in the sky. Twinkle, twinkle, little star, How I wonder what you are\" Output :\n",
        "\n",
        "Twinkle, twinkle, little star,\n",
        "\tHow I wonder what you are! \n",
        "\t\tUp above the world so high,   \t\t\n",
        "\t\tLike a diamond in the sky. \n",
        "Twinkle, twinkle, little star, \n",
        "\tHow I wonder what you are"
      ]
    },
    {
      "cell_type": "code",
      "metadata": {
        "id": "Aq0tJpRZnLAw",
        "outputId": "bd46ac64-79e8-4740-944a-2775842295a8"
      },
      "source": [
        "print(\"Twinkle, twinkle, little star,\\n\\tHow I wonder what you are! \\n\\t\\tUp above the world so high, \\n\\t\\tLike a diamond in the sky. \\nTwinkle, twinkle, little star, \\n\\tHow I wonder what you are\")"
      ],
      "execution_count": null,
      "outputs": [
        {
          "name": "stdout",
          "output_type": "stream",
          "text": [
            "Twinkle, twinkle, little star,\n",
            "\tHow I wonder what you are! \n",
            "\t\tUp above the world so high, \n",
            "\t\tLike a diamond in the sky. \n",
            "Twinkle, twinkle, little star, \n",
            "\tHow I wonder what you are\n"
          ]
        }
      ]
    },
    {
      "cell_type": "markdown",
      "metadata": {
        "id": "OxWBPDhznLAy"
      },
      "source": [
        "2. Write a Python program to get the Python version you are using"
      ]
    },
    {
      "cell_type": "code",
      "metadata": {
        "colab": {
          "base_uri": "https://localhost:8080/"
        },
        "id": "aqbc-M3anLAy",
        "outputId": "1fc5996d-1b54-49e0-8f26-2396a76f13d2"
      },
      "source": [
        "import sys \n",
        "print (sys.version)"
      ],
      "execution_count": null,
      "outputs": [
        {
          "output_type": "stream",
          "name": "stdout",
          "text": [
            "3.7.12 (default, Sep 10 2021, 00:21:48) \n",
            "[GCC 7.5.0]\n"
          ]
        }
      ]
    },
    {
      "cell_type": "markdown",
      "metadata": {
        "id": "akgX3qilnLAz"
      },
      "source": [
        "3. Write a Python program to display the current date and time.\n",
        "Sample Output :\n",
        "Current date and time :\n",
        "2014-07-05 14:34:14"
      ]
    },
    {
      "cell_type": "code",
      "metadata": {
        "id": "cQYpPiNbnLAz",
        "outputId": "3b4de155-e2e4-4d83-a5ee-53e470e0b0c0"
      },
      "source": [
        "import datetime\n",
        "print(datetime.datetime.today())\n",
        "print (\"Current date and time : \")\n",
        "print (datetime.datetime.today().strftime(\"%Y-%m-%d %H:%M:%S\"))"
      ],
      "execution_count": null,
      "outputs": [
        {
          "name": "stdout",
          "output_type": "stream",
          "text": [
            "2021-09-26 19:43:27.614270\n",
            "Current date and time : \n",
            "2021-09-26 19:43:27\n"
          ]
        }
      ]
    },
    {
      "cell_type": "markdown",
      "metadata": {
        "id": "zYnUVgaCnLA0"
      },
      "source": [
        "5. Write a Python program which accepts the user's first and last name and print them in reverse order with a space between them."
      ]
    },
    {
      "cell_type": "code",
      "metadata": {
        "colab": {
          "base_uri": "https://localhost:8080/"
        },
        "id": "-Jn-dcQjnLA1",
        "outputId": "24daf122-d5e5-4fe8-ffee-10d5b33281a5"
      },
      "source": [
        "print(\"Kishore\")\n",
        "\n",
        "l=\"Kishore\"\n",
        "\n",
        "print(l[::-1])"
      ],
      "execution_count": null,
      "outputs": [
        {
          "output_type": "stream",
          "name": "stdout",
          "text": [
            "Kishore\n",
            "erohsiK\n"
          ]
        }
      ]
    },
    {
      "cell_type": "markdown",
      "metadata": {
        "id": "TiZuSyzSoO9L"
      },
      "source": [
        "6. Write a Python program which accepts a sequence of comma-separated numbers from user and generate a list and a tuple with those numbers.\n",
        "\n",
        "Sample data : 3, 5, 7, 23\n",
        "Output :\n",
        "List : ['3', ' 5', ' 7', ' 23']\n",
        "Tuple : ('3', ' 5', ' 7', ' 23')"
      ]
    },
    {
      "cell_type": "code",
      "metadata": {
        "id": "Ka4Vv7ZzoUrp",
        "colab": {
          "base_uri": "https://localhost:8080/"
        },
        "outputId": "aa98d09d-f386-4b65-8283-ddeac4f1eb77"
      },
      "source": [
        "values=input(\"gimme some nos with commas\")\n",
        "print(values)\n",
        "l=values.split(',')\n",
        "v=tuple(l)\n",
        "print(\"list : \",l)\n",
        "print(\"tuple: \",v)"
      ],
      "execution_count": null,
      "outputs": [
        {
          "output_type": "stream",
          "name": "stdout",
          "text": [
            "gimme some nos with commas1,4,5,7,8,9,0\n",
            "1,4,5,7,8,9,0\n",
            "list :  ['1', '4', '5', '7', '8', '9', '0']\n",
            "tuple:  ('1', '4', '5', '7', '8', '9', '0')\n"
          ]
        }
      ]
    },
    {
      "cell_type": "markdown",
      "metadata": {
        "id": "WVC_b7x9qNXK"
      },
      "source": [
        "7. Write a Python program to accept a filename from the user and print the extension of that\n",
        "\n",
        "Sample filename : abc.java\n",
        "\n",
        "Output : java"
      ]
    },
    {
      "cell_type": "code",
      "metadata": {
        "colab": {
          "base_uri": "https://localhost:8080/"
        },
        "id": "CSSaCMw0qNIw",
        "outputId": "25279934-8bb9-4835-e0aa-545dd6d80fd1"
      },
      "source": [
        "s=input(\"gimme filename with dot\")\n",
        "t=s.split('.')\n",
        "print(\"ext is \",t[1])"
      ],
      "execution_count": null,
      "outputs": [
        {
          "output_type": "stream",
          "name": "stdout",
          "text": [
            "gimme filename with dotdkkfdghf.txt\n",
            "ext is  txt\n"
          ]
        }
      ]
    },
    {
      "cell_type": "markdown",
      "metadata": {
        "id": "jYnkmuZvt75T"
      },
      "source": [
        "8. Write a Python program to display the first and last colors from the following list\n",
        "color_list = [\"Red\",\"Green\",\"White\" ,\"Black\"]\n"
      ]
    },
    {
      "cell_type": "code",
      "metadata": {
        "colab": {
          "base_uri": "https://localhost:8080/"
        },
        "id": "GdwTMclXpsN9",
        "outputId": "a20114c6-62b6-46c1-f6aa-ed0a64645afd"
      },
      "source": [
        "color_list = [\"Red\",\"Green\",\"White\" ,\"Black\"]\n",
        "\n",
        "print(\"first : \",color_list[0])\n",
        "print(\"last : \" , color_list[len(color_list)-1])"
      ],
      "execution_count": null,
      "outputs": [
        {
          "output_type": "stream",
          "name": "stdout",
          "text": [
            "first :  Red\n",
            "last :  Black\n"
          ]
        }
      ]
    },
    {
      "cell_type": "markdown",
      "metadata": {
        "id": "aqipcg8Q_RNp"
      },
      "source": [
        "9. Write a Python program to display the examination schedule. (extract the date from exam_st_date).\n",
        "\n",
        "\n",
        "exam_st_date = (11, 12, 2014)\n",
        "Sample Output : The examination will start from : 11 / 12 / 2014"
      ]
    },
    {
      "cell_type": "code",
      "metadata": {
        "id": "dXqgGY9p_WFR",
        "colab": {
          "base_uri": "https://localhost:8080/"
        },
        "outputId": "aefc3422-24d2-4abf-dbe0-a74cbfabd2f5"
      },
      "source": [
        "exam_st_date = (11, 12, 2014)\n",
        "\n",
        "l=list(exam_st_date)\n",
        "\n",
        "print('%i/%i/%i'%exam_st_date)"
      ],
      "execution_count": null,
      "outputs": [
        {
          "output_type": "stream",
          "name": "stdout",
          "text": [
            "11/12/2014\n"
          ]
        }
      ]
    },
    {
      "cell_type": "markdown",
      "metadata": {
        "id": "q0RaXb6yARKQ"
      },
      "source": [
        "10. Write a Python program that accepts an integer (n) and computes the value of n+nn+nnn.\n",
        "\n",
        "Sample value of n is 5\n",
        "Expected Result : 615"
      ]
    },
    {
      "cell_type": "code",
      "metadata": {
        "id": "JjShcTADwd7X",
        "outputId": "cd3c0236-1efa-4980-ffb1-0174488c0577",
        "colab": {
          "base_uri": "https://localhost:8080/"
        }
      },
      "source": [
        "a=input(\"fimme num\")\n",
        "\n",
        "n1 = int( \"%s\" % a )\n",
        "n2 = int( \"%s%s\" % (a,a) )\n",
        "n3 = int( \"%s%s%s\" % (a,a,a) )\n",
        "print (n1+n2+n3)\n"
      ],
      "execution_count": null,
      "outputs": [
        {
          "output_type": "stream",
          "name": "stdout",
          "text": [
            "fimme num5\n",
            "615\n"
          ]
        }
      ]
    },
    {
      "cell_type": "markdown",
      "metadata": {
        "id": "XZT6mYTpwYPo"
      },
      "source": [
        "11. Write a Python program to print the documents (syntax, description etc.) of Python built-in function(s).\n",
        "\n",
        "\n",
        "Sample function : abs()\n",
        "\n",
        "Expected Result :\n",
        "abs(number) -> number\n",
        "\n",
        "Return the absolute value of the argument."
      ]
    },
    {
      "cell_type": "code",
      "metadata": {
        "id": "Z2lqHd7iwemy",
        "outputId": "c670fd11-f41d-4f05-e1d1-98ea70100084",
        "colab": {
          "base_uri": "https://localhost:8080/"
        }
      },
      "source": [
        "print(abs(2.5))\n",
        "print(abs.__doc__)"
      ],
      "execution_count": null,
      "outputs": [
        {
          "output_type": "stream",
          "name": "stdout",
          "text": [
            "2.5\n",
            "Return the absolute value of the argument.\n"
          ]
        }
      ]
    },
    {
      "cell_type": "markdown",
      "metadata": {
        "id": "RIwKJ3uzwf6T"
      },
      "source": [
        "12. Write a Python program to print the calendar of a given month and year.\n",
        "Note : Use 'calendar' module."
      ]
    },
    {
      "cell_type": "code",
      "metadata": {
        "id": "lW9LvD4ywmdM",
        "outputId": "83a94bbb-ff9e-4201-961f-db44b4ba1954",
        "colab": {
          "base_uri": "https://localhost:8080/"
        }
      },
      "source": [
        "import calendar\n",
        "y = int(input(\"Input the year : \"))\n",
        "m = int(input(\"Input the month : \"))\n",
        "print(calendar.datetime)\n"
      ],
      "execution_count": null,
      "outputs": [
        {
          "output_type": "stream",
          "name": "stdout",
          "text": [
            "Input the year : 2068\n",
            "Input the month : 4\n",
            "<module 'datetime' from '/usr/lib/python3.7/datetime.py'>\n"
          ]
        }
      ]
    },
    {
      "cell_type": "markdown",
      "metadata": {
        "id": "cRLs35OZwmsp"
      },
      "source": [
        "13. Write a Python program to print the following 'here document'. Go to the editor\n",
        "Sample string :\n",
        "a string that you \"don't\" have to escape\n",
        "This\n",
        "is a ....... multi-line\n",
        "heredoc string --------> example"
      ]
    },
    {
      "cell_type": "code",
      "metadata": {
        "id": "9tvBGjqBwoG0"
      },
      "source": [
        ""
      ],
      "execution_count": null,
      "outputs": []
    },
    {
      "cell_type": "markdown",
      "metadata": {
        "id": "U5l5qBnCwoPP"
      },
      "source": [
        "14. Write a Python program to calculate number of days between two dates.\n",
        "Sample dates : (2014, 7, 2), (2014, 7, 11)\n",
        "Expected output : 9 days"
      ]
    },
    {
      "cell_type": "code",
      "metadata": {
        "id": "bsq6PUDlwrQ_"
      },
      "source": [
        ""
      ],
      "execution_count": null,
      "outputs": []
    },
    {
      "cell_type": "code",
      "metadata": {
        "id": "Ar4vjobxwtn5",
        "outputId": "6bbfa8dc-b7a4-4257-cb1f-16c6d1a328e1",
        "colab": {
          "base_uri": "https://localhost:8080/"
        }
      },
      "source": [
        "# 20. Write a Python program to get a string which is n (non-negative integer) copies of a given string\n",
        "\n",
        "\n",
        "c='Hello'\n",
        "print(c*5)"
      ],
      "execution_count": null,
      "outputs": [
        {
          "output_type": "stream",
          "name": "stdout",
          "text": [
            "HelloHelloHelloHelloHello\n"
          ]
        }
      ]
    },
    {
      "cell_type": "code",
      "source": [
        "# Input: nums = [1,2,3,4,5]\n",
        "# Output: 15\n",
        "# Explanation: The unique elements are [1,2,3,4,5], and the sum is 15.\n",
        "\n",
        "\n",
        "nums = [1,2,3,4,5]\n",
        "\n",
        "res=[]\n",
        "res_dict={}\n",
        "        \n",
        "for i in nums:\n",
        "  # if nums[i]==0:\n",
        "  if i not in res_dict:\n",
        "    res_dict[i]=1\n",
        "  else:\n",
        "    res_dict[i]+=1\n",
        "\n",
        "print(res_dict)\n",
        "\n",
        "\n",
        "# def anag(e):\n",
        "#   d={}\n",
        "#   c=e.replace(' ','').lower()\n",
        "#   for i in c:\n",
        "#     if i in d:\n",
        "#       d[i]+=1\n",
        "#     else:\n",
        "#       d[i] = 1\n",
        "#   return d\n",
        "\n",
        "# a='public relations'\n",
        "# b='crap built on lies'\n",
        "\n",
        "# if anag(a)==anag(b):\n",
        "#   print('yup')\n",
        "# else : \n",
        "  # print('nope')"
      ],
      "metadata": {
        "id": "O58fLoYQzef9",
        "outputId": "2f1c576e-35aa-4f6f-b031-3fd314b041b3",
        "colab": {
          "base_uri": "https://localhost:8080/"
        }
      },
      "execution_count": null,
      "outputs": [
        {
          "output_type": "stream",
          "name": "stdout",
          "text": [
            "{1: 1, 2: 1, 3: 1, 4: 1, 5: 1}\n"
          ]
        }
      ]
    },
    {
      "cell_type": "code",
      "source": [
        "# 14. Write a Python program to calculate number of days between two dates.\n",
        "# Sample dates : (2014, 7, 2), (2014, 7, 11)\n",
        "# Expected output : 9 days\n",
        "\n",
        "\n",
        "from datetime import date\n",
        "c=date(2018, 7, 2)-date(2014, 7,12)\n",
        "print(c.days)\n",
        "\n",
        "\n",
        "# f_date = date(2014, 7, 2)\n",
        "# l_date = date(2014, 7, 11)\n",
        "# delta = l_date - f_date\n",
        "# print(delta.days)"
      ],
      "metadata": {
        "id": "U0O53vzf678c",
        "outputId": "81623283-3c02-475f-8585-e8f644f97cb7",
        "colab": {
          "base_uri": "https://localhost:8080/"
        }
      },
      "execution_count": 4,
      "outputs": [
        {
          "output_type": "stream",
          "name": "stdout",
          "text": [
            "1451\n"
          ]
        }
      ]
    },
    {
      "cell_type": "code",
      "source": [
        ""
      ],
      "metadata": {
        "id": "5oR_f-Lp7Ylg"
      },
      "execution_count": null,
      "outputs": []
    }
  ]
}