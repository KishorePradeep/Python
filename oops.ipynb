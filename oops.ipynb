{
  "nbformat": 4,
  "nbformat_minor": 0,
  "metadata": {
    "colab": {
      "name": "oops.ipynb",
      "provenance": [],
      "authorship_tag": "ABX9TyMlwOWayGZkMXFg6zaaB4GT",
      "include_colab_link": true
    },
    "kernelspec": {
      "name": "python3",
      "display_name": "Python 3"
    },
    "language_info": {
      "name": "python"
    }
  },
  "cells": [
    {
      "cell_type": "markdown",
      "metadata": {
        "id": "view-in-github",
        "colab_type": "text"
      },
      "source": [
        "<a href=\"https://colab.research.google.com/github/KishorePradeep/Python/blob/master/oops.ipynb\" target=\"_parent\"><img src=\"https://colab.research.google.com/assets/colab-badge.svg\" alt=\"Open In Colab\"/></a>"
      ]
    },
    {
      "cell_type": "code",
      "execution_count": 3,
      "metadata": {
        "id": "B6LALbtWXN60",
        "outputId": "9563702d-f089-44be-9cd4-2efa1e802aee",
        "colab": {
          "base_uri": "https://localhost:8080/"
        }
      },
      "outputs": [
        {
          "output_type": "stream",
          "name": "stdout",
          "text": [
            "[1, 1, 2, 3, 4, 4]\n"
          ]
        }
      ],
      "source": [
        "def mergeTwoLists(list1, list2):\n",
        "  x=list1+list2\n",
        "  x.sort()\n",
        "        \n",
        "  return x\n",
        "\n",
        "list1=[1,2,4]\n",
        "list2=[1,3,4]\n",
        "\n",
        "print(mergeTwoLists(list1, list2))\n"
      ]
    }
  ]
}